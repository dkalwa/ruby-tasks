{
 "cells": [
  {
   "cell_type": "markdown",
   "metadata": {},
   "source": [
    "# Zapytania złożone"
   ]
  },
  {
   "cell_type": "markdown",
   "metadata": {},
   "source": [
    "Przed rozpoczęciem pracy konieczne jest skonfigurowanie bazy oraz załadowanie danych:\n",
    "```ruby\n",
    "$:.unshift \".\"\n",
    "require 'db_setup'\n",
    "require 'db_load'\n",
    "```"
   ]
  },
  {
   "cell_type": "code",
   "execution_count": 3,
   "metadata": {
    "collapsed": false
   },
   "outputs": [
    {
     "data": {
      "text/plain": [
       "false"
      ]
     },
     "execution_count": 3,
     "metadata": {},
     "output_type": "execute_result"
    }
   ],
   "source": [
    "$:.unshift \".\"\n",
    "require 'db_setup'\n",
    "require 'db_load'"
   ]
  },
  {
   "cell_type": "markdown",
   "metadata": {},
   "source": [
    "W dalszych zadaniach będzie wykonywać polecenia korzystając z następujących klas, zmapowanych na odpowiadające im \n",
    "table w bazie danych:\n",
    "```ruby\n",
    "class Author < ActiveRecord::Base\n",
    "  # name      (string)\n",
    "  # surname   (string)\n",
    "  # born      (datetime) \n",
    "  # died      (datetime)\n",
    "  # image_url (string)\n",
    "  \n",
    "  has_many :books\n",
    "end\n",
    "\n",
    "class Book < ActiveRecord::Base\n",
    "  # title     (string)\n",
    "  # author    (Author)\n",
    "  # published (integer)\n",
    "\n",
    "  belongs_to :author\n",
    "end\n",
    "```"
   ]
  },
  {
   "cell_type": "markdown",
   "metadata": {},
   "source": [
    "ActiveRecord udostępnia interfejs pozwalający wyszukiwać dane w bazie również z wykorzystaniem związków zdefiniowanych pomiędzy\n",
    "klasami. Do definiowania tych związków służą polecenia `has_many`, `belongs_to`, `has_one` oraz `has_and_belongs_to_many`.\n",
    "Przykładowo jeśli chcemy dowiedzieć się kto był autorem pierwszej książki wykonujemy zapytanie:\n",
    "```ruby\n",
    "book = Book.first\n",
    "puts book.title\n",
    "puts book.author\n",
    "```"
   ]
  },
  {
   "cell_type": "code",
   "execution_count": 4,
   "metadata": {
    "collapsed": false
   },
   "outputs": [
    {
     "name": "stdout",
     "output_type": "stream",
     "text": [
      "Végjáték (regény)\n",
      "#<Author:0x8e13734>\n"
     ]
    }
   ],
   "source": [
    "book = Book.first\n",
    "puts book.title\n",
    "puts book.author"
   ]
  },
  {
   "cell_type": "markdown",
   "metadata": {},
   "source": [
    "Niestety prezentowany wynik nie jest zbyt użyteczny. Ponieważ jednak metoda `author` zwraca obiekt, możemy na nim wywoływać \n",
    "metody - tak samo jak w przypadku autora załadowanego bezpośrednio z wykorzystaniem metod zdefiniowanych dla klasy `Author`\n",
    "```ruby\n",
    "book = Book.first\n",
    "puts book.title\n",
    "puts \"#{book.author.name} #{book.author.surname}\"\n",
    "```"
   ]
  },
  {
   "cell_type": "code",
   "execution_count": 3,
   "metadata": {
    "collapsed": false
   },
   "outputs": [
    {
     "name": "stdout",
     "output_type": "stream",
     "text": [
      "Végjáték (regény)\n",
      "Orson Scott Card\n"
     ]
    }
   ],
   "source": [
    "book = Book.first\n",
    "puts book.title\n",
    "puts \"#{book.author.name} #{book.author.surname}\""
   ]
  },
  {
   "cell_type": "markdown",
   "metadata": {},
   "source": [
    "Co więcej, jeśli mamy do czynienia ze związkiem jeden-do-wiele bądź wiele-do-wiele, możemy wywyływać wszystkie dotychczas poznane \n",
    "metody na kolekcji powiązanych obiektów. Istotnie ułatwia to wyszukiwanie potrzebnych danych:\n",
    "```ruby\n",
    "books = Book.where(\"title like 'A%'\")\n",
    "books.each do |book|\n",
    "  puts book.title\n",
    "end\n",
    "\n",
    "author = Author.where(surname: \"Tołstoj\").first\n",
    "books = author.books.where(\"title like 'A%'\")\n",
    "books.each do |book|\n",
    "  puts book.title\n",
    "end\n",
    "```"
   ]
  },
  {
   "cell_type": "code",
   "execution_count": 85,
   "metadata": {
    "collapsed": false
   },
   "outputs": [
    {
     "ename": "SyntaxError",
     "evalue": "<main>:2: syntax error, unexpected keyword_end, expecting end-of-input",
     "output_type": "error",
     "traceback": [
      "\u001b[31mSyntaxError\u001b[0m: <main>:2: syntax error, unexpected keyword_end, expecting end-of-input",
      "\u001b[37m/usr/share/rvm/gems/ruby-2.2.3/gems/iruby-0.2.7/lib/iruby/backend.rb:44:in `eval'\u001b[0m",
      "\u001b[37m/usr/share/rvm/gems/ruby-2.2.3/gems/iruby-0.2.7/lib/iruby/backend.rb:44:in `eval'\u001b[0m",
      "\u001b[37m/usr/share/rvm/gems/ruby-2.2.3/gems/iruby-0.2.7/lib/iruby/backend.rb:12:in `eval'\u001b[0m",
      "\u001b[37m/usr/share/rvm/gems/ruby-2.2.3/gems/iruby-0.2.7/lib/iruby/kernel.rb:87:in `execute_request'\u001b[0m",
      "\u001b[37m/usr/share/rvm/gems/ruby-2.2.3/gems/iruby-0.2.7/lib/iruby/kernel.rb:47:in `dispatch'\u001b[0m",
      "\u001b[37m/usr/share/rvm/gems/ruby-2.2.3/gems/iruby-0.2.7/lib/iruby/kernel.rb:37:in `run'\u001b[0m",
      "\u001b[37m/usr/share/rvm/gems/ruby-2.2.3/gems/iruby-0.2.7/lib/iruby/command.rb:70:in `run_kernel'\u001b[0m",
      "\u001b[37m/usr/share/rvm/gems/ruby-2.2.3/gems/iruby-0.2.7/lib/iruby/command.rb:34:in `run'\u001b[0m",
      "\u001b[37m/usr/share/rvm/gems/ruby-2.2.3/gems/iruby-0.2.7/bin/iruby:5:in `<top (required)>'\u001b[0m",
      "\u001b[37m/usr/share/rvm/gems/ruby-2.2.3/bin/iruby:23:in `load'\u001b[0m",
      "\u001b[37m/usr/share/rvm/gems/ruby-2.2.3/bin/iruby:23:in `<main>'\u001b[0m",
      "\u001b[37m/usr/share/rvm/gems/ruby-2.2.3/bin/ruby_executable_hooks:15:in `eval'\u001b[0m",
      "\u001b[37m/usr/share/rvm/gems/ruby-2.2.3/bin/ruby_executable_hooks:15:in `<main>'\u001b[0m"
     ]
    }
   ],
   "source": [
    "author = Author.where(surname: \"Lem\").first\n",
    "puts author.died\n",
    "end"
   ]
  },
  {
   "cell_type": "markdown",
   "metadata": {},
   "source": [
    "Różnica pomiędzy tymi zapytaniami polega na tym, że w pierwszym przypadku szukamy książki, których tytuł zaczyna się na \"A\" \n",
    "w całym zbiorze książek, a w drugi przypadku wśród książek napisanych przez Tołstoja."
   ]
  },
  {
   "cell_type": "markdown",
   "metadata": {},
   "source": [
    "Aby umożliwić formatowanie wyników zapytania, IRuby udostępnia metodę `IRuby.html`, która pozwala na wyświetlanie kodu\n",
    "HTML. Przykładowo\n",
    "```ruby\n",
    "IRuby.html \"<h1>Test HTML-a</h1>\"\n",
    "```"
   ]
  },
  {
   "cell_type": "code",
   "execution_count": 7,
   "metadata": {
    "collapsed": false
   },
   "outputs": [
    {
     "data": {
      "text/html": [
       "<h1>Test HTML-a</h1>"
      ],
      "text/plain": [
       "\"<h1>Test HTML-a</h1>\""
      ]
     },
     "execution_count": 7,
     "metadata": {},
     "output_type": "execute_result"
    }
   ],
   "source": [
    "IRuby.html \"<h1>Test HTML-a</h1>\""
   ]
  },
  {
   "cell_type": "markdown",
   "metadata": {},
   "source": [
    "Dzięki temu będziemy mogli formatować wyniki zapytań, a wszczególności wyświetlać obrazy przedstwiające autorów oraz książki. \n",
    "Należy jednak wziąć pod uwagę, że nie wszystkie książki oraz nie wszyscy autorzy posiadają odpowiadające im obrazki.\n",
    "Aby wyświetlić imię, nazwisko oraz obraz pierwszego autora piszemy:\n",
    "```ruby\n",
    "author = Author.where(\"image_url is not null\").first\n",
    "IRuby.html \"<h1>#{author.name} #{author.surname}</h1><img src='#{author.image_url}'/>\"\n",
    "```"
   ]
  },
  {
   "cell_type": "code",
   "execution_count": 8,
   "metadata": {
    "collapsed": false
   },
   "outputs": [
    {
     "data": {
      "text/html": [
       "<h1>Orson Scott Card</h1><img src='http://commons.wikimedia.org/wiki/Special:FilePath/Orson_Scott_Card_at_BYU_Symposium_20080216_closeup.jpg?width=300'/>"
      ],
      "text/plain": [
       "\"<h1>Orson Scott Card</h1><img src='http://commons.wikimedia.org/wiki/Special:FilePath/Orson_Scott_Card_at_BYU_Symposium_20080216_closeup.jpg?width=300'/>\""
      ]
     },
     "execution_count": 8,
     "metadata": {},
     "output_type": "execute_result"
    }
   ],
   "source": [
    "author = Author.where(\"image_url is not null\").first\n",
    "IRuby.html \"<h1>#{author.name} #{author.surname}</h1><img src='#{author.image_url}'/>\""
   ]
  },
  {
   "cell_type": "markdown",
   "metadata": {},
   "source": [
    "Możemy również zdefniować funkcję, np. `display_author`, której zadaniem będzie wyświetlenie autora w tej postaci. \n",
    "Jedyny problem polega na tym, że funkcja `IRuby.html` może być wywoływana tylko raz. Dlatego jeśli chcemy wyświetlić kilku autorów,\n",
    "musimy połączyć odpowiadające im kody HTML i wynik przekazać do funkcji `html`\n",
    "```ruby\n",
    "def display_author(author)\n",
    "  \"<h1>#{author.name} #{author.surname}</h1><img src='#{author.image_url}'/>\"\n",
    "end\n",
    "\n",
    "author_1 = Author.where(\"image_url is not null\").first\n",
    "author_2 = Author.where(\"image_url is not null\").offset(1).first\n",
    "document = display_author(author_1)\n",
    "document += display_author(author_2)\n",
    "IRuby.html document\n",
    "```"
   ]
  },
  {
   "cell_type": "code",
   "execution_count": 34,
   "metadata": {
    "collapsed": false
   },
   "outputs": [
    {
     "data": {
      "text/html": [
       "<h1>Orson Scott Card</h1><img src='http://commons.wikimedia.org/wiki/Special:FilePath/Orson_Scott_Card_at_BYU_Symposium_20080216_closeup.jpg?width=300'/><h1>Andrzej Sapkowski</h1><img src='http://commons.wikimedia.org/wiki/Special:FilePath/Sapkowski.jpg?width=300'/>"
      ],
      "text/plain": [
       "\"<h1>Orson Scott Card</h1><img src='http://commons.wikimedia.org/wiki/Special:FilePath/Orson_Scott_Card_at_BYU_Symposium_20080216_closeup.jpg?width=300'/><h1>Andrzej Sapkowski</h1><img src='http://commons.wikimedia.org/wiki/Special:FilePath/Sapkowski.jpg?width=300'/>\""
      ]
     },
     "execution_count": 34,
     "metadata": {},
     "output_type": "execute_result"
    }
   ],
   "source": [
    "def display_author(author)\n",
    "  \"<h1>#{author.name} #{author.surname}</h1><img src='#{author.image_url}'/>\"\n",
    "end\n",
    "\n",
    "author_1 = Author.where(\"image_url is not null\").first\n",
    "author_2 = Author.where(\"image_url is not null\").offset(1).first\n",
    "document = display_author(author_1)\n",
    "document += display_author(author_2)\n",
    "IRuby.html document"
   ]
  },
  {
   "cell_type": "markdown",
   "metadata": {},
   "source": [
    "## Zadania"
   ]
  },
  {
   "cell_type": "markdown",
   "metadata": {},
   "source": [
    "### Zadanie 1"
   ]
  },
  {
   "cell_type": "markdown",
   "metadata": {},
   "source": [
    "Wyświetl wszystkich autorów, którzy urodzili się przed rokiem 1900."
   ]
  },
  {
   "cell_type": "code",
   "execution_count": 24,
   "metadata": {
    "collapsed": false
   },
   "outputs": [
    {
     "name": "stdout",
     "output_type": "stream",
     "text": [
      "Słowacki\n",
      "Sienkiewicz\n",
      "Orzeszkowa\n",
      "Mickiewicz\n",
      "London\n",
      "Kopernik\n",
      "Kozłowska\n",
      "Szekspir\n",
      "Tolkien\n",
      "(ojciec)\n",
      "Dołęga-Mostowicz\n",
      "Nabokov\n",
      "Hitler\n",
      "Chmielowski\n",
      "Huxley\n",
      "Balzac\n",
      "Kafka\n",
      "Lovecraft\n",
      "Tołstoj\n",
      "Ilf\n",
      "Zapolska\n",
      "Lewis\n",
      "Turgieniew\n",
      "Montgomery\n",
      "Majkowski\n"
     ]
    },
    {
     "data": {
      "text/plain": [
       "[#<Author id: 2, name: \"Juliusz\", surname: \"Słowacki\", born: \"1809-09-04\", died: \"1849-04-03\", image_url: nil>, #<Author id: 3, name: \"Henryk\", surname: \"Sienkiewicz\", born: \"1846-05-05\", died: \"1916-11-15\", image_url: nil>, #<Author id: 4, name: \"Eliza\", surname: \"Orzeszkowa\", born: \"1841-06-06\", died: \"1910-05-18\", image_url: nil>, #<Author id: 5, name: \"Adam\", surname: \"Mickiewicz\", born: \"1798-12-24\", died: \"1855-11-26\", image_url: nil>, #<Author id: 9, name: \"Jack\", surname: \"London\", born: \"1876-01-12\", died: \"1916-11-22\", image_url: \"http://commons.wikimedia.org/wiki/Special:FilePath...\">, #<Author id: 13, name: \"Mikołaj\", surname: \"Kopernik\", born: \"1473-02-19\", died: \"1543-05-24\", image_url: \"http://commons.wikimedia.org/wiki/Special:FilePath...\">, #<Author id: 14, name: \"Maria Franciszka\", surname: \"Kozłowska\", born: \"1862-05-27\", died: nil, image_url: \"http://commons.wikimedia.org/wiki/Special:FilePath...\">, #<Author id: 16, name: \"William\", surname: \"Szekspir\", born: \"1564-04-23\", died: \"1616-05-03\", image_url: \"http://commons.wikimedia.org/wiki/Special:FilePath...\">, #<Author id: 18, name: \"John Ronald Reuel\", surname: \"Tolkien\", born: \"1892-01-03\", died: \"1973-09-02\", image_url: \"http://commons.wikimedia.org/wiki/Special:FilePath...\">, #<Author id: 19, name: \"Aleksander Dumas\", surname: \"(ojciec)\", born: \"1802-07-24\", died: \"1870-12-05\", image_url: \"http://commons.wikimedia.org/wiki/Special:FilePath...\">, #<Author id: 20, name: \"Tadeusz\", surname: \"Dołęga-Mostowicz\", born: \"1898-08-10\", died: \"1939-09-20\", image_url: \"http://commons.wikimedia.org/wiki/Special:FilePath...\">, #<Author id: 21, name: \"Vladimir\", surname: \"Nabokov\", born: \"1899-04-22\", died: \"1977-07-02\", image_url: \"http://commons.wikimedia.org/wiki/Special:FilePath...\">, #<Author id: 22, name: \"Adolf\", surname: \"Hitler\", born: \"1889-04-20\", died: \"1945-04-30\", image_url: \"http://commons.wikimedia.org/wiki/Special:FilePath...\">, #<Author id: 24, name: \"Benedykt\", surname: \"Chmielowski\", born: \"1700-03-20\", died: \"1763-04-07\", image_url: \"http://commons.wikimedia.org/wiki/Special:FilePath...\">, #<Author id: 25, name: \"Aldous\", surname: \"Huxley\", born: \"1894-07-26\", died: \"1963-11-22\", image_url: \"http://commons.wikimedia.org/wiki/Special:FilePath...\">, #<Author id: 26, name: \"Honoré de\", surname: \"Balzac\", born: \"1799-05-20\", died: \"1850-08-18\", image_url: \"http://commons.wikimedia.org/wiki/Special:FilePath...\">, #<Author id: 27, name: \"Franz\", surname: \"Kafka\", born: \"1883-07-03\", died: \"1924-06-03\", image_url: \"http://commons.wikimedia.org/wiki/Special:FilePath...\">, #<Author id: 29, name: \"Howard Phillips\", surname: \"Lovecraft\", born: \"1890-08-20\", died: \"1937-03-15\", image_url: \"http://commons.wikimedia.org/wiki/Special:FilePath...\">, #<Author id: 31, name: \"Lew\", surname: \"Tołstoj\", born: \"1828-09-09\", died: \"1910-11-20\", image_url: \"http://commons.wikimedia.org/wiki/Special:FilePath...\">, #<Author id: 36, name: \"Ilja\", surname: \"Ilf\", born: \"1897-10-15\", died: \"1937-04-13\", image_url: \"http://commons.wikimedia.org/wiki/Special:FilePath...\">, #<Author id: 38, name: \"Gabriela\", surname: \"Zapolska\", born: \"1857-03-30\", died: \"1921-12-17\", image_url: \"http://commons.wikimedia.org/wiki/Special:FilePath...\">, #<Author id: 41, name: \"Clive Staples\", surname: \"Lewis\", born: \"1898-11-29\", died: \"1963-11-22\", image_url: \"http://commons.wikimedia.org/wiki/Special:FilePath...\">, #<Author id: 44, name: \"Iwan\", surname: \"Turgieniew\", born: \"1818-11-09\", died: \"1883-09-03\", image_url: \"http://commons.wikimedia.org/wiki/Special:FilePath...\">, #<Author id: 47, name: \"Lucy Maud\", surname: \"Montgomery\", born: \"1874-11-30\", died: \"1942-04-24\", image_url: \"http://commons.wikimedia.org/wiki/Special:FilePath...\">, #<Author id: 53, name: \"Aleksander\", surname: \"Majkowski\", born: \"1876-07-17\", died: \"1938-02-10\", image_url: \"http://commons.wikimedia.org/wiki/Special:FilePath...\">]"
      ]
     },
     "execution_count": 24,
     "metadata": {},
     "output_type": "execute_result"
    }
   ],
   "source": [
    "authors = Author.where(born: (Date.parse(\"100-1-1\")..Date.parse(\"1899-12-31\")))\n",
    "authors.each do |author|\n",
    "  puts author.surname\n",
    "end"
   ]
  },
  {
   "cell_type": "markdown",
   "metadata": {},
   "source": [
    "### Zadanie 2"
   ]
  },
  {
   "cell_type": "markdown",
   "metadata": {},
   "source": [
    "Zmodyfikuj funkcję wyświetlającą autorów tak aby obejmowała ich datę urodzin i śmierci w formacie `dzień.miesiąc.rok`. Następnie wyświetl wszystkich autorów,\n",
    "którzy zmarli w XX wieku."
   ]
  },
  {
   "cell_type": "code",
   "execution_count": 6,
   "metadata": {
    "collapsed": false
   },
   "outputs": [
    {
     "name": "stdout",
     "output_type": "stream",
     "text": [
      "(ojciec) data urodzenia: 24-07-1802 data śmierci: 05-12-1870\n",
      "Balzac data urodzenia: 20-05-1799 data śmierci: 18-08-1850\n",
      "Mickiewicz data urodzenia: 24-12-1798 data śmierci: 26-11-1855\n",
      "Turgieniew data urodzenia: 09-11-1818 data śmierci: 03-09-1883\n"
     ]
    },
    {
     "data": {
      "text/plain": [
       "[#<Author id: 13, name: \"Aleksander Dumas\", surname: \"(ojciec)\", born: \"1802-07-24\", died: \"1870-12-05\", image_url: \"http://commons.wikimedia.org/wiki/Special:FilePath...\">, #<Author id: 22, name: \"Honoré de\", surname: \"Balzac\", born: \"1799-05-20\", died: \"1850-08-18\", image_url: \"http://commons.wikimedia.org/wiki/Special:FilePath...\">, #<Author id: 38, name: \"Adam\", surname: \"Mickiewicz\", born: \"1798-12-24\", died: \"1855-11-26\", image_url: \"http://commons.wikimedia.org/wiki/Special:FilePath...\">, #<Author id: 41, name: \"Iwan\", surname: \"Turgieniew\", born: \"1818-11-09\", died: \"1883-09-03\", image_url: \"http://commons.wikimedia.org/wiki/Special:FilePath...\">]"
      ]
     },
     "execution_count": 6,
     "metadata": {},
     "output_type": "execute_result"
    }
   ],
   "source": [
    "authors = Author.where(died: (Date.parse(\"1800-1-1\")..Date.parse(\"1899-12-31\")))\n",
    "authors.each do |author|\n",
    "  puts \"#{author.surname} data urodzenia: #{author.born.strftime(\"%d-%m-%Y\")} data śmierci: #{author.died.strftime(\"%d-%m-%Y\")}\"\n",
    "end"
   ]
  },
  {
   "cell_type": "markdown",
   "metadata": {},
   "source": [
    "### Zadanie 3"
   ]
  },
  {
   "cell_type": "markdown",
   "metadata": {},
   "source": [
    "Wyświetl 5 najmłodszych autorów, którzy posiadają przypisane zdjęcie."
   ]
  },
  {
   "cell_type": "code",
   "execution_count": 16,
   "metadata": {
    "collapsed": false
   },
   "outputs": [
    {
     "name": "stdout",
     "output_type": "stream",
     "text": [
      "Pilipiuk \n",
      "Rowling \n",
      "Ziemkiewicz \n",
      "Akunin \n",
      "Card \n"
     ]
    },
    {
     "data": {
      "text/plain": [
       "[#<Author id: 39, name: \"Andrzej\", surname: \"Pilipiuk\", born: \"1974-03-20\", died: nil, image_url: \"http://commons.wikimedia.org/wiki/Special:FilePath...\">, #<Author id: 11, name: \"J. K.\", surname: \"Rowling\", born: \"1965-07-31\", died: nil, image_url: \"http://commons.wikimedia.org/wiki/Special:FilePath...\">, #<Author id: 48, name: \"Rafał A.\", surname: \"Ziemkiewicz\", born: \"1964-09-13\", died: nil, image_url: \"http://commons.wikimedia.org/wiki/Special:FilePath...\">, #<Author id: 28, name: \"Boris\", surname: \"Akunin\", born: \"1956-05-20\", died: nil, image_url: \"http://commons.wikimedia.org/wiki/Special:FilePath...\">, #<Author id: 1, name: \"Orson Scott\", surname: \"Card\", born: \"1951-08-24\", died: nil, image_url: \"http://commons.wikimedia.org/wiki/Special:FilePath...\">]"
      ]
     },
     "execution_count": 16,
     "metadata": {},
     "output_type": "execute_result"
    }
   ],
   "source": [
    "authors = Author.where(\"image_url is not null\").order(:born).reverse_order\n",
    "authors.limit(5).each do |author|\n",
    "  puts \"#{author.surname} \"\n",
    "end"
   ]
  },
  {
   "cell_type": "markdown",
   "metadata": {},
   "source": [
    "### Zadanie 4"
   ]
  },
  {
   "cell_type": "markdown",
   "metadata": {},
   "source": [
    "Zdefiniuj funkcję `display_book`, która będzie zwracała fragment kodu HTML obejmujący tytuł książki, rok jej wydania oraz\n",
    "przypisany obrazek.\n",
    "Wyświetl najwcześniej wydaną książkę."
   ]
  },
  {
   "cell_type": "code",
   "execution_count": 39,
   "metadata": {
    "collapsed": false
   },
   "outputs": [
    {
     "name": "stdout",
     "output_type": "stream",
     "text": [
      "\n"
     ]
    },
    {
     "data": {
      "text/html": [
       "<p>Rasa drapieżców. Teksty ostatnie<br>2006</p><img src='http://commons.wikimedia.org/wiki/Special:FilePath/Stanislaw_Lem_2.jpg?width=300'/>"
      ],
      "text/plain": [
       "\"<p>Rasa drapieżców. Teksty ostatnie<br>2006</p><img src='http://commons.wikimedia.org/wiki/Special:FilePath/Stanislaw_Lem_2.jpg?width=300'/>\""
      ]
     },
     "execution_count": 39,
     "metadata": {},
     "output_type": "execute_result"
    }
   ],
   "source": [
    "books = Book.all.order(:published).reverse_order\n",
    "puts books.first.image_url\n",
    "IRuby.html \"<p>#{books.first.title}<br>#{books.first.published}</p><img src='#{books.first.author.image_url}'/>\""
   ]
  },
  {
   "cell_type": "markdown",
   "metadata": {},
   "source": [
    "### Zadanie 5"
   ]
  },
  {
   "cell_type": "markdown",
   "metadata": {},
   "source": [
    "Wyświetl wszystkie książki, które nie mają przypisanego roku wydania."
   ]
  },
  {
   "cell_type": "code",
   "execution_count": 18,
   "metadata": {
    "collapsed": false
   },
   "outputs": [
    {
     "name": "stdout",
     "output_type": "stream",
     "text": [
      "Végjáték (regény) \n",
      "Hamlet \n"
     ]
    },
    {
     "data": {
      "text/plain": [
       "[#<Book id: 1, title: \"Végjáték (regény)\", language: nil, author_id: 1, published: nil, image_url: nil>, #<Book id: 10, title: \"Hamlet\", language: nil, author_id: 10, published: nil, image_url: \"http://commons.wikimedia.org/wiki/Special:FilePath...\">]"
      ]
     },
     "execution_count": 18,
     "metadata": {},
     "output_type": "execute_result"
    }
   ],
   "source": [
    "books = Book.where(published: nil)\n",
    "books.each do |book|\n",
    "  puts \"#{book.title} \"\n",
    "end"
   ]
  },
  {
   "cell_type": "markdown",
   "metadata": {},
   "source": [
    "### Zadanie 6"
   ]
  },
  {
   "cell_type": "markdown",
   "metadata": {},
   "source": [
    "Zmodyfikuj funkcję `display_author` tak, aby wyświetlała również wszystkie książki napisane przez autora. Użyj znacznika `<ul>`.\n",
    "Korzystając z tej funkcji wyświetl opis Stanisława Lema."
   ]
  },
  {
   "cell_type": "code",
   "execution_count": 38,
   "metadata": {
    "collapsed": false
   },
   "outputs": [
    {
     "data": {
      "text/html": [
       "<h1>Stanisław Lem</h1><img src='http://commons.wikimedia.org/wiki/Special:FilePath/Stanislaw_Lem_2.jpg?width=300'/><ul><li>Bajki robotów</li><li>Solaris (powieść)</li><li>Bezsenność (zbiór opowiadań)</li><li>Głos Pana</li><li>Inwazja z Aldebarana (zbiór opowiadań)</li><li>Katar (powieść)</li><li>Księga robotów</li><li>Maska (zbiór dzieł)</li><li>Niezwyciężony i inne opowiadania</li><li>Noc księżycowa</li><li>Pamiętnik znaleziony w wannie</li><li>Polowanie (zbiór opowiadań)</li><li>Powtórka (zbiór dzieł)</li><li>Pożytek ze smoka</li><li>Rasa drapieżców. Teksty ostatnie</li><li>Sezam i inne opowiadania</li><li>Summa technologiae</li><li>Wizja lokalna (powieść)</li></ul>"
      ],
      "text/plain": [
       "\"<h1>Stanisław Lem</h1><img src='http://commons.wikimedia.org/wiki/Special:FilePath/Stanislaw_Lem_2.jpg?width=300'/><ul><li>Bajki robotów</li><li>Solaris (powieść)</li><li>Bezsenność (zbiór opowiadań)</li><li>Głos Pana</li><li>Inwazja z Aldebarana (zbiór opowiadań)</li><li>Katar (powieść)</li><li>Księga robotów</li><li>Maska (zbiór dzieł)</li><li>Niezwyciężony i inne opowiadania</li><li>Noc księżycowa</li><li>Pamiętnik znaleziony w wannie</li><li>Polowanie (zbiór opowiadań)</li><li>Powtórka (zbiór dzieł)</li><li>Pożytek ze smoka</li><li>Rasa drapieżców. Teksty ostatnie</li><li>Sezam i inne opowiadania</li><li>Summa technologiae</li><li>Wizja lokalna (powieść)</li></ul>\""
      ]
     },
     "execution_count": 38,
     "metadata": {},
     "output_type": "execute_result"
    }
   ],
   "source": [
    "def display_author (nazwisko)\n",
    "  authors=Author.where(surname: nazwisko).first\n",
    "  document =\"<h1>#{authors.name} #{authors.surname}</h1><img src='#{authors.image_url}'/>\"\n",
    "  document +=\"<ul>\"\n",
    "  books= Book.where(author: authors)\n",
    "    books.each do |book|\n",
    "      document+=\"<li>#{book.title}</li>\"\n",
    "    end\n",
    "  document+=\"</ul>\"\n",
    "  \n",
    "    end\n",
    "IRuby.html  display_author(\"Lem\")"
   ]
  },
  {
   "cell_type": "markdown",
   "metadata": {},
   "source": [
    "### Zadanie 7"
   ]
  },
  {
   "cell_type": "markdown",
   "metadata": {},
   "source": [
    "Wśród książek napisanych przez Lema wyświetl wszystkie, które zawieraja w tytule słowo \"zbiór\"."
   ]
  },
  {
   "cell_type": "code",
   "execution_count": 79,
   "metadata": {
    "collapsed": false
   },
   "outputs": [
    {
     "name": "stdout",
     "output_type": "stream",
     "text": [
      "Bezsenność (zbiór opowiadań)\n",
      "Inwazja z Aldebarana (zbiór opowiadań)\n",
      "Maska (zbiór dzieł)\n",
      "Polowanie (zbiór opowiadań)\n",
      "Powtórka (zbiór dzieł)\n"
     ]
    },
    {
     "data": {
      "text/plain": [
       "[#<Book id: 35, title: \"Bezsenność (zbiór opowiadań)\", language: nil, author_id: 5, published: 1971, image_url: nil>, #<Book id: 48, title: \"Inwazja z Aldebarana (zbiór opowiadań)\", language: nil, author_id: 5, published: 1959, image_url: nil>, #<Book id: 62, title: \"Maska (zbiór dzieł)\", language: nil, author_id: 5, published: 1976, image_url: nil>, #<Book id: 69, title: \"Polowanie (zbiór opowiadań)\", language: nil, author_id: 5, published: 1965, image_url: nil>, #<Book id: 70, title: \"Powtórka (zbiór dzieł)\", language: nil, author_id: 5, published: 1979, image_url: nil>]"
      ]
     },
     "execution_count": 79,
     "metadata": {},
     "output_type": "execute_result"
    }
   ],
   "source": [
    "authors=Author.where(surname: 'Lem').first\n",
    "books= Book.where(author: authors).where(\"title LIKE'%zbiór%'\")\n",
    "    books.each do |book|\n",
    "      puts book.title\n",
    "    end\n",
    "  "
   ]
  },
  {
   "cell_type": "markdown",
   "metadata": {},
   "source": [
    "### Zadanie 8"
   ]
  },
  {
   "cell_type": "markdown",
   "metadata": {},
   "source": [
    "Wśród książek napisanych przez Lema wyświetl te, które zostały wydane w roku jego śmierci."
   ]
  },
  {
   "cell_type": "code",
   "execution_count": 87,
   "metadata": {
    "collapsed": false
   },
   "outputs": [
    {
     "name": "stdout",
     "output_type": "stream",
     "text": [
      "Rasa drapieżców. Teksty ostatnie\n"
     ]
    },
    {
     "data": {
      "text/plain": [
       "[#<Book id: 74, title: \"Rasa drapieżców. Teksty ostatnie\", language: nil, author_id: 5, published: 2006, image_url: nil>]"
      ]
     },
     "execution_count": 87,
     "metadata": {},
     "output_type": "execute_result"
    }
   ],
   "source": [
    "authors=Author.where(surname: 'Lem').first\n",
    "books= Book.where(author: authors).where(published: authors.died.year)\n",
    "    books.each do |book|\n",
    "      puts book.title\n",
    "    end"
   ]
  },
  {
   "cell_type": "markdown",
   "metadata": {},
   "source": [
    "### Zadanie 9"
   ]
  },
  {
   "cell_type": "markdown",
   "metadata": {},
   "source": [
    "Wyświetl wszystkie książki znajdujące się w bazie. Opis powinien zawierać tytuł, imię i nazwisko autora, rok wydania oraz \n",
    "obraz przedstawiający książkę (o ile istnieje)."
   ]
  },
  {
   "cell_type": "code",
   "execution_count": 112,
   "metadata": {
    "collapsed": false
   },
   "outputs": [
    {
     "name": "stderr",
     "output_type": "stream",
     "text": [
      "<main>:6: warning: string literal in condition\n"
     ]
    },
    {
     "data": {
      "text/html": [
       "Czas patriotów (powieść) - Tom Clancy - 1987<img src='http://commons.wikimedia.org/wiki/Special:FilePath/Tom_Clancy_at_Burns_Library_cropped.jpg?width=300>Végjáték (regény) - Orson Scott Card - <img src='http://commons.wikimedia.org/wiki/Special:FilePath/Orson_Scott_Card_at_BYU_Symposium_20080216_closeup.jpg?width=300>Pani Jeziora (powieść) - Andrzej Sapkowski - 1999<img src='http://commons.wikimedia.org/wiki/Special:FilePath/Sapkowski.jpg?width=300>Bellew Zawierucha - Jack London - 1912<img src='http://commons.wikimedia.org/wiki/Special:FilePath/JackLondon02.jpeg?width=300>Fałszywy trop (powieść) - Henning Mankell - 1995<img src='http://commons.wikimedia.org/wiki/Special:FilePath/Henning_Mankell_3_2011_Shankbone.jpg?width=300>Bajki robotów - Stanisław Lem - 1964<img src='http://commons.wikimedia.org/wiki/Special:FilePath/Stanislaw_Lem_2.jpg?width=300>Bolesław Chrobry (powieść) - Antoni Gołubiew - 1947<img src='http://commons.wikimedia.org/wiki/Special:FilePath/Antoni_Golubiew.jpg?width=300>De revolutionibus orbium coelestium - Mikołaj Kopernik - 1543<img src='http://commons.wikimedia.org/wiki/Special:FilePath/Nikolaus_Kopernikus.jpg?width=300>Dzieło Wielkiego Miłosierdzia - Maria Franciszka Kozłowska - 1922<img src='http://commons.wikimedia.org/wiki/Special:FilePath/Mateczk_Kozłowska.JPG?width=300>Folwark zwierzęcy - George Orwell - 1945<img src='http://commons.wikimedia.org/wiki/Special:FilePath/GeoreOrwell.jpg?width=300>Hamlet - William Szekspir - <img src='http://commons.wikimedia.org/wiki/Special:FilePath/Shakespeare.jpg?width=300>Harry Potter - J. K. Rowling - 1997<img src='http://commons.wikimedia.org/wiki/Special:FilePath/J._K._Rowling_2010.jpg?width=300>Hobbit, czyli tam i z powrotem - John Ronald Reuel Tolkien - 1937<img src='http://commons.wikimedia.org/wiki/Special:FilePath/Tolkien_1916.jpg?width=300>Hrabia Monte Christo - Aleksander Dumas (ojciec) - 1844<img src='http://commons.wikimedia.org/wiki/Special:FilePath/Dumas_by_Nadar,_1855.jpg?width=300>Kariera Nikodema Dyzmy - Tadeusz Dołęga-Mostowicz - 1932<img src='http://commons.wikimedia.org/wiki/Special:FilePath/Tadeusz_Dolega-Mostowicz.jpg?width=300>Krzyżacy (powieść) - Henryk Sienkiewicz - 1900<img src='http://commons.wikimedia.org/wiki/Special:FilePath/Henryk_Sienkiewicz.PNG?width=300>Lolita - Vladimir Nabokov - 1955<img src='http://commons.wikimedia.org/wiki/Special:FilePath/Monument_Nabokov_Montreux_23.12.2006.jpg?width=300>Mein Kampf - Adolf Hitler - 1925<img src='http://commons.wikimedia.org/wiki/Special:FilePath/Hitler_portrait_crop.jpg?width=300>Nad Niemnem - Eliza Orzeszkowa - 1888<img src='http://commons.wikimedia.org/wiki/Special:FilePath/Eliza_Orzeszkowa.PNG?width=300>Niedokończone opowieści - Christopher Tolkien - 1980<img src='>Nowe Ateny - Benedykt Chmielowski - 1745<img src='http://commons.wikimedia.org/wiki/Special:FilePath/POL_COA_Nałęcz.svg?width=300>Nowy wspaniały świat - Aldous Huxley - 1932<img src='http://commons.wikimedia.org/wiki/Special:FilePath/Aldous_Huxley.JPG?width=300>Ogniem i mieczem - Henryk Sienkiewicz - 1884<img src='http://commons.wikimedia.org/wiki/Special:FilePath/Henryk_Sienkiewicz.PNG?width=300>Ojciec Goriot - Honoré de Balzac - 1835<img src='http://commons.wikimedia.org/wiki/Special:FilePath/HBalzac.jpg?width=300>Proces (powieść) - Franz Kafka - 1925<img src='http://commons.wikimedia.org/wiki/Special:FilePath/Kafka1906.jpg?width=300>Psałterz Dawidów - Jan Kochanowski - 1579<img src='http://commons.wikimedia.org/wiki/Special:FilePath/Jan_Kochanowski.png?width=300>Quo vadis - Henryk Sienkiewicz - 1896<img src='http://commons.wikimedia.org/wiki/Special:FilePath/Henryk_Sienkiewicz.PNG?width=300>Romeo i Julia - William Szekspir - 1597<img src='http://commons.wikimedia.org/wiki/Special:FilePath/Shakespeare.jpg?width=300>Silmarillion - John Ronald Reuel Tolkien - 1977<img src='http://commons.wikimedia.org/wiki/Special:FilePath/Tolkien_1916.jpg?width=300>Solaris (powieść) - Stanisław Lem - 1961<img src='http://commons.wikimedia.org/wiki/Special:FilePath/Stanislaw_Lem_2.jpg?width=300>Władca Pierścieni - John Ronald Reuel Tolkien - 1954<img src='http://commons.wikimedia.org/wiki/Special:FilePath/Tolkien_1916.jpg?width=300>Zew Cthulhu (opowiadanie) - Howard Phillips Lovecraft - 1928<img src='http://commons.wikimedia.org/wiki/Special:FilePath/Howard_Phillips_Lovecraft_in_1915.jpg?width=300>Znaczy Kapitan - Karol Olgierd Borchardt - 1960<img src='http://commons.wikimedia.org/wiki/Special:FilePath/Karol_Olgierd_Borchardt's_house_in_Gdynia.jpg?width=300>Anna Karenina - Lew Tołstoj - 1877<img src='http://commons.wikimedia.org/wiki/Special:FilePath/Ilya_Efimovich_Repin_(1844-1930)_-_Portrait_of_Leo_Tolstoy_(1887).jpg?width=300>Azazel (powieść) - Boris Akunin - 1998<img src='http://commons.wikimedia.org/wiki/Special:FilePath/Boris_Akunin_2012.jpg?width=300>Bezsenność (zbiór opowiadań) - Stanisław Lem - 1971<img src='http://commons.wikimedia.org/wiki/Special:FilePath/Stanislaw_Lem_2.jpg?width=300>Cała prawda o planecie Ksi - Janusz Zajdel - 1983<img src='http://commons.wikimedia.org/wiki/Special:FilePath/Janusz_A_Zajdel.jpg?width=300>Dekorator - Boris Akunin - 1998<img src='http://commons.wikimedia.org/wiki/Special:FilePath/Boris_Akunin_2012.jpg?width=300>Diamentowa karoca - Boris Akunin - 2003<img src='http://commons.wikimedia.org/wiki/Special:FilePath/Boris_Akunin_2012.jpg?width=300>Dives in misericordia - Jan Paweł II - 1980<img src='http://commons.wikimedia.org/wiki/Special:FilePath/John_Paul_II_Medal_of_Freedom_2004.jpg?width=300>Droga na molo w Wigan - George Orwell - 1937<img src='http://commons.wikimedia.org/wiki/Special:FilePath/GeoreOrwell.jpg?width=300>Druga Fundacja - Isaac Asimov - 1953<img src='http://commons.wikimedia.org/wiki/Special:FilePath/Isaac.Asimov01.jpg?width=300>Dwanaście krzeseł - Ilja Ilf - 1928<img src='http://commons.wikimedia.org/wiki/Special:FilePath/Ilya_Ilf.jpg?width=300>Fundacja (powieść) - Isaac Asimov - 1951<img src='http://commons.wikimedia.org/wiki/Special:FilePath/Isaac.Asimov01.jpg?width=300>Fundacja i Imperium - Isaac Asimov - 1952<img src='http://commons.wikimedia.org/wiki/Special:FilePath/Isaac.Asimov01.jpg?width=300>Gambit turecki - Boris Akunin - 1998<img src='http://commons.wikimedia.org/wiki/Special:FilePath/Boris_Akunin_2012.jpg?width=300>Głos Pana - Stanisław Lem - 1968<img src='http://commons.wikimedia.org/wiki/Special:FilePath/Stanislaw_Lem_2.jpg?width=300>Ich czworo - Gabriela Zapolska - 1907<img src='http://commons.wikimedia.org/wiki/Special:FilePath/Gabriela_Zapolska.PNG?width=300>Inwazja z Aldebarana (zbiór opowiadań) - Stanisław Lem - 1959<img src='http://commons.wikimedia.org/wiki/Special:FilePath/Stanislaw_Lem_2.jpg?width=300>Kamienna małpa - Jeffery Deaver - 2002<img src='http://commons.wikimedia.org/wiki/Special:FilePath/Jeffery_Deaver_October_2006.jpg?width=300>Katar (powieść) - Stanisław Lem - 1976<img src='http://commons.wikimedia.org/wiki/Special:FilePath/Stanislaw_Lem_2.jpg?width=300>Kochanek Śmierci - Boris Akunin - 2001<img src='http://commons.wikimedia.org/wiki/Special:FilePath/Boris_Akunin_2012.jpg?width=300>Kochanka Śmierci - Boris Akunin - 2001<img src='http://commons.wikimedia.org/wiki/Special:FilePath/Boris_Akunin_2012.jpg?width=300>Koronacja (powieść) - Boris Akunin - 1999<img src='http://commons.wikimedia.org/wiki/Special:FilePath/Boris_Akunin_2012.jpg?width=300>Kot w stanie czystym - Terry Pratchett - 1989<img src='http://commons.wikimedia.org/wiki/Special:FilePath/Terry_Pratchett,_September_2009_1.jpg?width=300>Koń i jego chłopiec - Clive Staples Lewis - 1954<img src='http://commons.wikimedia.org/wiki/Special:FilePath/Statue_of_C.S._Lewis,_Belfast.jpg?width=300>Księga robotów - Stanisław Lem - 1961<img src='http://commons.wikimedia.org/wiki/Special:FilePath/Stanislaw_Lem_2.jpg?width=300>Księgi narodu polskiego i pielgrzymstwa polskiego - Adam Mickiewicz - 1832<img src='http://commons.wikimedia.org/wiki/Special:FilePath/Adam_Mickiewicz_by_Jan_Mieczkowski.jpg?width=300>Kuzynki - Andrzej Pilipiuk - 2003<img src='http://commons.wikimedia.org/wiki/Special:FilePath/Andrzej_Pilipiuk-Polcon2006.jpg?width=300>Lewa ręka ciemności - Ursula K. Le Guin - 1969<img src='http://commons.wikimedia.org/wiki/Special:FilePath/UrsulaLeGuin.01.jpg?width=300>Lewiatan (powieść) - Boris Akunin - 1998<img src='http://commons.wikimedia.org/wiki/Special:FilePath/Boris_Akunin_2012.jpg?width=300>Mag (powieść J. Deavera) - Jeffery Deaver - 2003<img src='http://commons.wikimedia.org/wiki/Special:FilePath/Jeffery_Deaver_October_2006.jpg?width=300>Maska (zbiór dzieł) - Stanisław Lem - 1976<img src='http://commons.wikimedia.org/wiki/Special:FilePath/Stanislaw_Lem_2.jpg?width=300>Niezwyciężony i inne opowiadania - Stanisław Lem - 1964<img src='http://commons.wikimedia.org/wiki/Special:FilePath/Stanislaw_Lem_2.jpg?width=300>Noc księżycowa - Stanisław Lem - 1963<img src='http://commons.wikimedia.org/wiki/Special:FilePath/Stanislaw_Lem_2.jpg?width=300>Ojcowie i dzieci - Iwan Turgieniew - 0<img src='http://commons.wikimedia.org/wiki/Special:FilePath/Turgenev_by_Repin.jpg?width=300>Pamiętnik znaleziony w wannie - Stanisław Lem - 1961<img src='http://commons.wikimedia.org/wiki/Special:FilePath/Stanislaw_Lem_2.jpg?width=300>Pieśń Lodu i Ognia - George R. R. Martin - 1996<img src='http://commons.wikimedia.org/wiki/Special:FilePath/George_R_R_Martin_2011_Shankbone.JPG?width=300>Podróże z Herodotem - Ryszard Kapuściński - 2004<img src='http://commons.wikimedia.org/wiki/Special:FilePath/Ryszard_Kapuscinski_by_Kubik_17.05.1997_-_cropped.jpg?width=300>Polowanie (zbiór opowiadań) - Stanisław Lem - 1965<img src='http://commons.wikimedia.org/wiki/Special:FilePath/Stanislaw_Lem_2.jpg?width=300>Powtórka (zbiór dzieł) - Stanisław Lem - 1979<img src='http://commons.wikimedia.org/wiki/Special:FilePath/Stanislaw_Lem_2.jpg?width=300>Pożytek ze smoka - Stanisław Lem - 1993<img src='http://commons.wikimedia.org/wiki/Special:FilePath/Stanislaw_Lem_2.jpg?width=300>Preludium Fundacji - Isaac Asimov - 1988<img src='http://commons.wikimedia.org/wiki/Special:FilePath/Isaac.Asimov01.jpg?width=300>Radca stanu (powieść) - Boris Akunin - 1998<img src='http://commons.wikimedia.org/wiki/Special:FilePath/Boris_Akunin_2012.jpg?width=300>Rasa drapieżców. Teksty ostatnie - Stanisław Lem - 2006<img src='http://commons.wikimedia.org/wiki/Special:FilePath/Stanislaw_Lem_2.jpg?width=300>Rilla ze Złotego Brzegu - Lucy Maud Montgomery - 1921<img src='http://commons.wikimedia.org/wiki/Special:FilePath/Lucy_Maud_Montgomery.JPG?width=300>Sen nocy letniej - William Szekspir - 1600<img src='http://commons.wikimedia.org/wiki/Special:FilePath/Shakespeare.jpg?width=300>Sezam i inne opowiadania - Stanisław Lem - 1954<img src='http://commons.wikimedia.org/wiki/Special:FilePath/Stanislaw_Lem_2.jpg?width=300>Slavorum apostoli - Jan Paweł II - 1985<img src='http://commons.wikimedia.org/wiki/Special:FilePath/John_Paul_II_Medal_of_Freedom_2004.jpg?width=300>Summa technologiae - Stanisław Lem - 1964<img src='http://commons.wikimedia.org/wiki/Special:FilePath/Stanislaw_Lem_2.jpg?width=300>Tam gdzie spadają anioły - Dorota Terakowska - 1998<img src='http://commons.wikimedia.org/wiki/Special:FilePath/Dorota_Terakowska_grob.jpg?width=300>Tomek u źródeł Amazonki - Alfred Szklarski - 1967<img src='http://commons.wikimedia.org/wiki/Special:FilePath/Katowice_-_pomnik_Alfred_Szklarski.JPG?width=300>Tomek w Gran Chaco - Alfred Szklarski - 1987<img src='http://commons.wikimedia.org/wiki/Special:FilePath/Katowice_-_pomnik_Alfred_Szklarski.JPG?width=300>Tomek w grobowcach faraonów - Alfred Szklarski - 1994<img src='http://commons.wikimedia.org/wiki/Special:FilePath/Katowice_-_pomnik_Alfred_Szklarski.JPG?width=300>Ut unum sint - Jan Paweł II - 1995<img src='http://commons.wikimedia.org/wiki/Special:FilePath/John_Paul_II_Medal_of_Freedom_2004.jpg?width=300>Veritatis splendor - Jan Paweł II - 1993<img src='http://commons.wikimedia.org/wiki/Special:FilePath/John_Paul_II_Medal_of_Freedom_2004.jpg?width=300>Walc stulecia - Rafał A. Ziemkiewicz - 1998<img src='http://commons.wikimedia.org/wiki/Special:FilePath/Rafał_Ziemkiewicz.jpg?width=300>Walet pikowy (powieść) - Boris Akunin - 1998<img src='http://commons.wikimedia.org/wiki/Special:FilePath/Boris_Akunin_2012.jpg?width=300>Wampir Lestat - Anne Rice - 1985<img src='http://commons.wikimedia.org/wiki/Special:FilePath/Anne_Rice.jpg?width=300>Wizja lokalna (powieść) - Stanisław Lem - 1982<img src='http://commons.wikimedia.org/wiki/Special:FilePath/Stanislaw_Lem_2.jpg?width=300>Wojna i pokój - Lew Tołstoj - 1865<img src='http://commons.wikimedia.org/wiki/Special:FilePath/Ilya_Efimovich_Repin_(1844-1930)_-_Portrait_of_Leo_Tolstoy_(1887).jpg?width=300>Śmierć Achillesa - Boris Akunin - 1998<img src='http://commons.wikimedia.org/wiki/Special:FilePath/Boris_Akunin_2012.jpg?width=300>Życie i przygody Remusa - Aleksander Majkowski - 1938<img src='http://commons.wikimedia.org/wiki/Special:FilePath/POL_Polonia_Restituta_Oficerski_BAR.svg?width=300>Casino Royale (powieść) - Ian Fleming - 1953<img src='http://commons.wikimedia.org/wiki/Special:FilePath/For_Your_Eyes_Only.jpg?width=300>Cień kata - Gene Wolfe - 1980<img src='http://commons.wikimedia.org/wiki/Special:FilePath/Gene_Wolfe,_2005.png?width=300>Czarnoksiężnik z Archipelagu - Ursula K. Le Guin - 1968<img src='http://commons.wikimedia.org/wiki/Special:FilePath/UrsulaLeGuin.01.jpg?width=300>Czarownica z Portobello - Paulo Coelho - 2006<img src='http://commons.wikimedia.org/wiki/Special:FilePath/Paulo_Coelho_nrkbeta.jpg?width=300>Czas patriotów (powieść) - Tom Clancy - 1987<img src='http://commons.wikimedia.org/wiki/Special:FilePath/Tom_Clancy_at_Burns_Library_cropped.jpg?width=300>"
      ],
      "text/plain": [
       "\"Czas patriotów (powieść) - Tom Clancy - 1987<img src='http://commons.wikimedia.org/wiki/Special:FilePath/Tom_Clancy_at_Burns_Library_cropped.jpg?width=300>Végjáték (regény) - Orson Scott Card - <img src='http://commons.wikimedia.org/wiki/Special:FilePath/Orson_Scott_Card_at_BYU_Symposium_20080216_closeup.jpg?width=300>Pani Jeziora (powieść) - Andrzej Sapkowski - 1999<img src='http://commons.wikimedia.org/wiki/Special:FilePath/Sapkowski.jpg?width=300>Bellew Zawierucha - Jack London - 1912<img src='http://commons.wikimedia.org/wiki/Special:FilePath/JackLondon02.jpeg?width=300>Fałszywy trop (powieść) - Henning Mankell - 1995<img src='http://commons.wikimedia.org/wiki/Special:FilePath/Henning_Mankell_3_2011_Shankbone.jpg?width=300>Bajki robotów - Stanisław Lem - 1964<img src='http://commons.wikimedia.org/wiki/Special:FilePath/Stanislaw_Lem_2.jpg?width=300>Bolesław Chrobry (powieść) - Antoni Gołubiew - 1947<img src='http://commons.wikimedia.org/wiki/Special:FilePath/Antoni_Golubiew.jpg?width=300>De revolutionibus orbium coelestium - Mikołaj Kopernik - 1543<img src='http://commons.wikimedia.org/wiki/Special:FilePath/Nikolaus_Kopernikus.jpg?width=300>Dzieło Wielkiego Miłosierdzia - Maria Franciszka Kozłowska - 1922<img src='http://commons.wikimedia.org/wiki/Special:FilePath/Mateczk_Kozłowska.JPG?width=300>Folwark zwierzęcy - George Orwell - 1945<img src='http://commons.wikimedia.org/wiki/Special:FilePath/GeoreOrwell.jpg?width=300>Hamlet - William Szekspir - <img src='http://commons.wikimedia.org/wiki/Special:FilePath/Shakespeare.jpg?width=300>Harry Potter - J. K. Rowling - 1997<img src='http://commons.wikimedia.org/wiki/Special:FilePath/J._K._Rowling_2010.jpg?width=300>Hobbit, czyli tam i z powrotem - John Ronald Reuel Tolkien - 1937<img src='http://commons.wikimedia.org/wiki/Special:FilePath/Tolkien_1916.jpg?width=300>Hrabia Monte Christo - Aleksander Dumas (ojciec) - 1844<img src='http://commons.wikimedia.org/wiki/Special:FilePath/Dumas_by_Nadar,_1855.jpg?width=300>Kariera Nikodema Dyzmy - Tadeusz Dołęga-Mostowicz - 1932<img src='http://commons.wikimedia.org/wiki/Special:FilePath/Tadeusz_Dolega-Mostowicz.jpg?width=300>Krzyżacy (powieść) - Henryk Sienkiewicz - 1900<img src='http://commons.wikimedia.org/wiki/Special:FilePath/Henryk_Sienkiewicz.PNG?width=300>Lolita - Vladimir Nabokov - 1955<img src='http://commons.wikimedia.org/wiki/Special:FilePath/Monument_Nabokov_Montreux_23.12.2006.jpg?width=300>Mein Kampf - Adolf Hitler - 1925<img src='http://commons.wikimedia.org/wiki/Special:FilePath/Hitler_portrait_crop.jpg?width=300>Nad Niemnem - Eliza Orzeszkowa - 1888<img src='http://commons.wikimedia.org/wiki/Special:FilePath/Eliza_Orzeszkowa.PNG?width=300>Niedokończone opowieści - Christopher Tolkien - 1980<img src='>Nowe Ateny - Benedykt Chmielowski - 1745<img src='http://commons.wikimedia.org/wiki/Special:FilePath/POL_COA_Nałęcz.svg?width=300>Nowy wspaniały świat - Aldous Huxley - 1932<img src='http://commons.wikimedia.org/wiki/Special:FilePath/Aldous_Huxley.JPG?width=300>Ogniem i mieczem - Henryk Sienkiewicz - 1884<img src='http://commons.wikimedia.org/wiki/Special:FilePath/Henryk_Sienkiewicz.PNG?width=300>Ojciec Goriot - Honoré de Balzac - 1835<img src='http://commons.wikimedia.org/wiki/Special:FilePath/HBalzac.jpg?width=300>Proces (powieść) - Franz Kafka - 1925<img src='http://commons.wikimedia.org/wiki/Special:FilePath/Kafka1906.jpg?width=300>Psałterz Dawidów - Jan Kochanowski - 1579<img src='http://commons.wikimedia.org/wiki/Special:FilePath/Jan_Kochanowski.png?width=300>Quo vadis - Henryk Sienkiewicz - 1896<img src='http://commons.wikimedia.org/wiki/Special:FilePath/Henryk_Sienkiewicz.PNG?width=300>Romeo i Julia - William Szekspir - 1597<img src='http://commons.wikimedia.org/wiki/Special:FilePath/Shakespeare.jpg?width=300>Silmarillion - John Ronald Reuel Tolkien - 1977<img src='http://commons.wikimedia.org/wiki/Special:FilePath/Tolkien_1916.jpg?width=300>Solaris (powieść) - Stanisław Lem - 1961<img src='http://commons.wikimedia.org/wiki/Special:FilePath/Stanislaw_Lem_2.jpg?width=300>Władca Pierścieni - John Ronald Reuel Tolkien - 1954<img src='http://commons.wikimedia.org/wiki/Special:FilePath/Tolkien_1916.jpg?width=300>Zew Cthulhu (opowiadanie) - Howard Phillips Lovecraft - 1928<img src='http://commons.wikimedia.org/wiki/Special:FilePath/Howard_Phillips_Lovecraft_in_1915.jpg?width=300>Znaczy Kapitan - Karol Olgierd Borchardt - 1960<img src='http://commons.wikimedia.org/wiki/Special:FilePath/Karol_Olgierd_Borchardt's_house_in_Gdynia.jpg?width=300>Anna Karenina - Lew Tołstoj - 1877<img src='http://commons.wikimedia.org/wiki/Special:FilePath/Ilya_Efimovich_Repin_(1844-1930)_-_Portrait_of_Leo_Tolstoy_(1887).jpg?width=300>Azazel (powieść) - Boris Akunin - 1998<img src='http://commons.wikimedia.org/wiki/Special:FilePath/Boris_Akunin_2012.jpg?width=300>Bezsenność (zbiór opowiadań) - Stanisław Lem - 1971<img src='http://commons.wikimedia.org/wiki/Special:FilePath/Stanislaw_Lem_2.jpg?width=300>Cała prawda o planecie Ksi - Janusz Zajdel - 1983<img src='http://commons.wikimedia.org/wiki/Special:FilePath/Janusz_A_Zajdel.jpg?width=300>Dekorator - Boris Akunin - 1998<img src='http://commons.wikimedia.org/wiki/Special:FilePath/Boris_Akunin_2012.jpg?width=300>Diamentowa karoca - Boris Akunin - 2003<img src='http://commons.wikimedia.org/wiki/Special:FilePath/Boris_Akunin_2012.jpg?width=300>Dives in misericordia - Jan Paweł II - 1980<img src='http://commons.wikimedia.org/wiki/Special:FilePath/John_Paul_II_Medal_of_Freedom_2004.jpg?width=300>Droga na molo w Wigan - George Orwell - 1937<img src='http://commons.wikimedia.org/wiki/Special:FilePath/GeoreOrwell.jpg?width=300>Druga Fundacja - Isaac Asimov - 1953<img src='http://commons.wikimedia.org/wiki/Special:FilePath/Isaac.Asimov01.jpg?width=300>Dwanaście krzeseł - Ilja Ilf - 1928<img src='http://commons.wikimedia.org/wiki/Special:FilePath/Ilya_Ilf.jpg?width=300>Fundacja (powieść) - Isaac Asimov - 1951<img src='http://commons.wikimedia.org/wiki/Special:FilePath/Isaac.Asimov01.jpg?width=300>Fundacja i Imperium - Isaac Asimov - 1952<img src='http://commons.wikimedia.org/wiki/Special:FilePath/Isaac.Asimov01.jpg?width=300>Gambit turecki - Boris Akunin - 1998<img src='http://commons.wikimedia.org/wiki/Special:FilePath/Boris_Akunin_2012.jpg?width=300>Głos Pana - Stanisław Lem - 1968<img src='http://commons.wikimedia.org/wiki/Special:FilePath/Stanislaw_Lem_2.jpg?width=300>Ich czworo - Gabriela Zapolska - 1907<img src='http://commons.wikimedia.org/wiki/Special:FilePath/Gabriela_Zapolska.PNG?width=300>Inwazja z Aldebarana (zbiór opowiadań) - Stanisław Lem - 1959<img src='http://commons.wikimedia.org/wiki/Special:FilePath/Stanislaw_Lem_2.jpg?width=300>Kamienna małpa - Jeffery Deaver - 2002<img src='http://commons.wikimedia.org/wiki/Special:FilePath/Jeffery_Deaver_October_2006.jpg?width=300>Katar (powieść) - Stanisław Lem - 1976<img src='http://commons.wikimedia.org/wiki/Special:FilePath/Stanislaw_Lem_2.jpg?width=300>Kochanek Śmierci - Boris Akunin - 2001<img src='http://commons.wikimedia.org/wiki/Special:FilePath/Boris_Akunin_2012.jpg?width=300>Kochanka Śmierci - Boris Akunin - 2001<img src='http://commons.wikimedia.org/wiki/Special:FilePath/Boris_Akunin_2012.jpg?width=300>Koronacja (powieść) - Boris Akunin - 1999<img src='http://commons.wikimedia.org/wiki/Special:FilePath/Boris_Akunin_2012.jpg?width=300>Kot w stanie czystym - Terry Pratchett - 1989<img src='http://commons.wikimedia.org/wiki/Special:FilePath/Terry_Pratchett,_September_2009_1.jpg?width=300>Koń i jego chłopiec - Clive Staples Lewis - 1954<img src='http://commons.wikimedia.org/wiki/Special:FilePath/Statue_of_C.S._Lewis,_Belfast.jpg?width=300>Księga robotów - Stanisław Lem - 1961<img src='http://commons.wikimedia.org/wiki/Special:FilePath/Stanislaw_Lem_2.jpg?width=300>Księgi narodu polskiego i pielgrzymstwa polskiego - Adam Mickiewicz - 1832<img src='http://commons.wikimedia.org/wiki/Special:FilePath/Adam_Mickiewicz_by_Jan_Mieczkowski.jpg?width=300>Kuzynki - Andrzej Pilipiuk - 2003<img src='http://commons.wikimedia.org/wiki/Special:FilePath/Andrzej_Pilipiuk-Polcon2006.jpg?width=300>Lewa ręka ciemności - Ursula K. Le Guin - 1969<img src='http://commons.wikimedia.org/wiki/Special:FilePath/UrsulaLeGuin.01.jpg?width=300>Lewiatan (powieść) - Boris Akunin - 1998<img src='http://commons.wikimedia.org/wiki/Special:FilePath/Boris_Akunin_2012.jpg?width=300>Mag (powieść J. Deavera) - Jeffery Deaver - 2003<img src='http://commons.wikimedia.org/wiki/Special:FilePath/Jeffery_Deaver_October_2006.jpg?width=300>Maska (zbiór dzieł) - Stanisław Lem - 1976<img src='http://commons.wikimedia.org/wiki/Special:FilePath/Stanislaw_Lem_2.jpg?width=300>Niezwyciężony i inne opowiadania - Stanisław Lem - 1964<img src='http://commons.wikimedia.org/wiki/Special:FilePath/Stanislaw_Lem_2.jpg?width=300>Noc księżycowa - Stanisław Lem - 1963<img src='http://commons.wikimedia.org/wiki/Special:FilePath/Stanislaw_Lem_2.jpg?width=300>Ojcowie i dzieci - Iwan Turgieniew - 0<img src='http://commons.wikimedia.org/wiki/Special:FilePath/Turgenev_by_Repin.jpg?width=300>Pamiętnik znaleziony w wannie - Stanisław Lem - 1961<img src='http://commons.wikimedia.org/wiki/Special:FilePath/Stanislaw_Lem_2.jpg?width=300>Pieśń Lodu i Ognia - George R. R. Martin - 1996<img src='http://commons.wikimedia.org/wiki/Special:FilePath/George_R_R_Martin_2011_Shankbone.JPG?width=300>Podróże z Herodotem - Ryszard Kapuściński - 2004<img src='http://commons.wikimedia.org/wiki/Special:FilePath/Ryszard_Kapuscinski_by_Kubik_17.05.1997_-_cropped.jpg?width=300>Polowanie (zbiór opowiadań) - Stanisław Lem - 1965<img src='http://commons.wikimedia.org/wiki/Special:FilePath/Stanislaw_Lem_2.jpg?width=300>Powtórka (zbiór dzieł) - Stanisław Lem - 1979<img src='http://commons.wikimedia.org/wiki/Special:FilePath/Stanislaw_Lem_2.jpg?width=300>Pożytek ze smoka - Stanisław Lem - 1993<img src='http://commons.wikimedia.org/wiki/Special:FilePath/Stanislaw_Lem_2.jpg?width=300>Preludium Fundacji - Isaac Asimov - 1988<img src='http://commons.wikimedia.org/wiki/Special:FilePath/Isaac.Asimov01.jpg?width=300>Radca stanu (powieść) - Boris Akunin - 1998<img src='http://commons.wikimedia.org/wiki/Special:FilePath/Boris_Akunin_2012.jpg?width=300>Rasa drapieżców. Teksty ostatnie - Stanisław Lem - 2006<img src='http://commons.wikimedia.org/wiki/Special:FilePath/Stanislaw_Lem_2.jpg?width=300>Rilla ze Złotego Brzegu - Lucy Maud Montgomery - 1921<img src='http://commons.wikimedia.org/wiki/Special:FilePath/Lucy_Maud_Montgomery.JPG?width=300>Sen nocy letniej - William Szekspir - 1600<img src='http://commons.wikimedia.org/wiki/Special:FilePath/Shakespeare.jpg?width=300>Sezam i inne opowiadania - Stanisław Lem - 1954<img src='http://commons.wikimedia.org/wiki/Special:FilePath/Stanislaw_Lem_2.jpg?width=300>Slavorum apostoli - Jan Paweł II - 1985<img src='http://commons.wikimedia.org/wiki/Special:FilePath/John_Paul_II_Medal_of_Freedom_2004.jpg?width=300>Summa technologiae - Stanisław Lem - 1964<img src='http://commons.wikimedia.org/wiki/Special:FilePath/Stanislaw_Lem_2.jpg?width=300>Tam gdzie spadają anioły - Dorota Terakowska - 1998<img src='http://commons.wikimedia.org/wiki/Special:FilePath/Dorota_Terakowska_grob.jpg?width=300>Tomek u źródeł Amazonki - Alfred Szklarski - 1967<img src='http://commons.wikimedia.org/wiki/Special:FilePath/Katowice_-_pomnik_Alfred_Szklarski.JPG?width=300>Tomek w Gran Chaco - Alfred Szklarski - 1987<img src='http://commons.wikimedia.org/wiki/Special:FilePath/Katowice_-_pomnik_Alfred_Szklarski.JPG?width=300>Tomek w grobowcach faraonów - Alfred Szklarski - 1994<img src='http://commons.wikimedia.org/wiki/Special:FilePath/Katowice_-_pomnik_Alfred_Szklarski.JPG?width=300>Ut unum sint - Jan Paweł II - 1995<img src='http://commons.wikimedia.org/wiki/Special:FilePath/John_Paul_II_Medal_of_Freedom_2004.jpg?width=300>Veritatis splendor - Jan Paweł II - 1993<img src='http://commons.wikimedia.org/wiki/Special:FilePath/John_Paul_II_Medal_of_Freedom_2004.jpg?width=300>Walc stulecia - Rafał A. Ziemkiewicz - 1998<img src='http://commons.wikimedia.org/wiki/Special:FilePath/Rafał_Ziemkiewicz.jpg?width=300>Walet pikowy (powieść) - Boris Akunin - 1998<img src='http://commons.wikimedia.org/wiki/Special:FilePath/Boris_Akunin_2012.jpg?width=300>Wampir Lestat - Anne Rice - 1985<img src='http://commons.wikimedia.org/wiki/Special:FilePath/Anne_Rice.jpg?width=300>Wizja lokalna (powieść) - Stanisław Lem - 1982<img src='http://commons.wikimedia.org/wiki/Special:FilePath/Stanislaw_Lem_2.jpg?width=300>Wojna i pokój - Lew Tołstoj - 1865<img src='http://commons.wikimedia.org/wiki/Special:FilePath/Ilya_Efimovich_Repin_(1844-1930)_-_Portrait_of_Leo_Tolstoy_(1887).jpg?width=300>Śmierć Achillesa - Boris Akunin - 1998<img src='http://commons.wikimedia.org/wiki/Special:FilePath/Boris_Akunin_2012.jpg?width=300>Życie i przygody Remusa - Aleksander Majkowski - 1938<img src='http://commons.wikimedia.org/wiki/Special:FilePath/POL_Polonia_Restituta_Oficerski_BAR.svg?width=300>Casino Royale (powieść) - Ian Fleming - 1953<img src='http://commons.wikimedia.org/wiki/Special:FilePath/For_Your_Eyes_Only.jpg?width=300>Cień kata - Gene Wolfe - 1980<img src='http://commons.wikimedia.org/wiki/Special:FilePath/Gene_Wolfe,_2005.png?width=300>Czarnoksiężnik z Archipelagu - Ursula K. Le Guin - 1968<img src='http://commons.wikimedia.org/wiki/Special:FilePath/UrsulaLeGuin.01.jpg?width=300>Czarownica z Portobello - Paulo Coelho - 2006<img src='http://commons.wikimedia.org/wiki/Special:FilePath/Paulo_Coelho_nrkbeta.jpg?width=300>Czas patriotów (powieść) - Tom Clancy - 1987<img src='http://commons.wikimedia.org/wiki/Special:FilePath/Tom_Clancy_at_Burns_Library_cropped.jpg?width=300>\""
      ]
     },
     "execution_count": 112,
     "metadata": {},
     "output_type": "execute_result"
    }
   ],
   "source": [
    "\n",
    "books = Book.all\n",
    "books.each do |book|\n",
    "  document+=\"#{book.title} - #{book.author.name} #{book.author.surname} - #{book.published}\"\n",
    "  if \"book.author.image_url is not null\"\n",
    "    document += \"<img src='#{book.author.image_url}>\"\n",
    "  end\n",
    "end\n",
    "IRuby.html document"
   ]
  },
  {
   "cell_type": "markdown",
   "metadata": {},
   "source": [
    "### Zadanie 10"
   ]
  },
  {
   "cell_type": "markdown",
   "metadata": {},
   "source": [
    "Wyświetl wszystkich autorów znajdujących się w bazie wraz z opisem zawierającym ich zdjęcie, datę urodzin i śmierci oraz spis \n",
    "opublikowanych książek. Pamiętaj o odpowiednim sformatowaniu dat oraz o tym, że nie wszyscy autorzy mają przypisane wszystkie\n",
    "informacje."
   ]
  },
  {
   "cell_type": "code",
   "execution_count": 127,
   "metadata": {
    "collapsed": false
   },
   "outputs": [
    {
     "data": {
      "text/html": [
       "<h1>Orson Scott Card</h1><p>Urodzony: 24.08.1951</p><ul><li>Végjáték (regény)</li></ul><h1>Andrzej Sapkowski</h1><p>Urodzony: 21.06.1948</p><ul><li>Pani Jeziora (powieść)</li></ul><h1>Jack London</h1><p>Urodzony: 12.01.1876, zmarł: 22.11.1916</p><ul><li>Bellew Zawierucha</li></ul><h1>Henning Mankell</h1><p>Urodzony: 03.02.1948</p><ul><li>Fałszywy trop (powieść)</li></ul><h1>Stanisław Lem</h1><p>Urodzony: 12.09.1921, zmarł: 27.03.2006</p><ul><li>Bajki robotów</li><li>Solaris (powieść)</li><li>Bezsenność (zbiór opowiadań)</li><li>Głos Pana</li><li>Inwazja z Aldebarana (zbiór opowiadań)</li><li>Katar (powieść)</li><li>Księga robotów</li><li>Maska (zbiór dzieł)</li><li>Niezwyciężony i inne opowiadania</li><li>Noc księżycowa</li><li>Pamiętnik znaleziony w wannie</li><li>Polowanie (zbiór opowiadań)</li><li>Powtórka (zbiór dzieł)</li><li>Pożytek ze smoka</li><li>Rasa drapieżców. Teksty ostatnie</li><li>Sezam i inne opowiadania</li><li>Summa technologiae</li><li>Wizja lokalna (powieść)</li></ul><h1>Antoni Gołubiew</h1><p>Urodzony: 25.02.1907, zmarł: 27.06.1979</p><ul><li>Bolesław Chrobry (powieść)</li></ul><h1>Mikołaj Kopernik</h1><p>Urodzony: 19.02.1473, zmarł: 24.05.1543</p><ul><li>De revolutionibus orbium coelestium</li></ul><h1>Maria Franciszka Kozłowska</h1><p>Urodzony: 27.05.1862</p><ul><li>Dzieło Wielkiego Miłosierdzia</li></ul><h1>George Orwell</h1><p>Urodzony: 25.06.1903, zmarł: 21.01.1950</p><ul><li>Folwark zwierzęcy</li><li>Droga na molo w Wigan</li></ul><h1>William Szekspir</h1><p>Urodzony: 23.04.1564, zmarł: 03.05.1616</p><ul><li>Hamlet</li><li>Romeo i Julia</li><li>Sen nocy letniej</li></ul><h1>J. K. Rowling</h1><p>Urodzony: 31.07.1965</p><ul><li>Harry Potter</li></ul><h1>John Ronald Reuel Tolkien</h1><p>Urodzony: 03.01.1892, zmarł: 02.09.1973</p><ul><li>Hobbit, czyli tam i z powrotem</li><li>Silmarillion</li><li>Władca Pierścieni</li></ul><h1>Aleksander Dumas (ojciec)</h1><p>Urodzony: 24.07.1802, zmarł: 05.12.1870</p><ul><li>Hrabia Monte Christo</li></ul><h1>Tadeusz Dołęga-Mostowicz</h1><p>Urodzony: 10.08.1898, zmarł: 20.09.1939</p><ul><li>Kariera Nikodema Dyzmy</li></ul><h1>Henryk Sienkiewicz</h1><p>Urodzony: 05.05.1846, zmarł: 15.11.1916</p><ul><li>Krzyżacy (powieść)</li><li>Ogniem i mieczem</li><li>Quo vadis</li></ul><h1>Vladimir Nabokov</h1><p>Urodzony: 22.04.1899, zmarł: 02.07.1977</p><ul><li>Lolita</li></ul><h1>Adolf Hitler</h1><p>Urodzony: 20.04.1889, zmarł: 30.04.1945</p><ul><li>Mein Kampf</li></ul><h1>Eliza Orzeszkowa</h1><p>Urodzony: 06.06.1841, zmarł: 18.05.1910</p><ul><li>Nad Niemnem</li></ul><h1>Christopher Tolkien</h1><p>Urodzony: 21.11.1924</p><ul><li>Niedokończone opowieści</li></ul><h1>Benedykt Chmielowski</h1><p>Urodzony: 20.03.1700, zmarł: 07.04.1763</p><ul><li>Nowe Ateny</li></ul><h1>Aldous Huxley</h1><p>Urodzony: 26.07.1894, zmarł: 22.11.1963</p><ul><li>Nowy wspaniały świat</li></ul><h1>Honoré de Balzac</h1><p>Urodzony: 20.05.1799, zmarł: 18.08.1850</p><ul><li>Ojciec Goriot</li></ul><h1>Franz Kafka</h1><p>Urodzony: 03.07.1883, zmarł: 03.06.1924</p><ul><li>Proces (powieść)</li></ul><h1>Jan Kochanowski</h1><p>, zmarł: 22.08.1584</p><ul><li>Psałterz Dawidów</li></ul><h1>Howard Phillips Lovecraft</h1><p>Urodzony: 20.08.1890, zmarł: 15.03.1937</p><ul><li>Zew Cthulhu (opowiadanie)</li></ul><h1>Karol Olgierd Borchardt</h1><p>Urodzony: 25.03.1905, zmarł: 20.05.1986</p><ul><li>Znaczy Kapitan</li></ul><h1>Lew Tołstoj</h1><p>Urodzony: 09.09.1828, zmarł: 20.11.1910</p><ul><li>Anna Karenina</li><li>Wojna i pokój</li></ul><h1>Boris Akunin</h1><p>Urodzony: 20.05.1956</p><ul><li>Azazel (powieść)</li><li>Dekorator</li><li>Diamentowa karoca</li><li>Gambit turecki</li><li>Kochanek Śmierci</li><li>Kochanka Śmierci</li><li>Koronacja (powieść)</li><li>Lewiatan (powieść)</li><li>Radca stanu (powieść)</li><li>Walet pikowy (powieść)</li><li>Śmierć Achillesa</li></ul><h1>Janusz Zajdel</h1><p>Urodzony: 15.08.1938, zmarł: 19.07.1985</p><ul><li>Cała prawda o planecie Ksi</li></ul><h1>Jan Paweł II</h1><p>Urodzony: 18.05.1920, zmarł: 02.04.2005</p><ul><li>Dives in misericordia</li><li>Slavorum apostoli</li><li>Ut unum sint</li><li>Veritatis splendor</li></ul><h1>Isaac Asimov</h1><p>Urodzony: 04.10.1919, zmarł: 06.04.1992</p><ul><li>Druga Fundacja</li><li>Fundacja (powieść)</li><li>Fundacja i Imperium</li><li>Preludium Fundacji</li></ul><h1>Ilja Ilf</h1><p>Urodzony: 15.10.1897, zmarł: 13.04.1937</p><ul><li>Dwanaście krzeseł</li></ul><h1>Jewgienij Pietrow (pisarz)</h1><p>Urodzony: 13.12.1903, zmarł: 02.07.1942</p><ul></ul><h1>Gabriela Zapolska</h1><p>Urodzony: 30.03.1857, zmarł: 17.12.1921</p><ul><li>Ich czworo</li></ul><h1>Jeffery Deaver</h1><p>Urodzony: 06.05.1950</p><ul><li>Kamienna małpa</li><li>Mag (powieść J. Deavera)</li></ul><h1>Terry Pratchett</h1><p>Urodzony: 28.04.1948</p><ul><li>Kot w stanie czystym</li></ul><h1>Clive Staples Lewis</h1><p>Urodzony: 29.11.1898, zmarł: 22.11.1963</p><ul><li>Koń i jego chłopiec</li></ul><h1>Adam Mickiewicz</h1><p>Urodzony: 24.12.1798, zmarł: 26.11.1855</p><ul><li>Księgi narodu polskiego i pielgrzymstwa polskiego</li></ul><h1>Andrzej Pilipiuk</h1><p>Urodzony: 20.03.1974</p><ul><li>Kuzynki</li></ul><h1>Ursula K. Le Guin</h1><p>Urodzony: 21.10.1929</p><ul><li>Lewa ręka ciemności</li><li>Czarnoksiężnik z Archipelagu</li></ul><h1>Iwan Turgieniew</h1><p>Urodzony: 09.11.1818, zmarł: 03.09.1883</p><ul><li>Ojcowie i dzieci</li></ul><h1>George R. R. Martin</h1><p>Urodzony: 20.09.1948</p><ul><li>Pieśń Lodu i Ognia</li></ul><h1>Ryszard Kapuściński</h1><p>Urodzony: 04.03.1932, zmarł: 23.01.2007</p><ul><li>Podróże z Herodotem</li></ul><h1>Lucy Maud Montgomery</h1><p>Urodzony: 30.11.1874, zmarł: 24.04.1942</p><ul><li>Rilla ze Złotego Brzegu</li></ul><h1>Dorota Terakowska</h1><p>Urodzony: 30.08.1938, zmarł: 04.01.2004</p><ul><li>Tam gdzie spadają anioły</li></ul><h1>Alfred Szklarski</h1><p>Urodzony: 21.01.1912, zmarł: 09.04.1992</p><ul><li>Tomek u źródeł Amazonki</li><li>Tomek w Gran Chaco</li><li>Tomek w grobowcach faraonów</li></ul><h1>Adam Zelga</h1><p>Urodzony: 11.03.1953</p><ul></ul><h1>Rafał A. Ziemkiewicz</h1><p>Urodzony: 13.09.1964</p><ul><li>Walc stulecia</li></ul><h1>Anne Rice</h1><p>Urodzony: 04.10.1941</p><ul><li>Wampir Lestat</li></ul><h1>Aleksander Majkowski</h1><p>Urodzony: 17.07.1876, zmarł: 10.02.1938</p><ul><li>Życie i przygody Remusa</li></ul><h1>Ian Fleming</h1><p>Urodzony: 28.05.1908, zmarł: 12.08.1964</p><ul><li>Casino Royale (powieść)</li></ul><h1>Gene Wolfe</h1><p>Urodzony: 07.05.1931</p><ul><li>Cień kata</li></ul><h1>Paulo Coelho</h1><p>Urodzony: 24.08.1947</p><ul><li>Czarownica z Portobello</li></ul><h1>Tom Clancy</h1><p>Urodzony: 12.04.1947, zmarł: 01.10.2013</p><ul><li>Czas patriotów (powieść)</li></ul>"
      ],
      "text/plain": [
       "\"<h1>Orson Scott Card</h1><p>Urodzony: 24.08.1951</p><ul><li>Végjáték (regény)</li></ul><h1>Andrzej Sapkowski</h1><p>Urodzony: 21.06.1948</p><ul><li>Pani Jeziora (powieść)</li></ul><h1>Jack London</h1><p>Urodzony: 12.01.1876, zmarł: 22.11.1916</p><ul><li>Bellew Zawierucha</li></ul><h1>Henning Mankell</h1><p>Urodzony: 03.02.1948</p><ul><li>Fałszywy trop (powieść)</li></ul><h1>Stanisław Lem</h1><p>Urodzony: 12.09.1921, zmarł: 27.03.2006</p><ul><li>Bajki robotów</li><li>Solaris (powieść)</li><li>Bezsenność (zbiór opowiadań)</li><li>Głos Pana</li><li>Inwazja z Aldebarana (zbiór opowiadań)</li><li>Katar (powieść)</li><li>Księga robotów</li><li>Maska (zbiór dzieł)</li><li>Niezwyciężony i inne opowiadania</li><li>Noc księżycowa</li><li>Pamiętnik znaleziony w wannie</li><li>Polowanie (zbiór opowiadań)</li><li>Powtórka (zbiór dzieł)</li><li>Pożytek ze smoka</li><li>Rasa drapieżców. Teksty ostatnie</li><li>Sezam i inne opowiadania</li><li>Summa technologiae</li><li>Wizja lokalna (powieść)</li></ul><h1>Antoni Gołubiew</h1><p>Urodzony: 25.02.1907, zmarł: 27.06.1979</p><ul><li>Bolesław Chrobry (powieść)</li></ul><h1>Mikołaj Kopernik</h1><p>Urodzony: 19.02.1473, zmarł: 24.05.1543</p><ul><li>De revolutionibus orbium coelestium</li></ul><h1>Maria Franciszka Kozłowska</h1><p>Urodzony: 27.05.1862</p><ul><li>Dzieło Wielkiego Miłosierdzia</li></ul><h1>George Orwell</h1><p>Urodzony: 25.06.1903, zmarł: 21.01.1950</p><ul><li>Folwark zwierzęcy</li><li>Droga na molo w Wigan</li></ul><h1>William Szekspir</h1><p>Urodzony: 23.04.1564, zmarł: 03.05.1616</p><ul><li>Hamlet</li><li>Romeo i Julia</li><li>Sen nocy letniej</li></ul><h1>J. K. Rowling</h1><p>Urodzony: 31.07.1965</p><ul><li>Harry Potter</li></ul><h1>John Ronald Reuel Tolkien</h1><p>Urodzony: 03.01.1892, zmarł: 02.09.1973</p><ul><li>Hobbit, czyli tam i z powrotem</li><li>Silmarillion</li><li>Władca Pierścieni</li></ul><h1>Aleksander Dumas (ojciec)</h1><p>Urodzony: 24.07.1802, zmarł: 05.12.1870</p><ul><li>Hrabia Monte Christo</li></ul><h1>Tadeusz Dołęga-Mostowicz</h1><p>Urodzony: 10.08.1898, zmarł: 20.09.1939</p><ul><li>Kariera Nikodema Dyzmy</li></ul><h1>Henryk Sienkiewicz</h1><p>Urodzony: 05.05.1846, zmarł: 15.11.1916</p><ul><li>Krzyżacy (powieść)</li><li>Ogniem i mieczem</li><li>Quo vadis</li></ul><h1>Vladimir Nabokov</h1><p>Urodzony: 22.04.1899, zmarł: 02.07.1977</p><ul><li>Lolita</li></ul><h1>Adolf Hitler</h1><p>Urodzony: 20.04.1889, zmarł: 30.04.1945</p><ul><li>Mein Kampf</li></ul><h1>Eliza Orzeszkowa</h1><p>Urodzony: 06.06.1841, zmarł: 18.05.1910</p><ul><li>Nad Niemnem</li></ul><h1>Christopher Tolkien</h1><p>Urodzony: 21.11.1924</p><ul><li>Niedokończone opowieści</li></ul><h1>Benedykt Chmielowski</h1><p>Urodzony: 20.03.1700, zmarł: 07.04.1763</p><ul><li>Nowe Ateny</li></ul><h1>Aldous Huxley</h1><p>Urodzony: 26.07.1894, zmarł: 22.11.1963</p><ul><li>Nowy wspaniały świat</li></ul><h1>Honoré de Balzac</h1><p>Urodzony: 20.05.1799, zmarł: 18.08.1850</p><ul><li>Ojciec Goriot</li></ul><h1>Franz Kafka</h1><p>Urodzony: 03.07.1883, zmarł: 03.06.1924</p><ul><li>Proces (powieść)</li></ul><h1>Jan Kochanowski</h1><p>, zmarł: 22.08.1584</p><ul><li>Psałterz Dawidów</li></ul><h1>Howard Phillips Lovecraft</h1><p>Urodzony: 20.08.1890, zmarł: 15.03.1937</p><ul><li>Zew Cthulhu (opowiadanie)</li></ul><h1>Karol Olgierd Borchardt</h1><p>Urodzony: 25.03.1905, zmarł: 20.05.1986</p><ul><li>Znaczy Kapitan</li></ul><h1>Lew Tołstoj</h1><p>Urodzony: 09.09.1828, zmarł: 20.11.1910</p><ul><li>Anna Karenina</li><li>Wojna i pokój</li></ul><h1>Boris Akunin</h1><p>Urodzony: 20.05.1956</p><ul><li>Azazel (powieść)</li><li>Dekorator</li><li>Diamentowa karoca</li><li>Gambit turecki</li><li>Kochanek Śmierci</li><li>Kochanka Śmierci</li><li>Koronacja (powieść)</li><li>Lewiatan (powieść)</li><li>Radca stanu (powieść)</li><li>Walet pikowy (powieść)</li><li>Śmierć Achillesa</li></ul><h1>Janusz Zajdel</h1><p>Urodzony: 15.08.1938, zmarł: 19.07.1985</p><ul><li>Cała prawda o planecie Ksi</li></ul><h1>Jan Paweł II</h1><p>Urodzony: 18.05.1920, zmarł: 02.04.2005</p><ul><li>Dives in misericordia</li><li>Slavorum apostoli</li><li>Ut unum sint</li><li>Veritatis splendor</li></ul><h1>Isaac Asimov</h1><p>Urodzony: 04.10.1919, zmarł: 06.04.1992</p><ul><li>Druga Fundacja</li><li>Fundacja (powieść)</li><li>Fundacja i Imperium</li><li>Preludium Fundacji</li></ul><h1>Ilja Ilf</h1><p>Urodzony: 15.10.1897, zmarł: 13.04.1937</p><ul><li>Dwanaście krzeseł</li></ul><h1>Jewgienij Pietrow (pisarz)</h1><p>Urodzony: 13.12.1903, zmarł: 02.07.1942</p><ul></ul><h1>Gabriela Zapolska</h1><p>Urodzony: 30.03.1857, zmarł: 17.12.1921</p><ul><li>Ich czworo</li></ul><h1>Jeffery Deaver</h1><p>Urodzony: 06.05.1950</p><ul><li>Kamienna małpa</li><li>Mag (powieść J. Deavera)</li></ul><h1>Terry Pratchett</h1><p>Urodzony: 28.04.1948</p><ul><li>Kot w stanie czystym</li></ul><h1>Clive Staples Lewis</h1><p>Urodzony: 29.11.1898, zmarł: 22.11.1963</p><ul><li>Koń i jego chłopiec</li></ul><h1>Adam Mickiewicz</h1><p>Urodzony: 24.12.1798, zmarł: 26.11.1855</p><ul><li>Księgi narodu polskiego i pielgrzymstwa polskiego</li></ul><h1>Andrzej Pilipiuk</h1><p>Urodzony: 20.03.1974</p><ul><li>Kuzynki</li></ul><h1>Ursula K. Le Guin</h1><p>Urodzony: 21.10.1929</p><ul><li>Lewa ręka ciemności</li><li>Czarnoksiężnik z Archipelagu</li></ul><h1>Iwan Turgieniew</h1><p>Urodzony: 09.11.1818, zmarł: 03.09.1883</p><ul><li>Ojcowie i dzieci</li></ul><h1>George R. R. Martin</h1><p>Urodzony: 20.09.1948</p><ul><li>Pieśń Lodu i Ognia</li></ul><h1>Ryszard Kapuściński</h1><p>Urodzony: 04.03.1932, zmarł: 23.01.2007</p><ul><li>Podróże z Herodotem</li></ul><h1>Lucy Maud Montgomery</h1><p>Urodzony: 30.11.1874, zmarł: 24.04.1942</p><ul><li>Rilla ze Złotego Brzegu</li></ul><h1>Dorota Terakowska</h1><p>Urodzony: 30.08.1938, zmarł: 04.01.2004</p><ul><li>Tam gdzie spadają anioły</li></ul><h1>Alfred Szklarski</h1><p>Urodzony: 21.01.1912, zmarł: 09.04.1992</p><ul><li>Tomek u źródeł Amazonki</li><li>Tomek w Gran Chaco</li><li>Tomek w grobowcach faraonów</li></ul><h1>Adam Zelga</h1><p>Urodzony: 11.03.1953</p><ul></ul><h1>Rafał A. Ziemkiewicz</h1><p>Urodzony: 13.09.1964</p><ul><li>Walc stulecia</li></ul><h1>Anne Rice</h1><p>Urodzony: 04.10.1941</p><ul><li>Wampir Lestat</li></ul><h1>Aleksander Majkowski</h1><p>Urodzony: 17.07.1876, zmarł: 10.02.1938</p><ul><li>Życie i przygody Remusa</li></ul><h1>Ian Fleming</h1><p>Urodzony: 28.05.1908, zmarł: 12.08.1964</p><ul><li>Casino Royale (powieść)</li></ul><h1>Gene Wolfe</h1><p>Urodzony: 07.05.1931</p><ul><li>Cień kata</li></ul><h1>Paulo Coelho</h1><p>Urodzony: 24.08.1947</p><ul><li>Czarownica z Portobello</li></ul><h1>Tom Clancy</h1><p>Urodzony: 12.04.1947, zmarł: 01.10.2013</p><ul><li>Czas patriotów (powieść)</li></ul>\""
      ]
     },
     "execution_count": 127,
     "metadata": {},
     "output_type": "execute_result"
    }
   ],
   "source": [
    "authors = Author.all\n",
    "document = \"\"\n",
    "authors.each do |author|\n",
    "  document +=\"<h1>#{author.name} #{author.surname}</h1><p>\"\n",
    "  if author.born != nil\n",
    "    document += \"Urodzony: #{author.born.strftime(\"%d.%m.%Y\")}\"\n",
    "  end\n",
    "  if author.died  != nil\n",
    "    document += \", zmarł: #{author.died.strftime(\"%d.%m.%Y\")}\"\n",
    "  end\n",
    "  document += \"</p>\"\n",
    "  document +=\"<ul>\"\n",
    "  books= Book.where(author: author)\n",
    "    books.each do |book|\n",
    "      document += \"<li>#{book.title}</li>\"\n",
    "    end\n",
    "document += \"</ul>\"\n",
    "end\n",
    "IRuby.html document"
   ]
  }
 ],
 "metadata": {
  "kernelspec": {
   "display_name": "Ruby 2.2.3",
   "language": "ruby",
   "name": "ruby"
  },
  "language_info": {
   "file_extension": "rb",
   "mimetype": "application/x-ruby",
   "name": "ruby",
   "version": "2.2.3"
  }
 },
 "nbformat": 4,
 "nbformat_minor": 0
}
