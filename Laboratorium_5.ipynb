{
 "metadata": {
  "language": "ruby",
  "name": "",
  "signature": "sha256:ac180d00417a88ed668da2f58e1523ed57d979c2aa95c991c1ce621769a36b71"
 },
 "nbformat": 3,
 "nbformat_minor": 0,
 "worksheets": [
  {
   "cells": [
    {
     "cell_type": "heading",
     "level": 1,
     "metadata": {},
     "source": [
      "Tablice zwyk\u0142e"
     ]
    },
    {
     "cell_type": "markdown",
     "metadata": {},
     "source": [
      "J\u0119zyk Ruby definiuje dwie podstawowe klasy `Array` oraz `Hash`, kt\u00f3re wykorzystywane s\u0105 jak _kontenery_ do przechowywania innych obiekt\u00f3w. W tym laboratorium opiszemy klas\u0119 `Array`, kt\u00f3ra charakteryzuje si\u0119 tym, \u017ce elementy s\u0105 w niej indeksowane za pomoc\u0105\u00a0liczba. Klasa `Hash` pozwala indeksowa\u0107 elementy za pomoc\u0105 dowolnych obiekt\u00f3w. Obiekty klasy `Array` b\u0119dzimy nazywa\u0107 _tablicami zwyk\u0142ywmi_ (czasami skr\u00f3towo po porstu tablicami), a obiekty klasy `Hash` - _tablicami asocjacyjnymi_. "
     ]
    },
    {
     "cell_type": "heading",
     "level": 2,
     "metadata": {},
     "source": [
      "Tworzenie tablic"
     ]
    },
    {
     "cell_type": "markdown",
     "metadata": {},
     "source": [
      "Stowrzenie tablicy zwyk\u0142ej jest proste - wystarczy uj\u0105\u0107 dowolny ci\u0105g element\u00f3w w nawiasy kwadratowe i oddzieli\u0107 je przecinkami.\n",
      "\n",
      "```ruby\n",
      "tablica_napisow = [\"Ala\", \"ma\", \"kota\"]\n",
      "```"
     ]
    },
    {
     "cell_type": "code",
     "collapsed": false,
     "input": [],
     "language": "python",
     "metadata": {},
     "outputs": []
    },
    {
     "cell_type": "markdown",
     "metadata": {},
     "source": [
      "Tablice mog\u0105 jednocze\u015bnie zawiera\u0107 elementy r\u00f3\u017cnych typ\u00f3w\n",
      "```ruby\n",
      "dziwna_tablica = [\"Ala\", 10, /abc/]\n",
      "```"
     ]
    },
    {
     "cell_type": "code",
     "collapsed": false,
     "input": [],
     "language": "python",
     "metadata": {},
     "outputs": []
    },
    {
     "cell_type": "markdown",
     "metadata": {},
     "source": [
      "Aby odwo\u0142a\u0107 si\u0119\u00a0do kt\u00f3rego\u015b\u00a0spo\u015br\u00f3d element\u00f3w tablicy u\u017cywamy operatora indeksowania `[]`. Dopuszczalnymi warto\u015bciami indeks\u00f3w s\u0105 liczby naturalne. Tablice indeksowane s\u0105 od 0.\n",
      "\n",
      "```ruby\n",
      "tablica_napisow = [\"Ala\", \"ma\", \"kota\"]\n",
      "tablica_napisow[0]\n",
      "tablica_napisow[1]\n",
      "```"
     ]
    },
    {
     "cell_type": "code",
     "collapsed": false,
     "input": [],
     "language": "python",
     "metadata": {},
     "outputs": []
    },
    {
     "cell_type": "markdown",
     "metadata": {},
     "source": [
      "Odwo\u0142anie si\u0119 do elementu o indeksie spoza zakresu skutkuje zwr\u00f3ceniem warto\u015bci pustej\n",
      "```ruby\n",
      "tablica_liczb = [1,3,5]\n",
      "tablica_liczb[5]\n",
      "```"
     ]
    },
    {
     "cell_type": "code",
     "collapsed": false,
     "input": [],
     "language": "python",
     "metadata": {},
     "outputs": []
    },
    {
     "cell_type": "markdown",
     "metadata": {},
     "source": [
      "Podobnie jak w przypadku napis\u00f3w, operator zakresu akceptuje przedzia\u0142y oraz warto\u015bci ujemne\n",
      "```ruby\n",
      "tablica_liczb = [1,3,5]\n",
      "tablica_liczb[0..1]\n",
      "tablica_liczb[1..-1]\n",
      "```"
     ]
    },
    {
     "cell_type": "code",
     "collapsed": false,
     "input": [],
     "language": "python",
     "metadata": {},
     "outputs": []
    },
    {
     "cell_type": "markdown",
     "metadata": {},
     "source": [
      "Poniewa\u017c tablice w Rubim s\u0105 dynamicznie zarz\u0105dzane, jedynym ograniczeniem ich rozmiaru jest dost\u0119pna pami\u0119\u0107 operacyjna.\n",
      "Je\u015bli przypiszemy warto\u015b\u0107 do indeksu, kt\u00f3ry wcze\u015bniej nie by\u0142 zajmowany, wszystkie wcze\u015bniejsze indeksy _implicite_ otrzymaj\u0105\n",
      "warto\u015b\u0107 `nil`.\n",
      "\n",
      "```ruby\n",
      "tablica_liczba = [1,3,5]\n",
      "p tablica_liczba\n",
      "tablica_liczb[30] = 50\n",
      "p tablica_liczb\n",
      "```"
     ]
    },
    {
     "cell_type": "code",
     "collapsed": false,
     "input": [],
     "language": "python",
     "metadata": {},
     "outputs": []
    },
    {
     "cell_type": "markdown",
     "metadata": {},
     "source": [
      "Co wi\u0119cej, przy przypisywaniu warto\u015bci do tablicy mo\u017cna r\u00f3wnie\u017c wskaza\u0107 zakres warto\u015bci, np.\n",
      "```ruby\n",
      "tablica_liczb = [1,3,5]\n",
      "tablica_liczb[1..2] = [2,4,6]\n",
      "tablica_liczb\n",
      "```"
     ]
    },
    {
     "cell_type": "code",
     "collapsed": false,
     "input": [],
     "language": "python",
     "metadata": {},
     "outputs": [],
     "prompt_number": 5
    },
    {
     "cell_type": "markdown",
     "metadata": {},
     "source": [
      "Mechanizm ten pozwala nam rozszerza\u0107 tablic\u0119 w dowolnym miejscu - nawet bez utraty jej wcze\u015bniejszej zawarto\u015bci. Aby uzyska\u0107 ten efekt, konieczne jest wskazanie niedomkni\u0119tego zakresu, kt\u00f3rego oba ko\u0144ce s\u0105 identyczne\n",
      "```ruby\n",
      "tablica_liczb = [1,3,5]\n",
      "tablica_liczb[1...1] = [2,4,6]\n",
      "tablica_liczb\n",
      "```"
     ]
    },
    {
     "cell_type": "code",
     "collapsed": false,
     "input": [],
     "language": "python",
     "metadata": {},
     "outputs": []
    },
    {
     "cell_type": "heading",
     "level": 3,
     "metadata": {},
     "source": [
      "Zadanie 1"
     ]
    },
    {
     "cell_type": "markdown",
     "metadata": {},
     "source": [
      "Dla tablicy ```[\"a\",\"b\",\"d\",\"e\"]``` wstaw liter\u0119 ```\"c\"``` pomi\u0119dzy litery b i d."
     ]
    },
    {
     "cell_type": "code",
     "collapsed": false,
     "input": [
      "tablica = [\"a\", \"b\", \"d\", \"e\"]\n"
     ],
     "language": "python",
     "metadata": {},
     "outputs": []
    },
    {
     "cell_type": "markdown",
     "metadata": {},
     "source": [
      "Mo\u017cliwe jest r\u00f3wnie\u017c tworzenie tablic za pomoc\u0105 konstruktora klasy `Array`\n",
      "```ruby\n",
      "Array.new\n",
      "```"
     ]
    },
    {
     "cell_type": "code",
     "collapsed": false,
     "input": [],
     "language": "python",
     "metadata": {},
     "outputs": []
    },
    {
     "cell_type": "markdown",
     "metadata": {},
     "source": [
      "Najcz\u0119\u015bciej konstruktor ten jednak jest wykorzystywany, je\u015bli chcemy okre\u015bli\u0107 pocz\u0105tkowy rozmiar tablicy\n",
      "```ruby\n",
      "Array.new(5)\n",
      "```"
     ]
    },
    {
     "cell_type": "code",
     "collapsed": false,
     "input": [],
     "language": "python",
     "metadata": {},
     "outputs": []
    },
    {
     "cell_type": "markdown",
     "metadata": {},
     "source": [
      "Mo\u017cemy r\u00f3wnie\u017c okre\u015bli\u0107 pocz\u0105tkow\u0105 zawarto\u015b\u0107 tablicy\n",
      "```ruby\n",
      "Array.new(5,\"a\")\n",
      "```"
     ]
    },
    {
     "cell_type": "code",
     "collapsed": false,
     "input": [],
     "language": "python",
     "metadata": {},
     "outputs": [],
     "prompt_number": 7
    },
    {
     "cell_type": "markdown",
     "metadata": {},
     "source": [
      "Je\u015bli konstruujemy tablic\u0119 napis\u00f3w, mo\u017cemy skorzysta\u0107 z wygodniejszego zapisu, w kt\u00f3rym unikamy u\u017cywania cudzys\u0142ow\u00f3w oraz przecink\u00f3w\n",
      "```ruby\n",
      "tablica_napisow = %w(Ala ma kota)\n",
      "```"
     ]
    },
    {
     "cell_type": "code",
     "collapsed": false,
     "input": [],
     "language": "python",
     "metadata": {},
     "outputs": []
    },
    {
     "cell_type": "heading",
     "level": 3,
     "metadata": {},
     "source": [
      "Zadanie 2"
     ]
    },
    {
     "cell_type": "markdown",
     "metadata": {},
     "source": [
      "Jakie litery w alfabecie \u0142aci\u0144skim zajmuj\u0105 pozycje od 10 do 15?"
     ]
    },
    {
     "cell_type": "code",
     "collapsed": false,
     "input": [],
     "language": "python",
     "metadata": {},
     "outputs": []
    },
    {
     "cell_type": "heading",
     "level": 2,
     "metadata": {},
     "source": [
      "Operatory dzia\u0142aj\u0105ce na tablicach"
     ]
    },
    {
     "cell_type": "markdown",
     "metadata": {},
     "source": [
      "Ruby definiuje szereg operator\u00f3w, kt\u00f3re mog\u0105 by\u0107\u00a0wykorzystywane do modyfikowania tablic.\n",
      "W pierwszej kolejno\u015bci mo\u017cemy wyp\u00f3rbowa\u0107 dzia\u0142anie operatora `+`.\n",
      "```ruby\n",
      "a = [1,2,3]\n",
      "b = [4,5]\n",
      "a + b\n",
      "```"
     ]
    },
    {
     "cell_type": "code",
     "collapsed": false,
     "input": [],
     "language": "python",
     "metadata": {},
     "outputs": []
    },
    {
     "cell_type": "markdown",
     "metadata": {},
     "source": [
      "Dzia\u0142anie operatora `-` jest r\u00f3wnie\u017c do\u015b\u0107 intuicyjne."
     ]
    },
    {
     "cell_type": "markdown",
     "metadata": {},
     "source": [
      "```ruby\n",
      "a = [1,2,3]\n",
      "b = [1,3,4]\n",
      "a - b\n",
      "```"
     ]
    },
    {
     "cell_type": "code",
     "collapsed": false,
     "input": [],
     "language": "python",
     "metadata": {},
     "outputs": []
    },
    {
     "cell_type": "markdown",
     "metadata": {},
     "source": [
      "Oba operatory traktuj\u0105 tablice jak ci\u0105gi, tzn. warto\u015bci w nich mog\u0105\u00a0si\u0119 powtarza\u0107:\n",
      "```ruby\n",
      "a = [1,2,3]\n",
      "b = [3,4,5]\n",
      "a + b\n",
      "```"
     ]
    },
    {
     "cell_type": "code",
     "collapsed": false,
     "input": [],
     "language": "python",
     "metadata": {},
     "outputs": []
    },
    {
     "cell_type": "markdown",
     "metadata": {},
     "source": [
      "Je\u015bli chcieliby\u015bmy u\u017cy\u0107 tablic jako zbior\u00f3w, mo\u017cemy w tym celu wykorzysta\u0107 opartory `|` (suma teoriomnogo\u015bciowa) oraz `&` (iloczyn teoriomnogo\u015bciowy)\n",
      "```ruby\n",
      "a = [1,2,3]\n",
      "b = [2,3,4]\n",
      "a | b\n",
      "```"
     ]
    },
    {
     "cell_type": "code",
     "collapsed": false,
     "input": [],
     "language": "python",
     "metadata": {},
     "outputs": []
    },
    {
     "cell_type": "markdown",
     "metadata": {},
     "source": [
      "```ruby\n",
      "a = [1,2,3]\n",
      "b = [2,3,4]\n",
      "a & b\n",
      "```"
     ]
    },
    {
     "cell_type": "code",
     "collapsed": false,
     "input": [],
     "language": "python",
     "metadata": {},
     "outputs": []
    },
    {
     "cell_type": "heading",
     "level": 3,
     "metadata": {},
     "source": [
      "Zadanie 3"
     ]
    },
    {
     "cell_type": "markdown",
     "metadata": {},
     "source": [
      "Znajd\u017a wszystkie samog\u0142oski w\u015br\u00f3d liter alfabetu angielskiego poczynaj\u0105c od ```g```. Wykorzystaj do tego operacje na tablicach i zakresy."
     ]
    },
    {
     "cell_type": "code",
     "collapsed": false,
     "input": [
      "samogloski = [\"y\", \"u\", \"a\", \"i\", \"e\", \"o\"]\n"
     ],
     "language": "python",
     "metadata": {},
     "outputs": []
    },
    {
     "cell_type": "heading",
     "level": 2,
     "metadata": {},
     "source": [
      "Tablica jako stos i kolejka"
     ]
    },
    {
     "cell_type": "markdown",
     "metadata": {},
     "source": [
      "Ruby pozwala r\u00f3wnie\u017c wykorzystywa\u0107 tablice jak kolejki oraz stosy - s\u0142u\u017c\u0105 do tego odpowiednie funkcje. Dodanie elementu na koniec tablicy mo\u017cna zrealizowa\u0107 na dwa sposoby. Po pierwsze z wykorzystaniem operatora `<<`\n",
      "```ruby\n",
      "tablica = [1,2,3]\n",
      "tablica << 4\n",
      "tablica\n",
      "```"
     ]
    },
    {
     "cell_type": "code",
     "collapsed": false,
     "input": [],
     "language": "python",
     "metadata": {},
     "outputs": []
    },
    {
     "cell_type": "markdown",
     "metadata": {},
     "source": [
      "Po drugie z wykorzystaniem metody `push`\n",
      "```ruby\n",
      "tablica = [1,2,3]\n",
      "tablica.push(4)\n",
      "tablica\n",
      "```"
     ]
    },
    {
     "cell_type": "code",
     "collapsed": false,
     "input": [],
     "language": "python",
     "metadata": {},
     "outputs": []
    },
    {
     "cell_type": "markdown",
     "metadata": {},
     "source": [
      "Metoda `push` posiada komplementarn\u0105 wobec niej metod\u0119 `pop`, kt\u00f3ra usuwa ostani element. Pozwala to traktowa\u0107 tablic\u0119 jak stos\n",
      "```ruby\n",
      "tablica = [1,2,3]\n",
      "tablica.push(5)\n",
      "tablica.push(7)\n",
      "p tablica\n",
      "tablica.pop\n",
      "tablica.pop\n",
      "tablica.pop\n",
      "p tablica\n",
      "```"
     ]
    },
    {
     "cell_type": "code",
     "collapsed": false,
     "input": [],
     "language": "python",
     "metadata": {},
     "outputs": []
    },
    {
     "cell_type": "markdown",
     "metadata": {},
     "source": [
      "Mo\u017cemy r\u00f3wnie\u017c skorzysta\u0107 z metody `shift` - wtedy tablica zamienia si\u0119\u00a0w kolejk\u0119\n",
      "```ruby\n",
      "tablica = []\n",
      "tablica.push(1)\n",
      "tablica.push(3)\n",
      "tablica.push(5)\n",
      "tablica.push(7)\n",
      "p tablica.shift\n",
      "p tablica.shift\n",
      "p tablica.shift\n",
      "```"
     ]
    },
    {
     "cell_type": "code",
     "collapsed": false,
     "input": [],
     "language": "python",
     "metadata": {},
     "outputs": []
    },
    {
     "cell_type": "markdown",
     "metadata": {},
     "source": [
      "Klasa `Array` posiada r\u00f3wnie\u017c metod\u0119 `reverse`, kt\u00f3ra odwraca kolejno\u015b\u0107\u00a0elemnt\u00f3w tablicy\n",
      "```ruby\n",
      "tablica = [1,2,3,4]\n",
      "tablica.reverse\n",
      "```"
     ]
    },
    {
     "cell_type": "code",
     "collapsed": false,
     "input": [],
     "language": "python",
     "metadata": {},
     "outputs": [],
     "prompt_number": 9
    },
    {
     "cell_type": "heading",
     "level": 3,
     "metadata": {},
     "source": [
      "Zadanie 4"
     ]
    },
    {
     "cell_type": "markdown",
     "metadata": {},
     "source": [
      "Wypisz wszystkie litery alfabetu \u0142aci\u0144skiego w odwrotnej kolejno\u015bci ni\u017c standardowa (tzn. zaczynaj\u0105c od ```z```)."
     ]
    },
    {
     "cell_type": "code",
     "collapsed": false,
     "input": [],
     "language": "python",
     "metadata": {},
     "outputs": []
    },
    {
     "cell_type": "heading",
     "level": 2,
     "metadata": {},
     "source": [
      "Badanie zawarto\u015bci tablicy"
     ]
    },
    {
     "cell_type": "markdown",
     "metadata": {},
     "source": [
      "Tablice posiadaj\u0105 metod\u0119 `size`, kt\u00f3ra zwraca ich rozmiar\n",
      "```ruby\n",
      "tablica_liczb = [1,2,3]\n",
      "tablica_liczb.size\n",
      "```"
     ]
    },
    {
     "cell_type": "code",
     "collapsed": false,
     "input": [],
     "language": "python",
     "metadata": {},
     "outputs": []
    },
    {
     "cell_type": "markdown",
     "metadata": {},
     "source": [
      "Mo\u017cemy r\u00f3wnie\u017c sprawdzi\u0107 czy tablica jest pusta, za pomoc\u0105 wywo\u0142ania `empty?`\n",
      "```ruby\n",
      "p [].empty?\n",
      "p [1,2,3].empty?\n",
      "```"
     ]
    },
    {
     "cell_type": "code",
     "collapsed": false,
     "input": [],
     "language": "python",
     "metadata": {},
     "outputs": []
    },
    {
     "cell_type": "markdown",
     "metadata": {},
     "source": [
      "Odow\u0142anie do pierwszego elementu poza `tablica[0]` mo\u017cna r\u00f3wie\u017c zrealizowa\u0107 za pomoc\u0105 metody `first`\n",
      "```ruby\n",
      "tablica = [3,4,5]\n",
      "tablica.first\n",
      "```"
     ]
    },
    {
     "cell_type": "code",
     "collapsed": false,
     "input": [],
     "language": "python",
     "metadata": {},
     "outputs": []
    },
    {
     "cell_type": "markdown",
     "metadata": {},
     "source": [
      "Podobnie do ostatniego elementu mo\u017cemy odwo\u0142a\u0107 si\u0119 za pomoc\u0105 wywo\u0142ania `last`\n",
      "```ruby\n",
      "tablica = [3,4,5]\n",
      "tablica.last\n",
      "```"
     ]
    },
    {
     "cell_type": "code",
     "collapsed": false,
     "input": [],
     "language": "python",
     "metadata": {},
     "outputs": []
    },
    {
     "cell_type": "heading",
     "level": 2,
     "metadata": {},
     "source": [
      "Modyfikowanie tablic"
     ]
    },
    {
     "cell_type": "markdown",
     "metadata": {},
     "source": [
      "Ruby dostarcza wielu przydatnych metod do pracy z tablicami. Pierwsz\u0105 z nich jest `compact`, kt\u00f3ra usuwa puste elemty z tablicy\n",
      "```ruby\n",
      "[1,2,nil,5,nil,nil].compact\n",
      "```"
     ]
    },
    {
     "cell_type": "code",
     "collapsed": false,
     "input": [],
     "language": "python",
     "metadata": {},
     "outputs": []
    },
    {
     "cell_type": "markdown",
     "metadata": {},
     "source": [
      "Metoda `uniq` usuwa za\u015b powtarzaj\u0105ce si\u0119 elementy\n",
      "```ruby\n",
      "[1,1,3,nil,nil,3,5,5,5].uniq\n",
      "```"
     ]
    },
    {
     "cell_type": "code",
     "collapsed": false,
     "input": [],
     "language": "python",
     "metadata": {},
     "outputs": []
    },
    {
     "cell_type": "markdown",
     "metadata": {},
     "source": [
      "Usuwanie indywidualnych element\u00f3w mo\u017ce odbywa\u0107 sie\u00a0na dwa sposoby. Po pierwsze mo\u017cemy u\u017cy\u0107 metody `delete`, kt\u00f3ra usuwa wszystkie elementy o danej warto\u015bci, zmniejszaj\u0105c rozmiar tablicy\n",
      "```ruby\n",
      "tablica = [1,2,3,5,5,2]\n",
      "tablica.delete(2)\n",
      "tablica\n",
      "```"
     ]
    },
    {
     "cell_type": "code",
     "collapsed": false,
     "input": [],
     "language": "python",
     "metadata": {},
     "outputs": [],
     "prompt_number": 12
    },
    {
     "cell_type": "markdown",
     "metadata": {},
     "source": [
      "Natomiast metoda `delete_at` usuwa element o zadanym indeksie\n",
      "```ruby\n",
      "tablica = [3,4,5,6]\n",
      "tablica.delete_at(2)\n",
      "tablica\n",
      "```"
     ]
    },
    {
     "cell_type": "code",
     "collapsed": false,
     "input": [],
     "language": "python",
     "metadata": {},
     "outputs": []
    },
    {
     "cell_type": "markdown",
     "metadata": {},
     "source": [
      "Przydatnym jest r\u00f3wnie\u017c wywo\u0142anie `join`, kt\u00f3re zamienia tablic\u0119 na \u0142a\u0144cuch znak\u00f3w\n",
      "```ruby\n",
      "tablica = [3,4,5]\n",
      "tablica.join(\" - \")\n",
      "```"
     ]
    },
    {
     "cell_type": "code",
     "collapsed": false,
     "input": [],
     "language": "python",
     "metadata": {},
     "outputs": [],
     "prompt_number": 14
    },
    {
     "cell_type": "heading",
     "level": 3,
     "metadata": {},
     "source": [
      "Zadanie 5"
     ]
    },
    {
     "cell_type": "markdown",
     "metadata": {},
     "source": [
      "W zadanej tablicy usu\u0144 wszystkie warto\u015bci `nil` oraz elementy powtarzaj\u0105ce si\u0119 (w wynikowej tablicy ma wyst\u0119powa\u0107 tylko jeden \n",
      "reprezentant powt\u00f3rzonych warto\u015bci)."
     ]
    },
    {
     "cell_type": "code",
     "collapsed": false,
     "input": [
      "tablica = [4, 7, 8, nil, 10, 3, nil, 3, 4, nil, 6]\n"
     ],
     "language": "python",
     "metadata": {},
     "outputs": []
    }
   ],
   "metadata": {}
  }
 ]
}