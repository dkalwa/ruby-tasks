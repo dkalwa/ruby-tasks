{
 "metadata": {
  "language": "ruby",
  "name": "",
  "signature": "sha256:6a234830adaa322e9c36aadfdb750fca254f984cf009b445f3e3352874bb953a"
 },
 "nbformat": 3,
 "nbformat_minor": 0,
 "worksheets": [
  {
   "cells": [
    {
     "cell_type": "heading",
     "level": 1,
     "metadata": {},
     "source": [
      "P\u0119tle"
     ]
    },
    {
     "cell_type": "heading",
     "level": 2,
     "metadata": {},
     "source": [
      "loop"
     ]
    },
    {
     "cell_type": "markdown",
     "metadata": {},
     "source": [
      "`loop` to p\u0119tla niesko\u0144czona. Nale\u017cy jej u\u017cywa\u0107 ostro\u017cnie:\n",
      "```ruby\n",
      "loop do\n",
      "  puts \"P\u0119tla niesko\u0144czona\"\n",
      "  sleep(1)\n",
      "end\n",
      "```\n",
      "(Mo\u017cesz j\u0105 przerwa\u0107 klikaj\u0105c na czarny kwadrat powy\u017cej.)"
     ]
    },
    {
     "cell_type": "code",
     "collapsed": false,
     "input": [
      "loop do\n",
      "  puts \"P\u0119tla niesko\u0144czona\"\n",
      "  sleep(1)\n",
      "end\n"
     ],
     "language": "python",
     "metadata": {},
     "outputs": [
      {
       "output_type": "stream",
       "stream": "stdout",
       "text": [
        "P\u0119tla niesko\u0144czona\n"
       ]
      },
      {
       "output_type": "stream",
       "stream": "stdout",
       "text": [
        "P\u0119tla niesko\u0144czona\n"
       ]
      },
      {
       "output_type": "stream",
       "stream": "stdout",
       "text": [
        "P\u0119tla niesko\u0144czona\n"
       ]
      },
      {
       "output_type": "stream",
       "stream": "stdout",
       "text": [
        "P\u0119tla niesko\u0144czona\n"
       ]
      },
      {
       "output_type": "stream",
       "stream": "stdout",
       "text": [
        "P\u0119tla niesko\u0144czona\n"
       ]
      },
      {
       "output_type": "stream",
       "stream": "stdout",
       "text": [
        "P\u0119tla niesko\u0144czona\n"
       ]
      },
      {
       "output_type": "stream",
       "stream": "stdout",
       "text": [
        "P\u0119tla niesko\u0144czona\n"
       ]
      },
      {
       "output_type": "stream",
       "stream": "stdout",
       "text": [
        "P\u0119tla niesko\u0144czona\n"
       ]
      },
      {
       "output_type": "stream",
       "stream": "stdout",
       "text": [
        "P\u0119tla niesko\u0144czona\n"
       ]
      },
      {
       "output_type": "stream",
       "stream": "stdout",
       "text": [
        "P\u0119tla niesko\u0144czona\n"
       ]
      },
      {
       "output_type": "stream",
       "stream": "stdout",
       "text": [
        "P\u0119tla niesko\u0144czona\n"
       ]
      },
      {
       "output_type": "stream",
       "stream": "stdout",
       "text": [
        "P\u0119tla niesko\u0144czona\n"
       ]
      },
      {
       "output_type": "stream",
       "stream": "stdout",
       "text": [
        "P\u0119tla niesko\u0144czona\n"
       ]
      },
      {
       "output_type": "stream",
       "stream": "stdout",
       "text": [
        "P\u0119tla niesko\u0144czona\n"
       ]
      },
      {
       "output_type": "stream",
       "stream": "stdout",
       "text": [
        "P\u0119tla niesko\u0144czona\n"
       ]
      },
      {
       "output_type": "stream",
       "stream": "stdout",
       "text": [
        "P\u0119tla niesko\u0144czona\n"
       ]
      },
      {
       "output_type": "stream",
       "stream": "stdout",
       "text": [
        "P\u0119tla niesko\u0144czona\n"
       ]
      },
      {
       "output_type": "stream",
       "stream": "stdout",
       "text": [
        "P\u0119tla niesko\u0144czona\n"
       ]
      },
      {
       "output_type": "stream",
       "stream": "stdout",
       "text": [
        "P\u0119tla niesko\u0144czona\n"
       ]
      },
      {
       "output_type": "stream",
       "stream": "stdout",
       "text": [
        "P\u0119tla niesko\u0144czona\n"
       ]
      },
      {
       "output_type": "stream",
       "stream": "stdout",
       "text": [
        "P\u0119tla niesko\u0144czona\n"
       ]
      },
      {
       "output_type": "stream",
       "stream": "stdout",
       "text": [
        "P\u0119tla niesko\u0144czona\n"
       ]
      },
      {
       "output_type": "stream",
       "stream": "stdout",
       "text": [
        "P\u0119tla niesko\u0144czona\n"
       ]
      },
      {
       "output_type": "stream",
       "stream": "stdout",
       "text": [
        "P\u0119tla niesko\u0144czona\n"
       ]
      },
      {
       "ename": "Interrupt",
       "evalue": "",
       "output_type": "pyerr",
       "traceback": [
        "\u001b[31mInterrupt\u001b[0m: ",
        "\u001b[37m<main>:2:in `sleep'\u001b[0m",
        "\u001b[37m<main>:2:in `block in <main>'\u001b[0m",
        "\u001b[37m<main>:in `loop'\u001b[0m",
        "\u001b[37m<main>:in `<main>'\u001b[0m",
        "\u001b[37m/usr/local/rvm/gems/ruby-2.0.0-p0/gems/iruby-0.1.13/lib/iruby/backend.rb:8:in `eval'\u001b[0m",
        "\u001b[37m/usr/local/rvm/gems/ruby-2.0.0-p0/gems/iruby-0.1.13/lib/iruby/backend.rb:8:in `eval'\u001b[0m",
        "\u001b[37m/usr/local/rvm/gems/ruby-2.0.0-p0/gems/iruby-0.1.13/lib/iruby/kernel.rb:110:in `execute_request'\u001b[0m",
        "\u001b[37m/usr/local/rvm/gems/ruby-2.0.0-p0/gems/iruby-0.1.13/lib/iruby/kernel.rb:62:in `run'\u001b[0m",
        "\u001b[37m/usr/local/rvm/gems/ruby-2.0.0-p0/gems/iruby-0.1.13/lib/iruby/command.rb:30:in `run_kernel'\u001b[0m",
        "\u001b[37m/usr/local/rvm/gems/ruby-2.0.0-p0/gems/iruby-0.1.13/lib/iruby/command.rb:16:in `run'\u001b[0m",
        "\u001b[37m/usr/local/rvm/gems/ruby-2.0.0-p0/gems/iruby-0.1.13/bin/iruby:6:in `<top (required)>'\u001b[0m",
        "\u001b[37m/usr/local/rvm/gems/ruby-2.0.0-p0/bin/iruby:23:in `load'\u001b[0m",
        "\u001b[37m/usr/local/rvm/gems/ruby-2.0.0-p0/bin/iruby:23:in `<main>'\u001b[0m",
        "\u001b[37m/usr/local/rvm/gems/ruby-2.0.0-p0/bin/ruby_noexec_wrapper:14:in `eval'\u001b[0m",
        "\u001b[37m/usr/local/rvm/gems/ruby-2.0.0-p0/bin/ruby_noexec_wrapper:14:in `<main>'\u001b[0m"
       ]
      }
     ],
     "prompt_number": 1
    },
    {
     "cell_type": "markdown",
     "metadata": {},
     "source": [
      "Zwykle jest wykorzystywana w po\u0142\u0105czeniu z poleceniem `break`, kt\u00f3re powoduje jej przerwanie:\n",
      "```ruby\n",
      "loop_count = 0\n",
      "loop do\n",
      "  loop_count += 1\n",
      "  puts \"P\u0119tla sko\u0144czona #{loop_count}\"\n",
      "  break if loop_count >= 10\n",
      "end\n",
      "```"
     ]
    },
    {
     "cell_type": "code",
     "collapsed": false,
     "input": [
      "loop_count = 0\n",
      "loop do\n",
      "  loop_count += 1\n",
      "  puts \"P\u0119tla sko\u0144czona #{loop_count}\"\n",
      "  break if loop_count >= 10\n",
      "end"
     ],
     "language": "python",
     "metadata": {},
     "outputs": [
      {
       "output_type": "stream",
       "stream": "stdout",
       "text": [
        "P\u0119tla sko\u0144czona 1\n"
       ]
      },
      {
       "output_type": "stream",
       "stream": "stdout",
       "text": [
        "P\u0119tla sko\u0144czona 2\n"
       ]
      },
      {
       "output_type": "stream",
       "stream": "stdout",
       "text": [
        "P\u0119tla sko\u0144czona 3\n"
       ]
      },
      {
       "output_type": "stream",
       "stream": "stdout",
       "text": [
        "P\u0119tla sko\u0144czona 4\n"
       ]
      },
      {
       "output_type": "stream",
       "stream": "stdout",
       "text": [
        "P\u0119tla sko\u0144czona 5\n"
       ]
      },
      {
       "output_type": "stream",
       "stream": "stdout",
       "text": [
        "P\u0119tla sko\u0144czona 6\n"
       ]
      },
      {
       "output_type": "stream",
       "stream": "stdout",
       "text": [
        "P\u0119tla sko\u0144czona 7\n"
       ]
      },
      {
       "output_type": "stream",
       "stream": "stdout",
       "text": [
        "P\u0119tla sko\u0144czona 8\n"
       ]
      },
      {
       "output_type": "stream",
       "stream": "stdout",
       "text": [
        "P\u0119tla sko\u0144czona 9\n"
       ]
      },
      {
       "output_type": "stream",
       "stream": "stdout",
       "text": [
        "P\u0119tla sko\u0144czona 10\n"
       ]
      }
     ],
     "prompt_number": 2
    },
    {
     "cell_type": "heading",
     "level": 2,
     "metadata": {},
     "source": [
      "while, until"
     ]
    },
    {
     "cell_type": "markdown",
     "metadata": {},
     "source": [
      "Je\u015bli jednak isnieje tylko jeden warunek opuszczenia p\u0119tli, zwykle korzystamy z p\u0119tli `while` lub `until`.\n",
      "Pierwsza z nich wykonuje si\u0119, tak d\u0142ugo jak warunek jest spe\u0142niony, np.\n",
      "```ruby\n",
      "counter = 1\n",
      "while(counter < 10) do\n",
      "  puts \"P\u0119tla until #{counter}\"\n",
      "  counter += 1\n",
      "end\n",
      "```"
     ]
    },
    {
     "cell_type": "code",
     "collapsed": false,
     "input": [
      "counter = 1\n",
      "while(counter < 10) do\n",
      "  puts \"P\u0119tla until #{counter}\"\n",
      "  counter += 1\n",
      "end"
     ],
     "language": "python",
     "metadata": {},
     "outputs": [
      {
       "output_type": "stream",
       "stream": "stdout",
       "text": [
        "P\u0119tla until 1\n"
       ]
      },
      {
       "output_type": "stream",
       "stream": "stdout",
       "text": [
        "P\u0119tla until 2\n"
       ]
      },
      {
       "output_type": "stream",
       "stream": "stdout",
       "text": [
        "P\u0119tla until 3\n"
       ]
      },
      {
       "output_type": "stream",
       "stream": "stdout",
       "text": [
        "P\u0119tla until 4\n"
       ]
      },
      {
       "output_type": "stream",
       "stream": "stdout",
       "text": [
        "P\u0119tla until 5\n"
       ]
      },
      {
       "output_type": "stream",
       "stream": "stdout",
       "text": [
        "P\u0119tla until 6\n"
       ]
      },
      {
       "output_type": "stream",
       "stream": "stdout",
       "text": [
        "P\u0119tla until 7\n"
       ]
      },
      {
       "output_type": "stream",
       "stream": "stdout",
       "text": [
        "P\u0119tla until 8\n"
       ]
      },
      {
       "output_type": "stream",
       "stream": "stdout",
       "text": [
        "P\u0119tla until 9\n"
       ]
      }
     ],
     "prompt_number": 3
    },
    {
     "cell_type": "markdown",
     "metadata": {},
     "source": [
      "P\u0119tla `until` wykonuje si\u0119 za\u015b do momentu, w kt\u00f3rym warunek zostanie spe\u0142niony:\n",
      "```ruby\n",
      "counter = 1\n",
      "until(counter > 10) do\n",
      "  puts \"P\u0119tla until #{counter}\"\n",
      "  counter += 1\n",
      "end\n",
      "```"
     ]
    },
    {
     "cell_type": "code",
     "collapsed": false,
     "input": [
      "counter = 1\n",
      "until(counter > 10) do\n",
      "  puts \"P\u0119tla until #{counter}\"\n",
      "  counter += 1\n",
      "end"
     ],
     "language": "python",
     "metadata": {},
     "outputs": [
      {
       "output_type": "stream",
       "stream": "stdout",
       "text": [
        "P\u0119tla until 1\n"
       ]
      },
      {
       "output_type": "stream",
       "stream": "stdout",
       "text": [
        "P\u0119tla until 2\n"
       ]
      },
      {
       "output_type": "stream",
       "stream": "stdout",
       "text": [
        "P\u0119tla until 3\n"
       ]
      },
      {
       "output_type": "stream",
       "stream": "stdout",
       "text": [
        "P\u0119tla until 4\n"
       ]
      },
      {
       "output_type": "stream",
       "stream": "stdout",
       "text": [
        "P\u0119tla until 5\n"
       ]
      },
      {
       "output_type": "stream",
       "stream": "stdout",
       "text": [
        "P\u0119tla until 6\n"
       ]
      },
      {
       "output_type": "stream",
       "stream": "stdout",
       "text": [
        "P\u0119tla until 7\n"
       ]
      },
      {
       "output_type": "stream",
       "stream": "stdout",
       "text": [
        "P\u0119tla until 8\n"
       ]
      },
      {
       "output_type": "stream",
       "stream": "stdout",
       "text": [
        "P\u0119tla until 9\n"
       ]
      },
      {
       "output_type": "stream",
       "stream": "stdout",
       "text": [
        "P\u0119tla until 10\n"
       ]
      }
     ],
     "prompt_number": 4
    },
    {
     "cell_type": "markdown",
     "metadata": {},
     "source": [
      "Mo\u017cna jej u\u017cy\u0107, np. do wy\u015bwietlenia zawarto\u015bci pliku:\n",
      "```ruby\n",
      "file = File.open(\"data/books.csv\")\n",
      "until(file.eof?) do\n",
      "  puts file.readline.chomp\n",
      "end\n",
      "```"
     ]
    },
    {
     "cell_type": "code",
     "collapsed": false,
     "input": [
      "file = File.open(\"data/books.csv\")\n",
      "until(file.eof?) do\n",
      "  puts file.readline.chomp\n",
      "end"
     ],
     "language": "python",
     "metadata": {},
     "outputs": [
      {
       "output_type": "stream",
       "stream": "stdout",
       "text": [
        "\"a\",\"b\"\n"
       ]
      },
      {
       "output_type": "stream",
       "stream": "stdout",
       "text": [
        "\"http://hu.dbpedia.org/resource/Orson_Scott_Card\",\"http://hu.dbpedia.org/resource/V\u00e9gj\u00e1t\u00e9k_(reg\u00e9ny)\"\n"
       ]
      },
      {
       "output_type": "stream",
       "stream": "stdout",
       "text": [
        "\"http://pl.dbpedia.org/resource/Andrzej_Sapkowski\",\"http://pl.dbpedia.org/resource/Pani_Jeziora_(powie\u015b\u0107)\"\n"
       ]
      },
      {
       "output_type": "stream",
       "stream": "stdout",
       "text": [
        "\"http://pl.dbpedia.org/resource/Jack_London\",\"http://pl.dbpedia.org/resource/Bellew_Zawierucha\"\n"
       ]
      },
      {
       "output_type": "stream",
       "stream": "stdout",
       "text": [
        "\"http://pl.dbpedia.org/resource/Henning_Mankell\",\"http://pl.dbpedia.org/resource/Fa\u0142szywy_trop_(powie\u015b\u0107)\"\n"
       ]
      },
      {
       "output_type": "stream",
       "stream": "stdout",
       "text": [
        "\"http://pl.dbpedia.org/resource/Stanis\u0142aw_Lem\",\"http://pl.dbpedia.org/resource/Bajki_robot\u00f3w\"\n"
       ]
      },
      {
       "output_type": "stream",
       "stream": "stdout",
       "text": [
        "\"http://pl.dbpedia.org/resource/Antoni_Go\u0142ubiew\",\"http://pl.dbpedia.org/resource/Boles\u0142aw_Chrobry_(powie\u015b\u0107)\"\n"
       ]
      },
      {
       "output_type": "stream",
       "stream": "stdout",
       "text": [
        "\"http://pl.dbpedia.org/resource/Miko\u0142aj_Kopernik\",\"http://pl.dbpedia.org/resource/De_revolutionibus_orbium_coelestium\"\n"
       ]
      },
      {
       "output_type": "stream",
       "stream": "stdout",
       "text": [
        "\"http://pl.dbpedia.org/resource/Maria_Franciszka_Koz\u0142owska\",\"http://pl.dbpedia.org/resource/Dzie\u0142o_Wielkiego_Mi\u0142osierdzia\"\n"
       ]
      },
      {
       "output_type": "stream",
       "stream": "stdout",
       "text": [
        "\"http://pl.dbpedia.org/resource/George_Orwell\",\"http://pl.dbpedia.org/resource/Folwark_zwierz\u0119cy\"\n"
       ]
      },
      {
       "output_type": "stream",
       "stream": "stdout",
       "text": [
        "\"http://pl.dbpedia.org/resource/William_Szekspir\",\"http://pl.dbpedia.org/resource/Hamlet\"\n"
       ]
      },
      {
       "output_type": "stream",
       "stream": "stdout",
       "text": [
        "\"http://pl.dbpedia.org/resource/J._K._Rowling\",\"http://pl.dbpedia.org/resource/Harry_Potter\"\n"
       ]
      },
      {
       "output_type": "stream",
       "stream": "stdout",
       "text": [
        "\"http://pl.dbpedia.org/resource/John_Ronald_Reuel_Tolkien\",\"http://pl.dbpedia.org/resource/Hobbit,_czyli_tam_i_z_powrotem\"\n"
       ]
      },
      {
       "output_type": "stream",
       "stream": "stdout",
       "text": [
        "\"http://pl.dbpedia.org/resource/Aleksander_Dumas_(ojciec)\",\"http://pl.dbpedia.org/resource/Hrabia_Monte_Christo\"\n"
       ]
      },
      {
       "output_type": "stream",
       "stream": "stdout",
       "text": [
        "\"http://pl.dbpedia.org/resource/Tadeusz_Do\u0142\u0119ga-Mostowicz\",\"http://pl.dbpedia.org/resource/Kariera_Nikodema_Dyzmy\"\n"
       ]
      },
      {
       "output_type": "stream",
       "stream": "stdout",
       "text": [
        "\"http://pl.dbpedia.org/resource/Henryk_Sienkiewicz\",\"http://pl.dbpedia.org/resource/Krzy\u017cacy_(powie\u015b\u0107)\"\n"
       ]
      },
      {
       "output_type": "stream",
       "stream": "stdout",
       "text": [
        "\"http://pl.dbpedia.org/resource/Vladimir_Nabokov\",\"http://pl.dbpedia.org/resource/Lolita\"\n"
       ]
      },
      {
       "output_type": "stream",
       "stream": "stdout",
       "text": [
        "\"http://pl.dbpedia.org/resource/Adolf_Hitler\",\"http://pl.dbpedia.org/resource/Mein_Kampf\"\n"
       ]
      },
      {
       "output_type": "stream",
       "stream": "stdout",
       "text": [
        "\"http://pl.dbpedia.org/resource/Eliza_Orzeszkowa\",\"http://pl.dbpedia.org/resource/Nad_Niemnem\"\n"
       ]
      },
      {
       "output_type": "stream",
       "stream": "stdout",
       "text": [
        "\"http://pl.dbpedia.org/resource/Christopher_Tolkien\",\"http://pl.dbpedia.org/resource/Niedoko\u0144czone_opowie\u015bci\"\n"
       ]
      },
      {
       "output_type": "stream",
       "stream": "stdout",
       "text": [
        "\"http://pl.dbpedia.org/resource/John_Ronald_Reuel_Tolkien\",\"http://pl.dbpedia.org/resource/Niedoko\u0144czone_opowie\u015bci\"\n"
       ]
      },
      {
       "output_type": "stream",
       "stream": "stdout",
       "text": [
        "\"http://pl.dbpedia.org/resource/Benedykt_Chmielowski\",\"http://pl.dbpedia.org/resource/Nowe_Ateny\"\n"
       ]
      },
      {
       "output_type": "stream",
       "stream": "stdout",
       "text": [
        "\"http://pl.dbpedia.org/resource/Aldous_Huxley\",\"http://pl.dbpedia.org/resource/Nowy_wspania\u0142y_\u015bwiat\"\n"
       ]
      },
      {
       "output_type": "stream",
       "stream": "stdout",
       "text": [
        "\"http://pl.dbpedia.org/resource/Henryk_Sienkiewicz\",\"http://pl.dbpedia.org/resource/Ogniem_i_mieczem\"\n"
       ]
      },
      {
       "output_type": "stream",
       "stream": "stdout",
       "text": [
        "\"http://pl.dbpedia.org/resource/Honor\u00e9_de_Balzac\",\"http://pl.dbpedia.org/resource/Ojciec_Goriot\"\n"
       ]
      },
      {
       "output_type": "stream",
       "stream": "stdout",
       "text": [
        "\"http://pl.dbpedia.org/resource/Franz_Kafka\",\"http://pl.dbpedia.org/resource/Proces_(powie\u015b\u0107)\"\n"
       ]
      },
      {
       "output_type": "stream",
       "stream": "stdout",
       "text": [
        "\"http://pl.dbpedia.org/resource/Jan_Kochanowski\",\"http://pl.dbpedia.org/resource/Psa\u0142terz_Dawid\u00f3w\"\n"
       ]
      },
      {
       "output_type": "stream",
       "stream": "stdout",
       "text": [
        "\"http://pl.dbpedia.org/resource/Henryk_Sienkiewicz\",\"http://pl.dbpedia.org/resource/Quo_vadis\"\n"
       ]
      },
      {
       "output_type": "stream",
       "stream": "stdout",
       "text": [
        "\"http://pl.dbpedia.org/resource/William_Szekspir\",\"http://pl.dbpedia.org/resource/Romeo_i_Julia\"\n"
       ]
      },
      {
       "output_type": "stream",
       "stream": "stdout",
       "text": [
        "\"http://pl.dbpedia.org/resource/John_Ronald_Reuel_Tolkien\",\"http://pl.dbpedia.org/resource/Silmarillion\"\n"
       ]
      },
      {
       "output_type": "stream",
       "stream": "stdout",
       "text": [
        "\"http://pl.dbpedia.org/resource/Stanis\u0142aw_Lem\",\"http://pl.dbpedia.org/resource/Solaris_(powie\u015b\u0107)\"\n"
       ]
      },
      {
       "output_type": "stream",
       "stream": "stdout",
       "text": [
        "\"http://pl.dbpedia.org/resource/John_Ronald_Reuel_Tolkien\",\"http://pl.dbpedia.org/resource/W\u0142adca_Pier\u015bcieni\"\n"
       ]
      },
      {
       "output_type": "stream",
       "stream": "stdout",
       "text": [
        "\"http://pl.dbpedia.org/resource/Howard_Phillips_Lovecraft\",\"http://pl.dbpedia.org/resource/Zew_Cthulhu_(opowiadanie)\"\n"
       ]
      },
      {
       "output_type": "stream",
       "stream": "stdout",
       "text": [
        "\"http://pl.dbpedia.org/resource/Karol_Olgierd_Borchardt\",\"http://pl.dbpedia.org/resource/Znaczy_Kapitan\"\n"
       ]
      },
      {
       "output_type": "stream",
       "stream": "stdout",
       "text": [
        "\"http://pl.dbpedia.org/resource/Lew_To\u0142stoj\",\"http://pl.dbpedia.org/resource/Anna_Karenina\"\n"
       ]
      },
      {
       "output_type": "stream",
       "stream": "stdout",
       "text": [
        "\"http://pl.dbpedia.org/resource/Boris_Akunin\",\"http://pl.dbpedia.org/resource/Azazel_(powie\u015b\u0107)\"\n"
       ]
      },
      {
       "output_type": "stream",
       "stream": "stdout",
       "text": [
        "\"http://pl.dbpedia.org/resource/Stanis\u0142aw_Lem\",\"http://pl.dbpedia.org/resource/Bezsenno\u015b\u0107_(zbi\u00f3r_opowiada\u0144)\"\n"
       ]
      },
      {
       "output_type": "stream",
       "stream": "stdout",
       "text": [
        "\"http://pl.dbpedia.org/resource/Janusz_Zajdel\",\"http://pl.dbpedia.org/resource/Ca\u0142a_prawda_o_planecie_Ksi\"\n"
       ]
      },
      {
       "output_type": "stream",
       "stream": "stdout",
       "text": [
        "\"http://pl.dbpedia.org/resource/Boris_Akunin\",\"http://pl.dbpedia.org/resource/Dekorator\"\n"
       ]
      },
      {
       "output_type": "stream",
       "stream": "stdout",
       "text": [
        "\"http://pl.dbpedia.org/resource/Boris_Akunin\",\"http://pl.dbpedia.org/resource/Diamentowa_karoca\"\n"
       ]
      },
      {
       "output_type": "stream",
       "stream": "stdout",
       "text": [
        "\"http://pl.dbpedia.org/resource/Jan_Pawe\u0142_II\",\"http://pl.dbpedia.org/resource/Dives_in_misericordia\"\n"
       ]
      },
      {
       "output_type": "stream",
       "stream": "stdout",
       "text": [
        "\"http://pl.dbpedia.org/resource/George_Orwell\",\"http://pl.dbpedia.org/resource/Droga_na_molo_w_Wigan\"\n"
       ]
      },
      {
       "output_type": "stream",
       "stream": "stdout",
       "text": [
        "\"http://pl.dbpedia.org/resource/Isaac_Asimov\",\"http://pl.dbpedia.org/resource/Druga_Fundacja\"\n"
       ]
      },
      {
       "output_type": "stream",
       "stream": "stdout",
       "text": [
        "\"http://pl.dbpedia.org/resource/Ilja_Ilf\",\"http://pl.dbpedia.org/resource/Dwana\u015bcie_krzese\u0142\"\n"
       ]
      },
      {
       "output_type": "stream",
       "stream": "stdout",
       "text": [
        "\"http://pl.dbpedia.org/resource/Jewgienij_Pietrow_(pisarz)\",\"http://pl.dbpedia.org/resource/Dwana\u015bcie_krzese\u0142\"\n"
       ]
      },
      {
       "output_type": "stream",
       "stream": "stdout",
       "text": [
        "\"http://pl.dbpedia.org/resource/Isaac_Asimov\",\"http://pl.dbpedia.org/resource/Fundacja_(powie\u015b\u0107)\"\n"
       ]
      },
      {
       "output_type": "stream",
       "stream": "stdout",
       "text": [
        "\"http://pl.dbpedia.org/resource/Isaac_Asimov\",\"http://pl.dbpedia.org/resource/Fundacja_i_Imperium\"\n"
       ]
      },
      {
       "output_type": "stream",
       "stream": "stdout",
       "text": [
        "\"http://pl.dbpedia.org/resource/Boris_Akunin\",\"http://pl.dbpedia.org/resource/Gambit_turecki\"\n"
       ]
      },
      {
       "output_type": "stream",
       "stream": "stdout",
       "text": [
        "\"http://pl.dbpedia.org/resource/Stanis\u0142aw_Lem\",\"http://pl.dbpedia.org/resource/G\u0142os_Pana\"\n"
       ]
      },
      {
       "output_type": "stream",
       "stream": "stdout",
       "text": [
        "\"http://pl.dbpedia.org/resource/Gabriela_Zapolska\",\"http://pl.dbpedia.org/resource/Ich_czworo\"\n"
       ]
      },
      {
       "output_type": "stream",
       "stream": "stdout",
       "text": [
        "\"http://pl.dbpedia.org/resource/Stanis\u0142aw_Lem\",\"http://pl.dbpedia.org/resource/Inwazja_z_Aldebarana_(zbi\u00f3r_opowiada\u0144)\"\n"
       ]
      },
      {
       "output_type": "stream",
       "stream": "stdout",
       "text": [
        "\"http://pl.dbpedia.org/resource/Jeffery_Deaver\",\"http://pl.dbpedia.org/resource/Kamienna_ma\u0142pa\"\n"
       ]
      },
      {
       "output_type": "stream",
       "stream": "stdout",
       "text": [
        "\"http://pl.dbpedia.org/resource/Stanis\u0142aw_Lem\",\"http://pl.dbpedia.org/resource/Katar_(powie\u015b\u0107)\"\n"
       ]
      },
      {
       "output_type": "stream",
       "stream": "stdout",
       "text": [
        "\"http://pl.dbpedia.org/resource/Boris_Akunin\",\"http://pl.dbpedia.org/resource/Kochanek_\u015amierci\"\n"
       ]
      },
      {
       "output_type": "stream",
       "stream": "stdout",
       "text": [
        "\"http://pl.dbpedia.org/resource/Boris_Akunin\",\"http://pl.dbpedia.org/resource/Kochanka_\u015amierci\"\n"
       ]
      },
      {
       "output_type": "stream",
       "stream": "stdout",
       "text": [
        "\"http://pl.dbpedia.org/resource/Boris_Akunin\",\"http://pl.dbpedia.org/resource/Koronacja_(powie\u015b\u0107)\"\n"
       ]
      },
      {
       "output_type": "stream",
       "stream": "stdout",
       "text": [
        "\"http://pl.dbpedia.org/resource/Terry_Pratchett\",\"http://pl.dbpedia.org/resource/Kot_w_stanie_czystym\"\n"
       ]
      },
      {
       "output_type": "stream",
       "stream": "stdout",
       "text": [
        "\"http://pl.dbpedia.org/resource/Clive_Staples_Lewis\",\"http://pl.dbpedia.org/resource/Ko\u0144_i_jego_ch\u0142opiec\"\n"
       ]
      },
      {
       "output_type": "stream",
       "stream": "stdout",
       "text": [
        "\"http://pl.dbpedia.org/resource/Stanis\u0142aw_Lem\",\"http://pl.dbpedia.org/resource/Ksi\u0119ga_robot\u00f3w\"\n"
       ]
      },
      {
       "output_type": "stream",
       "stream": "stdout",
       "text": [
        "\"http://pl.dbpedia.org/resource/Adam_Mickiewicz\",\"http://pl.dbpedia.org/resource/Ksi\u0119gi_narodu_polskiego_i_pielgrzymstwa_polskiego\"\n"
       ]
      },
      {
       "output_type": "stream",
       "stream": "stdout",
       "text": [
        "\"http://pl.dbpedia.org/resource/Andrzej_Pilipiuk\",\"http://pl.dbpedia.org/resource/Kuzynki\"\n"
       ]
      },
      {
       "output_type": "stream",
       "stream": "stdout",
       "text": [
        "\"http://pl.dbpedia.org/resource/Ursula_K._Le_Guin\",\"http://pl.dbpedia.org/resource/Lewa_r\u0119ka_ciemno\u015bci\"\n"
       ]
      },
      {
       "output_type": "stream",
       "stream": "stdout",
       "text": [
        "\"http://pl.dbpedia.org/resource/Boris_Akunin\",\"http://pl.dbpedia.org/resource/Lewiatan_(powie\u015b\u0107)\"\n"
       ]
      },
      {
       "output_type": "stream",
       "stream": "stdout",
       "text": [
        "\"http://pl.dbpedia.org/resource/Jeffery_Deaver\",\"http://pl.dbpedia.org/resource/Mag_(powie\u015b\u0107_J._Deavera)\"\n"
       ]
      },
      {
       "output_type": "stream",
       "stream": "stdout",
       "text": [
        "\"http://pl.dbpedia.org/resource/Stanis\u0142aw_Lem\",\"http://pl.dbpedia.org/resource/Maska_(zbi\u00f3r_dzie\u0142)\"\n"
       ]
      },
      {
       "output_type": "stream",
       "stream": "stdout",
       "text": [
        "\"http://pl.dbpedia.org/resource/Stanis\u0142aw_Lem\",\"http://pl.dbpedia.org/resource/Niezwyci\u0119\u017cony_i_inne_opowiadania\"\n"
       ]
      },
      {
       "output_type": "stream",
       "stream": "stdout",
       "text": [
        "\"http://pl.dbpedia.org/resource/Stanis\u0142aw_Lem\",\"http://pl.dbpedia.org/resource/Noc_ksi\u0119\u017cycowa\"\n"
       ]
      },
      {
       "output_type": "stream",
       "stream": "stdout",
       "text": [
        "\"http://pl.dbpedia.org/resource/Iwan_Turgieniew\",\"http://pl.dbpedia.org/resource/Ojcowie_i_dzieci\"\n"
       ]
      },
      {
       "output_type": "stream",
       "stream": "stdout",
       "text": [
        "\"http://pl.dbpedia.org/resource/Stanis\u0142aw_Lem\",\"http://pl.dbpedia.org/resource/Pami\u0119tnik_znaleziony_w_wannie\"\n"
       ]
      },
      {
       "output_type": "stream",
       "stream": "stdout",
       "text": [
        "\"http://pl.dbpedia.org/resource/George_R._R._Martin\",\"http://pl.dbpedia.org/resource/Pie\u015b\u0144_Lodu_i_Ognia\"\n"
       ]
      },
      {
       "output_type": "stream",
       "stream": "stdout",
       "text": [
        "\"http://pl.dbpedia.org/resource/Ryszard_Kapu\u015bci\u0144ski\",\"http://pl.dbpedia.org/resource/Podr\u00f3\u017ce_z_Herodotem\"\n"
       ]
      },
      {
       "output_type": "stream",
       "stream": "stdout",
       "text": [
        "\"http://pl.dbpedia.org/resource/Stanis\u0142aw_Lem\",\"http://pl.dbpedia.org/resource/Polowanie_(zbi\u00f3r_opowiada\u0144)\"\n"
       ]
      },
      {
       "output_type": "stream",
       "stream": "stdout",
       "text": [
        "\"http://pl.dbpedia.org/resource/Stanis\u0142aw_Lem\",\"http://pl.dbpedia.org/resource/Powt\u00f3rka_(zbi\u00f3r_dzie\u0142)\"\n"
       ]
      },
      {
       "output_type": "stream",
       "stream": "stdout",
       "text": [
        "\"http://pl.dbpedia.org/resource/Stanis\u0142aw_Lem\",\"http://pl.dbpedia.org/resource/Po\u017cytek_ze_smoka\"\n"
       ]
      },
      {
       "output_type": "stream",
       "stream": "stdout",
       "text": [
        "\"http://pl.dbpedia.org/resource/Isaac_Asimov\",\"http://pl.dbpedia.org/resource/Preludium_Fundacji\"\n"
       ]
      },
      {
       "output_type": "stream",
       "stream": "stdout",
       "text": [
        "\"http://pl.dbpedia.org/resource/Boris_Akunin\",\"http://pl.dbpedia.org/resource/Radca_stanu_(powie\u015b\u0107)\"\n"
       ]
      },
      {
       "output_type": "stream",
       "stream": "stdout",
       "text": [
        "\"http://pl.dbpedia.org/resource/Stanis\u0142aw_Lem\",\"http://pl.dbpedia.org/resource/Rasa_drapie\u017cc\u00f3w._Teksty_ostatnie\"\n"
       ]
      },
      {
       "output_type": "stream",
       "stream": "stdout",
       "text": [
        "\"http://pl.dbpedia.org/resource/Lucy_Maud_Montgomery\",\"http://pl.dbpedia.org/resource/Rilla_ze_Z\u0142otego_Brzegu\"\n"
       ]
      },
      {
       "output_type": "stream",
       "stream": "stdout",
       "text": [
        "\"http://pl.dbpedia.org/resource/William_Szekspir\",\"http://pl.dbpedia.org/resource/Sen_nocy_letniej\"\n"
       ]
      },
      {
       "output_type": "stream",
       "stream": "stdout",
       "text": [
        "\"http://pl.dbpedia.org/resource/Stanis\u0142aw_Lem\",\"http://pl.dbpedia.org/resource/Sezam_i_inne_opowiadania\"\n"
       ]
      },
      {
       "output_type": "stream",
       "stream": "stdout",
       "text": [
        "\"http://pl.dbpedia.org/resource/Jan_Pawe\u0142_II\",\"http://pl.dbpedia.org/resource/Slavorum_apostoli\"\n"
       ]
      },
      {
       "output_type": "stream",
       "stream": "stdout",
       "text": [
        "\"http://pl.dbpedia.org/resource/Stanis\u0142aw_Lem\",\"http://pl.dbpedia.org/resource/Summa_technologiae\"\n"
       ]
      },
      {
       "output_type": "stream",
       "stream": "stdout",
       "text": [
        "\"http://pl.dbpedia.org/resource/Dorota_Terakowska\",\"http://pl.dbpedia.org/resource/Tam_gdzie_spadaj\u0105_anio\u0142y\"\n"
       ]
      },
      {
       "output_type": "stream",
       "stream": "stdout",
       "text": [
        "\"http://pl.dbpedia.org/resource/Alfred_Szklarski\",\"http://pl.dbpedia.org/resource/Tomek_u_\u017ar\u00f3de\u0142_Amazonki\"\n"
       ]
      },
      {
       "output_type": "stream",
       "stream": "stdout",
       "text": [
        "\"http://pl.dbpedia.org/resource/Alfred_Szklarski\",\"http://pl.dbpedia.org/resource/Tomek_w_Gran_Chaco\"\n"
       ]
      },
      {
       "output_type": "stream",
       "stream": "stdout",
       "text": [
        "\"http://pl.dbpedia.org/resource/Alfred_Szklarski\",\"http://pl.dbpedia.org/resource/Tomek_w_grobowcach_faraon\u00f3w\"\n"
       ]
      },
      {
       "output_type": "stream",
       "stream": "stdout",
       "text": [
        "\"http://pl.dbpedia.org/resource/Adam_Zelga\",\"http://pl.dbpedia.org/resource/Tomek_w_grobowcach_faraon\u00f3w\"\n"
       ]
      },
      {
       "output_type": "stream",
       "stream": "stdout",
       "text": [
        "\"http://pl.dbpedia.org/resource/Jan_Pawe\u0142_II\",\"http://pl.dbpedia.org/resource/Ut_unum_sint\"\n"
       ]
      },
      {
       "output_type": "stream",
       "stream": "stdout",
       "text": [
        "\"http://pl.dbpedia.org/resource/Jan_Pawe\u0142_II\",\"http://pl.dbpedia.org/resource/Veritatis_splendor\"\n"
       ]
      },
      {
       "output_type": "stream",
       "stream": "stdout",
       "text": [
        "\"http://pl.dbpedia.org/resource/Rafa\u0142_A._Ziemkiewicz\",\"http://pl.dbpedia.org/resource/Walc_stulecia\"\n"
       ]
      },
      {
       "output_type": "stream",
       "stream": "stdout",
       "text": [
        "\"http://pl.dbpedia.org/resource/Boris_Akunin\",\"http://pl.dbpedia.org/resource/Walet_pikowy_(powie\u015b\u0107)\"\n"
       ]
      },
      {
       "output_type": "stream",
       "stream": "stdout",
       "text": [
        "\"http://pl.dbpedia.org/resource/Anne_Rice\",\"http://pl.dbpedia.org/resource/Wampir_Lestat\"\n"
       ]
      },
      {
       "output_type": "stream",
       "stream": "stdout",
       "text": [
        "\"http://pl.dbpedia.org/resource/Stanis\u0142aw_Lem\",\"http://pl.dbpedia.org/resource/Wizja_lokalna_(powie\u015b\u0107)\"\n"
       ]
      },
      {
       "output_type": "stream",
       "stream": "stdout",
       "text": [
        "\"http://pl.dbpedia.org/resource/Lew_To\u0142stoj\",\"http://pl.dbpedia.org/resource/Wojna_i_pok\u00f3j\"\n"
       ]
      },
      {
       "output_type": "stream",
       "stream": "stdout",
       "text": [
        "\"http://pl.dbpedia.org/resource/Boris_Akunin\",\"http://pl.dbpedia.org/resource/\u015amier\u0107_Achillesa\"\n"
       ]
      },
      {
       "output_type": "stream",
       "stream": "stdout",
       "text": [
        "\"http://pl.dbpedia.org/resource/Aleksander_Majkowski\",\"http://pl.dbpedia.org/resource/\u017bycie_i_przygody_Remusa\"\n"
       ]
      },
      {
       "output_type": "stream",
       "stream": "stdout",
       "text": [
        "\"http://pl.dbpedia.org/resource/Ian_Fleming\",\"http://pl.dbpedia.org/resource/Casino_Royale_(powie\u015b\u0107)\"\n"
       ]
      },
      {
       "output_type": "stream",
       "stream": "stdout",
       "text": [
        "\"http://pl.dbpedia.org/resource/Gene_Wolfe\",\"http://pl.dbpedia.org/resource/Cie\u0144_kata\"\n"
       ]
      },
      {
       "output_type": "stream",
       "stream": "stdout",
       "text": [
        "\"http://pl.dbpedia.org/resource/Ursula_K._Le_Guin\",\"http://pl.dbpedia.org/resource/Czarnoksi\u0119\u017cnik_z_Archipelagu\"\n"
       ]
      },
      {
       "output_type": "stream",
       "stream": "stdout",
       "text": [
        "\"http://pl.dbpedia.org/resource/Paulo_Coelho\",\"http://pl.dbpedia.org/resource/Czarownica_z_Portobello\"\n"
       ]
      },
      {
       "output_type": "stream",
       "stream": "stdout",
       "text": [
        "\"http://pl.dbpedia.org/resource/Tom_Clancy\",\"http://pl.dbpedia.org/resource/Czas_patriot\u00f3w_(powie\u015b\u0107)\"\n"
       ]
      }
     ],
     "prompt_number": 5
    },
    {
     "cell_type": "heading",
     "level": 2,
     "metadata": {},
     "source": [
      "for"
     ]
    },
    {
     "cell_type": "markdown",
     "metadata": {},
     "source": [
      "W Ruby nie ma klasycznej p\u0119tli `for` znanej z j\u0119zyka C, tzn. `for(i = 0; i < 10; i++)`. Istnieje jednak p\u0119tla `for`, kt\u00f3ra s\u0142u\u017cy do iterowania po strukturach sekwencyjnych, np. tablicach:\n",
      "```ruby\n",
      "letters = [\"a\",\"b\",\"c\"]\n",
      "for letter in letters do\n",
      "  puts letter\n",
      "end\n",
      "```"
     ]
    },
    {
     "cell_type": "code",
     "collapsed": false,
     "input": [
      "letters = [\"a\",\"b\",\"c\"]\n",
      "for letter in letters do\n",
      "  puts letter\n",
      "end"
     ],
     "language": "python",
     "metadata": {},
     "outputs": [
      {
       "output_type": "stream",
       "stream": "stdout",
       "text": [
        "a\n"
       ]
      },
      {
       "output_type": "stream",
       "stream": "stdout",
       "text": [
        "b\n"
       ]
      },
      {
       "output_type": "stream",
       "stream": "stdout",
       "text": [
        "c\n"
       ]
      },
      {
       "metadata": {},
       "output_type": "pyout",
       "prompt_number": 6,
       "text": [
        "[\"a\", \"b\", \"c\"]"
       ]
      }
     ],
     "prompt_number": 6
    },
    {
     "cell_type": "markdown",
     "metadata": {},
     "source": [
      "Mo\u017cna jej r\u00f3wnie\u017c u\u017cy\u0107 do innych struktur, np. tablic asocjacyjnych:\n",
      "```ruby\n",
      "letters = {1 => \"a\", 2 => \"b\", 3 => \"c\"}\n",
      "for index,letter in letters do\n",
      "  puts \"#{index}. #{letter}\"\n",
      "end\n",
      "```"
     ]
    },
    {
     "cell_type": "code",
     "collapsed": false,
     "input": [
      "letters = {1 => \"a\", 2 => \"b\", 3 => \"c\"}\n",
      "for index,letter in letters do\n",
      "  puts \"#{index}. #{letter}\"\n",
      "end"
     ],
     "language": "python",
     "metadata": {},
     "outputs": [
      {
       "output_type": "stream",
       "stream": "stdout",
       "text": [
        "1. a\n"
       ]
      },
      {
       "output_type": "stream",
       "stream": "stdout",
       "text": [
        "2. b\n"
       ]
      },
      {
       "output_type": "stream",
       "stream": "stdout",
       "text": [
        "3. c\n"
       ]
      },
      {
       "metadata": {},
       "output_type": "pyout",
       "prompt_number": 7,
       "text": [
        "{1=>\"a\", 2=>\"b\", 3=>\"c\"}"
       ]
      }
     ],
     "prompt_number": 7
    },
    {
     "cell_type": "heading",
     "level": 2,
     "metadata": {},
     "source": [
      "times, upto, downto, step"
     ]
    },
    {
     "cell_type": "markdown",
     "metadata": {},
     "source": [
      "Chocia\u017c w Ruby nie ma klasycznej p\u0119tli `for` to istniej\u0105 inne konstrukcje, pozwalaj\u0105ce na wykonanie p\u0119tli okre\u015blon\u0105 ilo\u015b\u0107 razy.\n",
      "Pierwsz\u0105 z nich jest `times` - jej semantyka jest bardzo prosta. Poniewa\u017c wywo\u0142ywana jest dla liczb naturalnych, kod wykonuje si\u0119 tyle razy, ile wynosi warto\u015b\u0107 danej liczby:\n",
      "```ruby\n",
      "3.times do\n",
      "  puts \"Witaj EPI!\"\n",
      "end\n",
      "```"
     ]
    },
    {
     "cell_type": "code",
     "collapsed": false,
     "input": [
      "3.times do\n",
      "  puts \"Witaj EPI!\"\n",
      "end"
     ],
     "language": "python",
     "metadata": {},
     "outputs": [
      {
       "output_type": "stream",
       "stream": "stdout",
       "text": [
        "Witaj EPI!\n"
       ]
      },
      {
       "output_type": "stream",
       "stream": "stdout",
       "text": [
        "Witaj EPI!\n"
       ]
      },
      {
       "output_type": "stream",
       "stream": "stdout",
       "text": [
        "Witaj EPI!\n"
       ]
      },
      {
       "metadata": {},
       "output_type": "pyout",
       "prompt_number": 8,
       "text": [
        "3"
       ]
      }
     ],
     "prompt_number": 8
    },
    {
     "cell_type": "markdown",
     "metadata": {},
     "source": [
      "`upto` i `downto` maj\u0105 podobne zastosowanie. `upto` pozwala na okre\u015blenie dolnego i g\u00f3rnego zakresu:\n",
      "```ruby\n",
      "10.upto(20) do |index|\n",
      "  puts \"Indeks wynosi #{index}\"\n",
      "end\n",
      "```"
     ]
    },
    {
     "cell_type": "code",
     "collapsed": false,
     "input": [
      "10.upto(20) do |index|\n",
      "  puts \"Indeks wynosi #{index}\"\n",
      "end"
     ],
     "language": "python",
     "metadata": {},
     "outputs": [
      {
       "output_type": "stream",
       "stream": "stdout",
       "text": [
        "Indeks wynosi 10\n"
       ]
      },
      {
       "output_type": "stream",
       "stream": "stdout",
       "text": [
        "Indeks wynosi 11\n"
       ]
      },
      {
       "output_type": "stream",
       "stream": "stdout",
       "text": [
        "Indeks wynosi 12\n"
       ]
      },
      {
       "output_type": "stream",
       "stream": "stdout",
       "text": [
        "Indeks wynosi 13\n"
       ]
      },
      {
       "output_type": "stream",
       "stream": "stdout",
       "text": [
        "Indeks wynosi 14\n"
       ]
      },
      {
       "output_type": "stream",
       "stream": "stdout",
       "text": [
        "Indeks wynosi 15\n"
       ]
      },
      {
       "output_type": "stream",
       "stream": "stdout",
       "text": [
        "Indeks wynosi 16\n"
       ]
      },
      {
       "output_type": "stream",
       "stream": "stdout",
       "text": [
        "Indeks wynosi 17\n"
       ]
      },
      {
       "output_type": "stream",
       "stream": "stdout",
       "text": [
        "Indeks wynosi 18\n"
       ]
      },
      {
       "output_type": "stream",
       "stream": "stdout",
       "text": [
        "Indeks wynosi 19\n"
       ]
      },
      {
       "output_type": "stream",
       "stream": "stdout",
       "text": [
        "Indeks wynosi 20\n"
       ]
      },
      {
       "metadata": {},
       "output_type": "pyout",
       "prompt_number": 9,
       "text": [
        "10"
       ]
      }
     ],
     "prompt_number": 9
    },
    {
     "cell_type": "markdown",
     "metadata": {},
     "source": [
      "`downto` r\u00f3wnie\u017c pozwala na okre\u015blenie zakresu, ale wykonywana jest od warto\u015bci najwi\u0119kszej, do najmniejszej:\n",
      "```ruby\n",
      "20.downto(10) do |index|\n",
      "  puts \"Indeks wynosi #{index}\"\n",
      "end\n",
      "```"
     ]
    },
    {
     "cell_type": "code",
     "collapsed": false,
     "input": [
      "20.downto(10) do |index|\n",
      "  puts \"Indeks wynosi #{index}\"\n",
      "end"
     ],
     "language": "python",
     "metadata": {},
     "outputs": [
      {
       "output_type": "stream",
       "stream": "stdout",
       "text": [
        "Indeks wynosi 20\n"
       ]
      },
      {
       "output_type": "stream",
       "stream": "stdout",
       "text": [
        "Indeks wynosi 19\n"
       ]
      },
      {
       "output_type": "stream",
       "stream": "stdout",
       "text": [
        "Indeks wynosi 18\n"
       ]
      },
      {
       "output_type": "stream",
       "stream": "stdout",
       "text": [
        "Indeks wynosi 17\n"
       ]
      },
      {
       "output_type": "stream",
       "stream": "stdout",
       "text": [
        "Indeks wynosi 16\n"
       ]
      },
      {
       "output_type": "stream",
       "stream": "stdout",
       "text": [
        "Indeks wynosi 15\n"
       ]
      },
      {
       "output_type": "stream",
       "stream": "stdout",
       "text": [
        "Indeks wynosi 14\n"
       ]
      },
      {
       "output_type": "stream",
       "stream": "stdout",
       "text": [
        "Indeks wynosi 13\n"
       ]
      },
      {
       "output_type": "stream",
       "stream": "stdout",
       "text": [
        "Indeks wynosi 12\n"
       ]
      },
      {
       "output_type": "stream",
       "stream": "stdout",
       "text": [
        "Indeks wynosi 11\n"
       ]
      },
      {
       "output_type": "stream",
       "stream": "stdout",
       "text": [
        "Indeks wynosi 10\n"
       ]
      },
      {
       "metadata": {},
       "output_type": "pyout",
       "prompt_number": 10,
       "text": [
        "20"
       ]
      }
     ],
     "prompt_number": 10
    },
    {
     "cell_type": "markdown",
     "metadata": {},
     "source": [
      "`step` pozwala na swobodne okre\u015blenie kroku:\n",
      "```ruby\n",
      "10.step(20,2) do |index|\n",
      "  puts \"Indeks wynosi #{index}\"\n",
      "end\n",
      "```"
     ]
    },
    {
     "cell_type": "code",
     "collapsed": false,
     "input": [
      "10.step(20,2) do |index|\n",
      "  puts \"Indeks wynosi #{index}\"\n",
      "end"
     ],
     "language": "python",
     "metadata": {},
     "outputs": [
      {
       "output_type": "stream",
       "stream": "stdout",
       "text": [
        "Indeks wynosi 10\n"
       ]
      },
      {
       "output_type": "stream",
       "stream": "stdout",
       "text": [
        "Indeks wynosi 12\n"
       ]
      },
      {
       "output_type": "stream",
       "stream": "stdout",
       "text": [
        "Indeks wynosi 14\n"
       ]
      },
      {
       "output_type": "stream",
       "stream": "stdout",
       "text": [
        "Indeks wynosi 16\n"
       ]
      },
      {
       "output_type": "stream",
       "stream": "stdout",
       "text": [
        "Indeks wynosi 18\n"
       ]
      },
      {
       "output_type": "stream",
       "stream": "stdout",
       "text": [
        "Indeks wynosi 20\n"
       ]
      },
      {
       "metadata": {},
       "output_type": "pyout",
       "prompt_number": 11,
       "text": [
        "10"
       ]
      }
     ],
     "prompt_number": 11
    },
    {
     "cell_type": "heading",
     "level": 3,
     "metadata": {},
     "source": [
      "Zadanie 1"
     ]
    },
    {
     "cell_type": "markdown",
     "metadata": {},
     "source": [
      "Wiedz\u0105c, \u017ce w w 2016 roku pierwsza niedziela wypada 3 stycznia, okre\u015bl numery pozosta\u0142ych dni, w kt\u00f3re wypada niedziela. Nie chodzio daty, tylko numery dni w roku (3, 10, itd.)"
     ]
    },
    {
     "cell_type": "code",
     "collapsed": false,
     "input": [
      "miesiace=[0,31,59,90,120,151,181,212,243,273,304,334]\n",
      "miesiace_przestepne=[0,31,60,91,121,152,182,213,244,274,305,335]\n",
      "miesiac_nazwa = %w(styczen luty marzec kwiecien maj czerwiec lipiec sierpien wrzesien pazdziernik listopad grudzien)\n",
      "first = 3\n",
      "rok=2016\n",
      "ilosc_dni=365\n",
      "if ((rok%4==0 && rok%100!=0) || (rok%400==0))\n",
      "  ilosc_dni=366\n",
      "  first.step(ilosc_dni,7){|day|\n",
      "  i=11\n",
      "    while (day<miesiace_przestepne[i]) do\n",
      "    i=i-1\n",
      "  end\n",
      "    temp=day-miesiace_przestepne[i]\n",
      "    puts \"#{temp} #{miesiac_nazwa[i]} #{rok}\"\n",
      "}\n",
      "else\n",
      "first.step(ilosc_dni,7){|day|\n",
      "  i=11\n",
      "  while (day<miesiace[i]) do\n",
      "    i=i-1\n",
      "  end\n",
      "  temp=day-miesiace[i]\n",
      "  puts \"#{temp} #{miesiac_nazwa[i]} #{rok}\"\n",
      "}\n",
      "end"
     ],
     "language": "python",
     "metadata": {},
     "outputs": [
      {
       "output_type": "stream",
       "stream": "stdout",
       "text": [
        "3 styczen 2016\n"
       ]
      },
      {
       "output_type": "stream",
       "stream": "stdout",
       "text": [
        "10 styczen 2016\n"
       ]
      },
      {
       "output_type": "stream",
       "stream": "stdout",
       "text": [
        "17 styczen 2016\n"
       ]
      },
      {
       "output_type": "stream",
       "stream": "stdout",
       "text": [
        "24 styczen 2016\n"
       ]
      },
      {
       "output_type": "stream",
       "stream": "stdout",
       "text": [
        "0 luty 2016\n"
       ]
      },
      {
       "output_type": "stream",
       "stream": "stdout",
       "text": [
        "7 luty 2016\n"
       ]
      },
      {
       "output_type": "stream",
       "stream": "stdout",
       "text": [
        "14 luty 2016\n"
       ]
      },
      {
       "output_type": "stream",
       "stream": "stdout",
       "text": [
        "21 luty 2016\n"
       ]
      },
      {
       "output_type": "stream",
       "stream": "stdout",
       "text": [
        "28 luty 2016\n"
       ]
      },
      {
       "output_type": "stream",
       "stream": "stdout",
       "text": [
        "6 marzec 2016\n"
       ]
      },
      {
       "output_type": "stream",
       "stream": "stdout",
       "text": [
        "13 marzec 2016\n"
       ]
      },
      {
       "output_type": "stream",
       "stream": "stdout",
       "text": [
        "20 marzec 2016\n"
       ]
      },
      {
       "output_type": "stream",
       "stream": "stdout",
       "text": [
        "27 marzec 2016\n"
       ]
      },
      {
       "output_type": "stream",
       "stream": "stdout",
       "text": [
        "3 kwiecien 2016\n"
       ]
      },
      {
       "output_type": "stream",
       "stream": "stdout",
       "text": [
        "10 kwiecien 2016\n"
       ]
      },
      {
       "output_type": "stream",
       "stream": "stdout",
       "text": [
        "17 kwiecien 2016\n"
       ]
      },
      {
       "output_type": "stream",
       "stream": "stdout",
       "text": [
        "24 kwiecien 2016\n"
       ]
      },
      {
       "output_type": "stream",
       "stream": "stdout",
       "text": [
        "1 maj 2016\n"
       ]
      },
      {
       "output_type": "stream",
       "stream": "stdout",
       "text": [
        "8 maj 2016\n"
       ]
      },
      {
       "output_type": "stream",
       "stream": "stdout",
       "text": [
        "15 maj 2016\n"
       ]
      },
      {
       "output_type": "stream",
       "stream": "stdout",
       "text": [
        "22 maj 2016\n"
       ]
      },
      {
       "output_type": "stream",
       "stream": "stdout",
       "text": [
        "29 maj 2016\n"
       ]
      },
      {
       "output_type": "stream",
       "stream": "stdout",
       "text": [
        "5 czerwiec 2016\n"
       ]
      },
      {
       "output_type": "stream",
       "stream": "stdout",
       "text": [
        "12 czerwiec 2016\n"
       ]
      },
      {
       "output_type": "stream",
       "stream": "stdout",
       "text": [
        "19 czerwiec 2016\n"
       ]
      },
      {
       "output_type": "stream",
       "stream": "stdout",
       "text": [
        "26 czerwiec 2016\n"
       ]
      },
      {
       "output_type": "stream",
       "stream": "stdout",
       "text": [
        "3 lipiec 2016\n"
       ]
      },
      {
       "output_type": "stream",
       "stream": "stdout",
       "text": [
        "10 lipiec 2016\n"
       ]
      },
      {
       "output_type": "stream",
       "stream": "stdout",
       "text": [
        "17 lipiec 2016\n"
       ]
      },
      {
       "output_type": "stream",
       "stream": "stdout",
       "text": [
        "24 lipiec 2016\n"
       ]
      },
      {
       "output_type": "stream",
       "stream": "stdout",
       "text": [
        "0 sierpien 2016\n"
       ]
      },
      {
       "output_type": "stream",
       "stream": "stdout",
       "text": [
        "7 sierpien 2016\n"
       ]
      },
      {
       "output_type": "stream",
       "stream": "stdout",
       "text": [
        "14 sierpien 2016\n"
       ]
      },
      {
       "output_type": "stream",
       "stream": "stdout",
       "text": [
        "21 sierpien 2016\n"
       ]
      },
      {
       "output_type": "stream",
       "stream": "stdout",
       "text": [
        "28 sierpien 2016\n"
       ]
      },
      {
       "output_type": "stream",
       "stream": "stdout",
       "text": [
        "4 wrzesien 2016\n"
       ]
      },
      {
       "output_type": "stream",
       "stream": "stdout",
       "text": [
        "11 wrzesien 2016\n"
       ]
      },
      {
       "output_type": "stream",
       "stream": "stdout",
       "text": [
        "18 wrzesien 2016\n"
       ]
      },
      {
       "output_type": "stream",
       "stream": "stdout",
       "text": [
        "25 wrzesien 2016\n"
       ]
      },
      {
       "output_type": "stream",
       "stream": "stdout",
       "text": [
        "2 pazdziernik 2016\n"
       ]
      },
      {
       "output_type": "stream",
       "stream": "stdout",
       "text": [
        "9 pazdziernik 2016\n"
       ]
      },
      {
       "output_type": "stream",
       "stream": "stdout",
       "text": [
        "16 pazdziernik 2016\n"
       ]
      },
      {
       "output_type": "stream",
       "stream": "stdout",
       "text": [
        "23 pazdziernik 2016\n"
       ]
      },
      {
       "output_type": "stream",
       "stream": "stdout",
       "text": [
        "30 pazdziernik 2016\n"
       ]
      },
      {
       "output_type": "stream",
       "stream": "stdout",
       "text": [
        "6 listopad 2016\n"
       ]
      },
      {
       "output_type": "stream",
       "stream": "stdout",
       "text": [
        "13 listopad 2016\n"
       ]
      },
      {
       "output_type": "stream",
       "stream": "stdout",
       "text": [
        "20 listopad 2016\n"
       ]
      },
      {
       "output_type": "stream",
       "stream": "stdout",
       "text": [
        "27 listopad 2016\n"
       ]
      },
      {
       "output_type": "stream",
       "stream": "stdout",
       "text": [
        "4 grudzien 2016\n"
       ]
      },
      {
       "output_type": "stream",
       "stream": "stdout",
       "text": [
        "11 grudzien 2016\n"
       ]
      },
      {
       "output_type": "stream",
       "stream": "stdout",
       "text": [
        "18 grudzien 2016\n"
       ]
      },
      {
       "output_type": "stream",
       "stream": "stdout",
       "text": [
        "25 grudzien 2016\n"
       ]
      },
      {
       "metadata": {},
       "output_type": "pyout",
       "prompt_number": 26,
       "text": [
        "3"
       ]
      }
     ],
     "prompt_number": 26
    },
    {
     "cell_type": "heading",
     "level": 2,
     "metadata": {},
     "source": [
      "Metody iteracyjne"
     ]
    },
    {
     "cell_type": "markdown",
     "metadata": {},
     "source": [
      "Metody iteracyjne pozwalaj\u0105 wykonywa\u0107 operacje na elementach kontener\u00f3w. S\u0105 one odpowiednikami p\u0119tli w innych j\u0119zykach programowania. Pozwalaj\u0105 jedak bardziej bezpo\u015brednio wyrazi\u0107 jaka jest intencja tw\u00f3rcy algorytmu.\n",
      "\n",
      "Najcz\u0119\u015bciej u\u017cywan\u0105\u00a0metod\u0105 iteracyjn\u0105 jest `each`, kt\u00f3ra wywo\u0142uje blok kodu dla ka\u017cdego elementu tablicy\n",
      "```ruby\n",
      "[1,2,3,4].each do |element|\n",
      "  puts element ** 2\n",
      "end\n",
      "```"
     ]
    },
    {
     "cell_type": "code",
     "collapsed": false,
     "input": [
      "[1,2,3,4].each do |element|\n",
      "  puts element ** 2\n",
      "end"
     ],
     "language": "python",
     "metadata": {},
     "outputs": [
      {
       "output_type": "stream",
       "stream": "stdout",
       "text": [
        "1\n"
       ]
      },
      {
       "output_type": "stream",
       "stream": "stdout",
       "text": [
        "4\n"
       ]
      },
      {
       "output_type": "stream",
       "stream": "stdout",
       "text": [
        "9\n"
       ]
      },
      {
       "output_type": "stream",
       "stream": "stdout",
       "text": [
        "16\n"
       ]
      },
      {
       "metadata": {},
       "output_type": "pyout",
       "prompt_number": 13,
       "text": [
        "[1, 2, 3, 4]"
       ]
      }
     ],
     "prompt_number": 13
    },
    {
     "cell_type": "markdown",
     "metadata": {},
     "source": [
      "Dzi\u0119ki metodzie `each` mo\u017cemy uzyska\u0107 ten sam efekt jaki daje metoda `upto`, je\u015bli wywo\u0142amy j\u0105 na zakresie:\n",
      "```ruby\n",
      "1.upto(10){|i| puts \"upto: #{i}\" }\n",
      "(1..10).each{|i| puts \"each: #{i}\" }\n",
      "```"
     ]
    },
    {
     "cell_type": "code",
     "collapsed": false,
     "input": [
      "1.upto(10){|i| puts \"upto: #{i}\" }\n",
      "(1..10).each{|i| puts \"each: #{i}\" }"
     ],
     "language": "python",
     "metadata": {},
     "outputs": [
      {
       "output_type": "stream",
       "stream": "stdout",
       "text": [
        "upto: 1\n"
       ]
      },
      {
       "output_type": "stream",
       "stream": "stdout",
       "text": [
        "upto: 2\n"
       ]
      },
      {
       "output_type": "stream",
       "stream": "stdout",
       "text": [
        "upto: 3\n"
       ]
      },
      {
       "output_type": "stream",
       "stream": "stdout",
       "text": [
        "upto: 4\n"
       ]
      },
      {
       "output_type": "stream",
       "stream": "stdout",
       "text": [
        "upto: 5\n"
       ]
      },
      {
       "output_type": "stream",
       "stream": "stdout",
       "text": [
        "upto: 6\n"
       ]
      },
      {
       "output_type": "stream",
       "stream": "stdout",
       "text": [
        "upto: 7\n"
       ]
      },
      {
       "output_type": "stream",
       "stream": "stdout",
       "text": [
        "upto: 8\n"
       ]
      },
      {
       "output_type": "stream",
       "stream": "stdout",
       "text": [
        "upto: 9\n"
       ]
      },
      {
       "output_type": "stream",
       "stream": "stdout",
       "text": [
        "upto: 10\n"
       ]
      },
      {
       "output_type": "stream",
       "stream": "stdout",
       "text": [
        "each: 1\n"
       ]
      },
      {
       "output_type": "stream",
       "stream": "stdout",
       "text": [
        "each: 2\n"
       ]
      },
      {
       "output_type": "stream",
       "stream": "stdout",
       "text": [
        "each: 3\n"
       ]
      },
      {
       "output_type": "stream",
       "stream": "stdout",
       "text": [
        "each: 4\n"
       ]
      },
      {
       "output_type": "stream",
       "stream": "stdout",
       "text": [
        "each: 5\n"
       ]
      },
      {
       "output_type": "stream",
       "stream": "stdout",
       "text": [
        "each: 6\n"
       ]
      },
      {
       "output_type": "stream",
       "stream": "stdout",
       "text": [
        "each: 7\n"
       ]
      },
      {
       "output_type": "stream",
       "stream": "stdout",
       "text": [
        "each: 8\n"
       ]
      },
      {
       "output_type": "stream",
       "stream": "stdout",
       "text": [
        "each: 9\n"
       ]
      },
      {
       "output_type": "stream",
       "stream": "stdout",
       "text": [
        "each: 10\n"
       ]
      },
      {
       "metadata": {},
       "output_type": "pyout",
       "prompt_number": 14,
       "text": [
        "1..10"
       ]
      }
     ],
     "prompt_number": 14
    },
    {
     "cell_type": "markdown",
     "metadata": {},
     "source": [
      "Ruby definiuje jednak znacznie wi\u0119cej przydatnych metod tego rodzaju. Cz\u0119sto u\u017cywan\u0105 jest `select`, kt\u00f3ra wybiera z tablicy tylko \n",
      "te elementy, dla kt\u00f3rych blok kodu zwr\u00f3ci\u0142 warto\u015b\u0107 `true`\n",
      "```ruby\n",
      "[1,2,3,4,5,6].select{|e| e % 2 == 0 }\n",
      "[\"Ala\", \"Anna\", \"Agata\", \"Barbara\"].select{|imie| imie =~ /^A/ }\n",
      "```"
     ]
    },
    {
     "cell_type": "code",
     "collapsed": false,
     "input": [
      "[1,2,3,4,5,6].select{|e| e % 2 == 0 }\n",
      "[\"Ala\", \"Anna\", \"Agata\", \"Barbara\"].select{|imie| imie =~ /^A/ }"
     ],
     "language": "python",
     "metadata": {},
     "outputs": [
      {
       "metadata": {},
       "output_type": "pyout",
       "prompt_number": 18,
       "text": [
        "[\"Ala\", \"Anna\", \"Agata\"]"
       ]
      }
     ],
     "prompt_number": 18
    },
    {
     "cell_type": "markdown",
     "metadata": {},
     "source": [
      "Metoda ta ma komplementarn\u0105\u00a0wobec niej metod\u0119 `reject`\n",
      "```ruby\n",
      "[1,2,3,4,5,6].reject{|e| e % 2 == 0 }\n",
      "[\"Ala\", \"Anna\", \"Agata\", \"Barbara\"].reject{|imie| imie =~ /^A/ }\n",
      "```"
     ]
    },
    {
     "cell_type": "code",
     "collapsed": false,
     "input": [
      "[1,2,3,4,5,6].reject{|e| e % 2 == 0 }\n",
      "[\"Ala\", \"Anna\", \"Agata\", \"Barbara\"].reject{|imie| imie =~ /^A/ }"
     ],
     "language": "python",
     "metadata": {},
     "outputs": [
      {
       "metadata": {},
       "output_type": "pyout",
       "prompt_number": 16,
       "text": [
        "[\"Barbara\"]"
       ]
      }
     ],
     "prompt_number": 16
    },
    {
     "cell_type": "markdown",
     "metadata": {},
     "source": [
      "Bardzo cz\u0119sto wykorzystywan\u0105 metod\u0105 jest r\u00f3wnie\u017c `map`\n",
      "```ruby\n",
      "[1,2,3,4,5].map{|e| e * 2 }\n",
      "[\"Ala\", \"Anna\", \"Agata\"].map{|e| e.upcase }\n",
      "```"
     ]
    },
    {
     "cell_type": "code",
     "collapsed": false,
     "input": [
      "[\"Ala\", \"Anna\", \"Agata\"].map{|e| e.upcase }"
     ],
     "language": "python",
     "metadata": {},
     "outputs": [
      {
       "metadata": {},
       "output_type": "pyout",
       "prompt_number": 20,
       "text": [
        "[\"ALA\", \"ANNA\", \"AGATA\"]"
       ]
      }
     ],
     "prompt_number": 20
    },
    {
     "cell_type": "markdown",
     "metadata": {},
     "source": [
      "Nieco rzadziej wykorzystywan\u0105 metod\u0105 jest `inject`, kt\u00f3ra poza tym, \u017ce przechodzi przez wszystkie elementy, przekazuje do bloku\n",
      "wynik eweluacji wcze\u015bniejszego wyra\u017cenia. Pozwala to w bardzo prosty spos\u00f3b np. oblicy\u0107 sum\u0119 element\u00f3w tablic\n",
      "```ruby\n",
      "[1,2,3,4].inject(0){|suma,element| suma + element }\n",
      "```"
     ]
    },
    {
     "cell_type": "code",
     "collapsed": false,
     "input": [
      "[1,2,3,4].inject(0){|suma,element| suma + element }"
     ],
     "language": "python",
     "metadata": {},
     "outputs": [
      {
       "metadata": {},
       "output_type": "pyout",
       "prompt_number": 21,
       "text": [
        "10"
       ]
      }
     ],
     "prompt_number": 21
    },
    {
     "cell_type": "markdown",
     "metadata": {},
     "source": [
      "Oczywi\u015bcie metoda ta nie dzia\u0142a wy\u0142\u0105cznie na liczbach. Mo\u017cna np. skonkatenowa\u0107 jaki\u015b napis\n",
      "```ruby\n",
      "[\"Ala\", \"Anna\", \"Agata\"].inject(\"\"){|wynik,imie| wynik + \" #{imie.upcase}\" }\n",
      "```"
     ]
    },
    {
     "cell_type": "code",
     "collapsed": false,
     "input": [
      "[\"Ala\", \"Anna\", \"Agata\"].inject(\"\"){|wynik,imie| wynik + \" #{imie.upcase}\" }"
     ],
     "language": "python",
     "metadata": {},
     "outputs": [
      {
       "metadata": {},
       "output_type": "pyout",
       "prompt_number": 22,
       "text": [
        "\" ALA ANNA AGATA\""
       ]
      }
     ],
     "prompt_number": 22
    },
    {
     "cell_type": "markdown",
     "metadata": {},
     "source": [
      "Na koniec warto wspomnie\u0107 o dw\u00f3ch metodach s\u0142u\u017c\u0105cych do sortowania: `sort` oraz `sort_by`. Wywo\u0142anie tej pierwszej \n",
      "bez bloku kodu spowoduje posortowanie element\u00f3w w naturany spos\u00f3b\n",
      "```ruby\n",
      "[3,1,7,6,2].sort\n",
      "```"
     ]
    },
    {
     "cell_type": "code",
     "collapsed": false,
     "input": [
      "[3,1,7,6,2].sort"
     ],
     "language": "python",
     "metadata": {},
     "outputs": [
      {
       "metadata": {},
       "output_type": "pyout",
       "prompt_number": 23,
       "text": [
        "[1, 2, 3, 6, 7]"
       ]
      }
     ],
     "prompt_number": 23
    },
    {
     "cell_type": "markdown",
     "metadata": {},
     "source": [
      "Mo\u017cemy jednak zdefiniowa\u0107 sw\u00f3j w\u0142asny spos\u00f3b sortowania. Konieczne jest wtedy przekazanie bloku kodu, kt\u00f3ry akceptuje dwa\n",
      "argumentu podlegaj\u0105ce por\u00f3wnaniu, np.\n",
      "```ruby\n",
      "[\"A\",\"ca\u0142ego\",\"ma\u0142e\",\"Ala\",\"Be\"].sort{|a,b| a.size <=> b.size }\n",
      "```"
     ]
    },
    {
     "cell_type": "code",
     "collapsed": false,
     "input": [
      "[\"A\",\"ca\u0142ego\",\"ma\u0142e\",\"Ala\",\"Be\"].sort{|a,b| a.size <=> b.size }"
     ],
     "language": "python",
     "metadata": {},
     "outputs": [
      {
       "metadata": {},
       "output_type": "pyout",
       "prompt_number": 24,
       "text": [
        "[\"A\", \"Be\", \"Ala\", \"ma\u0142e\", \"ca\u0142ego\"]"
       ]
      }
     ],
     "prompt_number": 24
    },
    {
     "cell_type": "markdown",
     "metadata": {},
     "source": [
      "Warto por\u00f3wna\u0107 wynik tej metody z metod\u0105 `sort` bez bloku:\n",
      "```ruby\n",
      "[\"A\",\"ca\u0142ego\",\"ma\u0142e\",\"Ala\",\"Be\"].sort\n",
      "```"
     ]
    },
    {
     "cell_type": "code",
     "collapsed": false,
     "input": [
      "[\"A\",\"ca\u0142ego\",\"ma\u0142e\",\"Ala\",\"Be\"].sort"
     ],
     "language": "python",
     "metadata": {},
     "outputs": [
      {
       "metadata": {},
       "output_type": "pyout",
       "prompt_number": 25,
       "text": [
        "[\"A\", \"Ala\", \"Be\", \"ca\u0142ego\", \"ma\u0142e\"]"
       ]
      }
     ],
     "prompt_number": 25
    },
    {
     "cell_type": "markdown",
     "metadata": {},
     "source": [
      "Metoda `sort_by` pozwala natomiast posortowa\u0107 elementy wzgl\u0119dem wybranej w\u0142asno\u015bci. Sortowanie wzgl\u0119dem d\u0142ugo\u015bci \u0142a\u0144cuch\u00f3w mo\u017cna\n",
      "zrealizowa\u0107 nast\u0119puj\u0105co:\n",
      "```ruby\n",
      "[\"A\",\"ca\u0142ego\",\"ma\u0142e\",\"Ala\",\"Be\"].sort_by{|a| a.size }\n",
      "```"
     ]
    },
    {
     "cell_type": "code",
     "collapsed": false,
     "input": [
      "[\"A\",\"ca\u0142ego\",\"ma\u0142e\",\"Ala\",\"Be\"].sort_by{|a| a.size }"
     ],
     "language": "python",
     "metadata": {},
     "outputs": [
      {
       "metadata": {},
       "output_type": "pyout",
       "prompt_number": 26,
       "text": [
        "[\"A\", \"Be\", \"Ala\", \"ma\u0142e\", \"ca\u0142ego\"]"
       ]
      }
     ],
     "prompt_number": 26
    },
    {
     "cell_type": "heading",
     "level": 3,
     "metadata": {},
     "source": [
      "Zadanie 2"
     ]
    },
    {
     "cell_type": "markdown",
     "metadata": {},
     "source": [
      "Napisz program, kt\u00f3ry oblicza sum\u0119 cyfr zadanej liczby. "
     ]
    },
    {
     "cell_type": "code",
     "collapsed": false,
     "input": [
      "liczba2 = 1456323465\n",
      "def suma_cyfr (liczba)\n",
      "suma = 0\n",
      "while(liczba > 0) do\n",
      "  suma+=liczba%10\n",
      "  liczba=liczba/10\n",
      "end\n",
      "puts suma\n",
      "end\n",
      "suma_cyfr(liczba2)\n",
      "\n",
      "liczba2.to_s.split('').map {|e| (e.to_i)}.inject(0){|suma,element| suma + element }"
     ],
     "language": "python",
     "metadata": {},
     "outputs": [
      {
       "output_type": "stream",
       "stream": "stdout",
       "text": [
        "39\n"
       ]
      },
      {
       "metadata": {},
       "output_type": "pyout",
       "prompt_number": 87,
       "text": [
        "39"
       ]
      }
     ],
     "prompt_number": 87
    },
    {
     "cell_type": "heading",
     "level": 3,
     "metadata": {},
     "source": [
      "Zadanie 3*"
     ]
    },
    {
     "cell_type": "markdown",
     "metadata": {},
     "source": [
      "Napisz program, kt\u00f3ry w\u015br\u00f3d liczb od 0 do 100 znajduje wszystkie liczby kt\u00f3re s\u0105 podzielne przez 2, ale nie s\u0105 podzielne przez 4 i kt\u00f3rych suma cyfr jest podzielna przez 7."
     ]
    },
    {
     "cell_type": "code",
     "collapsed": false,
     "input": [
      "def suma_cyfr (liczba)\n",
      "suma = 0\n",
      "while(liczba > 0) do\n",
      "  suma+=liczba%10\n",
      "  liczba=liczba/10\n",
      "end\n",
      "suma\n",
      "end\n",
      "2.step(100,4) do |index|\n",
      "  if (suma_cyfr(index)%7 == 0)\n",
      "    puts \"#{index}\"\n",
      "  end\n",
      "end"
     ],
     "language": "python",
     "metadata": {},
     "outputs": [
      {
       "output_type": "stream",
       "stream": "stdout",
       "text": [
        "34\n"
       ]
      },
      {
       "output_type": "stream",
       "stream": "stdout",
       "text": [
        "70\n"
       ]
      },
      {
       "output_type": "stream",
       "stream": "stdout",
       "text": [
        "86\n"
       ]
      },
      {
       "metadata": {},
       "output_type": "pyout",
       "prompt_number": 48,
       "text": [
        "2"
       ]
      }
     ],
     "prompt_number": 48
    },
    {
     "cell_type": "heading",
     "level": 3,
     "metadata": {},
     "source": [
      "Zadanie 4*"
     ]
    },
    {
     "cell_type": "markdown",
     "metadata": {},
     "source": [
      "Za\u0142\u00f3\u017cmy, \u017ce w turnieju szachowym jest 6 zawodnik\u00f3w: Anna, Beata, Andrzej, Wojtek, Jan i Klaudia. Napisz kod, kt\u00f3ry znajdzie wszystkie mo\u017cliwe mecze rozgrywane przez zawodnik\u00f3w. Mecze rozgrywane pomi\u0119dzy tymi samymi zawodnikami nie mog\u0105 si\u0119 powtarza\u0107 (kolejno\u015b\u0107 zawodnik\u00f3w nie ma znaczenia)."
     ]
    },
    {
     "cell_type": "code",
     "collapsed": false,
     "input": [
      "tablica_imion = %w(Anna Beata Andrzej Wojtek Jan Klaudia)\n",
      "0.upto(4){|i| (i+1).upto(5){|j| puts \"#{tablica_imion[i]} - #{tablica_imion[j]}\"}}\n",
      "tablica_imion.combination(2){|z1,z2| puts \"#{z1} - #{z2}\" }"
     ],
     "language": "python",
     "metadata": {},
     "outputs": [
      {
       "output_type": "stream",
       "stream": "stdout",
       "text": [
        "Anna - Beata\n"
       ]
      },
      {
       "output_type": "stream",
       "stream": "stdout",
       "text": [
        "Anna - Andrzej\n"
       ]
      },
      {
       "output_type": "stream",
       "stream": "stdout",
       "text": [
        "Anna - Wojtek\n"
       ]
      },
      {
       "output_type": "stream",
       "stream": "stdout",
       "text": [
        "Anna - Jan\n"
       ]
      },
      {
       "output_type": "stream",
       "stream": "stdout",
       "text": [
        "Anna - Klaudia\n"
       ]
      },
      {
       "output_type": "stream",
       "stream": "stdout",
       "text": [
        "Beata - Andrzej\n"
       ]
      },
      {
       "output_type": "stream",
       "stream": "stdout",
       "text": [
        "Beata - Wojtek\n"
       ]
      },
      {
       "output_type": "stream",
       "stream": "stdout",
       "text": [
        "Beata - Jan\n"
       ]
      },
      {
       "output_type": "stream",
       "stream": "stdout",
       "text": [
        "Beata - Klaudia\n"
       ]
      },
      {
       "output_type": "stream",
       "stream": "stdout",
       "text": [
        "Andrzej - Wojtek\n"
       ]
      },
      {
       "output_type": "stream",
       "stream": "stdout",
       "text": [
        "Andrzej - Jan\n"
       ]
      },
      {
       "output_type": "stream",
       "stream": "stdout",
       "text": [
        "Andrzej - Klaudia\n"
       ]
      },
      {
       "output_type": "stream",
       "stream": "stdout",
       "text": [
        "Wojtek - Jan\n"
       ]
      },
      {
       "output_type": "stream",
       "stream": "stdout",
       "text": [
        "Wojtek - Klaudia\n"
       ]
      },
      {
       "output_type": "stream",
       "stream": "stdout",
       "text": [
        "Jan - Klaudia\n"
       ]
      },
      {
       "output_type": "stream",
       "stream": "stdout",
       "text": [
        "Anna - Beata\n"
       ]
      },
      {
       "output_type": "stream",
       "stream": "stdout",
       "text": [
        "Anna - Andrzej\n"
       ]
      },
      {
       "output_type": "stream",
       "stream": "stdout",
       "text": [
        "Anna - Wojtek\n"
       ]
      },
      {
       "output_type": "stream",
       "stream": "stdout",
       "text": [
        "Anna - Jan\n"
       ]
      },
      {
       "output_type": "stream",
       "stream": "stdout",
       "text": [
        "Anna - Klaudia\n"
       ]
      },
      {
       "output_type": "stream",
       "stream": "stdout",
       "text": [
        "Beata - Andrzej\n"
       ]
      },
      {
       "output_type": "stream",
       "stream": "stdout",
       "text": [
        "Beata - Wojtek\n"
       ]
      },
      {
       "output_type": "stream",
       "stream": "stdout",
       "text": [
        "Beata - Jan\n"
       ]
      },
      {
       "output_type": "stream",
       "stream": "stdout",
       "text": [
        "Beata - Klaudia\n"
       ]
      },
      {
       "output_type": "stream",
       "stream": "stdout",
       "text": [
        "Andrzej - Wojtek\n"
       ]
      },
      {
       "output_type": "stream",
       "stream": "stdout",
       "text": [
        "Andrzej - Jan\n"
       ]
      },
      {
       "output_type": "stream",
       "stream": "stdout",
       "text": [
        "Andrzej - Klaudia\n"
       ]
      },
      {
       "output_type": "stream",
       "stream": "stdout",
       "text": [
        "Wojtek - Jan\n"
       ]
      },
      {
       "output_type": "stream",
       "stream": "stdout",
       "text": [
        "Wojtek - Klaudia\n"
       ]
      },
      {
       "output_type": "stream",
       "stream": "stdout",
       "text": [
        "Jan - Klaudia\n"
       ]
      },
      {
       "metadata": {},
       "output_type": "pyout",
       "prompt_number": 27,
       "text": [
        "[\"Anna\", \"Beata\", \"Andrzej\", \"Wojtek\", \"Jan\", \"Klaudia\"]"
       ]
      }
     ],
     "prompt_number": 27
    }
   ],
   "metadata": {}
  }
 ]
}