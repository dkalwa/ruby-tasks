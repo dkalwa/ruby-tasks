{
 "metadata": {
  "language": "ruby",
  "name": "",
  "signature": "sha256:8f8281f43e6f914aea0f782f6dfa4f6e2d5efd865b6bd6f46e9b39144a0114bc"
 },
 "nbformat": 3,
 "nbformat_minor": 0,
 "worksheets": [
  {
   "cells": [
    {
     "cell_type": "heading",
     "level": 1,
     "metadata": {},
     "source": [
      "\u0141a\u0144cuchy znak\u00f3w - ci\u0105g dalszy"
     ]
    },
    {
     "cell_type": "heading",
     "level": 3,
     "metadata": {},
     "source": [
      "Badanie zawarto\u015bci \u0142a\u0144cucha"
     ]
    },
    {
     "cell_type": "markdown",
     "metadata": {},
     "source": [
      "Ruby posiada bardzo wiele metod pozwalaj\u0105cych na wykonywanie r\u00f3\u017cnych operacji na \u0142a\u0144cuchach. Do najprostszych z nich nale\u017cy metoda `empty?`, kt\u00f3ra zwraca warto\u015b\u0107 prawdy, je\u015bli \u0142a\u0144cuch jest pusty.\n",
      "\n",
      "Przyk\u0142ad\n",
      "```ruby\n",
      "\"\".empty?\n",
      "```\n",
      "\n",
      "Sprawd\u017a dzia\u0142anie tej metody dla co najmniej dw\u00f3ch \u0142a\u0144cuch\u00f3w - pustego oraz niepustego."
     ]
    },
    {
     "cell_type": "code",
     "collapsed": false,
     "input": [
      "\"\".empty?\n"
     ],
     "language": "python",
     "metadata": {},
     "outputs": [
      {
       "metadata": {},
       "output_type": "pyout",
       "prompt_number": 1,
       "text": [
        "true"
       ]
      }
     ],
     "prompt_number": 1
    },
    {
     "cell_type": "markdown",
     "metadata": {},
     "source": [
      "Bardzo cz\u0119sto u\u017cywan\u0105 metod\u0105 jest `size` (to samo co `length`). Zwraca ona ilo\u015b\u0107 **znak\u00f3w** z kt\u00f3rych sk\u0142ada si\u0119 \u0142a\u0144cuch. Nale\u017cy wzi\u0105\u0107 pod uwag\u0119, \u017ce ilo\u015b\u0107 znak\u00f3w, nie musi r\u00f3wna\u0107 si\u0119 ilo\u015bci bajt\u00f3w, w szczeg\u00f3lno\u015bci dotyczy to napis\u00f3w zakodowanych w standardzie Unicode (np. UTF-8). Dlatego w Rubym istnieje te\u017c metoda `bytesize`, kt\u00f3ra zwraca ilo\u015b\u0107 bajt\u00f3w, kt\u00f3re napis zajmuje w pami\u0119ci.\n",
      "\n",
      "Przyk\u0142ad\n",
      "```ruby\n",
      "\"\u0141\u00f3d\u017a\".size\n",
      "\"\u0141\u00f3d\u017a\".bytesize\n",
      "```\n",
      "\n",
      "Sprawd\u017a wynik dzia\u0142ania tych metod dla napis\u00f3w zawieraj\u0105cych polskie znaki."
     ]
    },
    {
     "cell_type": "code",
     "collapsed": false,
     "input": [
      "\"\u0141\u00f3d\u017a\".size\n",
      "\"\u0141\u00f3d\u017a\".bytesize\n"
     ],
     "language": "python",
     "metadata": {},
     "outputs": [
      {
       "metadata": {},
       "output_type": "pyout",
       "prompt_number": 4,
       "text": [
        "7"
       ]
      }
     ],
     "prompt_number": 4
    },
    {
     "cell_type": "heading",
     "level": 3,
     "metadata": {},
     "source": [
      "Zadanie 1"
     ]
    },
    {
     "cell_type": "markdown",
     "metadata": {},
     "source": [
      "Sprawd\u017a jak\u0105 d\u0142ugo\u015b\u0107 w bajtach ma napis \"\u2500\". Dlaczego?"
     ]
    },
    {
     "cell_type": "code",
     "collapsed": false,
     "input": [
      "string = \"\u2500\"\n",
      "string.bytesize\n",
      "\n"
     ],
     "language": "python",
     "metadata": {},
     "outputs": [
      {
       "metadata": {},
       "output_type": "pyout",
       "prompt_number": 41,
       "text": [
        "3"
       ]
      }
     ],
     "prompt_number": 41
    },
    {
     "cell_type": "markdown",
     "metadata": {},
     "source": [
      "Jak wida\u0107 w wcze\u015bniejszym przyk\u0142adzie, napisy mog\u0105 zawiera\u0107 znaki narodowe. Czasami jednak mo\u017cemy mie\u0107 problem z okre\u015bleniem, w jakim kodowaniu zapisany jest napis. W tym celu mo\u017cna skorzysta\u0107 z metody `encoding`, kt\u00f3ra zwraca kodowanie.\n",
      "\n",
      "Przyk\u0142ad\n",
      "```ruby\n",
      "\"\u0141\u00f3d\u017a\".encoding\n",
      "```\n",
      "\n",
      "W Rubim od wersji 2.0 domy\u015blnym kodowaniem jest UTF-8."
     ]
    },
    {
     "cell_type": "code",
     "collapsed": false,
     "input": [
      "\"\u0141\u00f3d\u017a\".encoding"
     ],
     "language": "python",
     "metadata": {},
     "outputs": [
      {
       "metadata": {},
       "output_type": "pyout",
       "prompt_number": 7,
       "text": [
        "#<Encoding:UTF-8>"
       ]
      }
     ],
     "prompt_number": 7
    },
    {
     "cell_type": "markdown",
     "metadata": {},
     "source": [
      "W tekstach cz\u0119sto poszukujemy wyst\u0105pienia okre\u015blonego znaku. Najpro\u015bciej znale\u017a\u0107 jego po\u0142o\u017cenie korzystaj\u0105c z metod `index` oraz `rindex`, kt\u00f3re zwracaj\u0105 indeks odpowiednio pierwszego od lewej i pierwszego od prawej wyst\u0105pienia znaku.\n",
      "\n",
      "Przyk\u0142ad:\n",
      "```ruby\n",
      "\"paczka\".index(\"a\")\n",
      "\"paczka\".rindex(\"a\")\n",
      "```"
     ]
    },
    {
     "cell_type": "code",
     "collapsed": false,
     "input": [
      "\n",
      "\"paczka\".index(\"a\")"
     ],
     "language": "python",
     "metadata": {},
     "outputs": [
      {
       "metadata": {},
       "output_type": "pyout",
       "prompt_number": 10,
       "text": [
        "1"
       ]
      }
     ],
     "prompt_number": 10
    },
    {
     "cell_type": "markdown",
     "metadata": {},
     "source": [
      "Jednak\u017ce metod\u0105, kt\u00f3ra chyba najcz\u0119\u015bciej wykonywana jest na \u0142a\u0144uchcach znak\u00f3w jest wydobywanie z nich ich cz\u0119\u015bci. W tym celu wykorzystywany jest operator indeksowania `[]`. \n",
      "\n",
      "Do operatora mo\u017cna przekaza\u0107 pojedyncz\u0105 warto\u015b\u0107 - wtedy zostanie zwr\u00f3cony pojedynczy znak (kt\u00f3ry r\u00f3wnie\u017c jest \u0142a\u0144cuchem):\n",
      "```ruby\n",
      "\"\u0141\u00f3d\u017a\"[0]\n",
      "```"
     ]
    },
    {
     "cell_type": "code",
     "collapsed": false,
     "input": [
      "\"\u0141\u00f3d\u017a\"[0]"
     ],
     "language": "python",
     "metadata": {},
     "outputs": [
      {
       "metadata": {},
       "output_type": "pyout",
       "prompt_number": 11,
       "text": [
        "\"\u0141\""
       ]
      }
     ],
     "prompt_number": 11
    },
    {
     "cell_type": "markdown",
     "metadata": {},
     "source": [
      "Mo\u017cna r\u00f3wnie\u017c przekaza\u0107 _zakres_ indeks\u00f3w - wtedy zostanie zwr\u00f3conych kilka znak\u00f3w:\n",
      "```ruby\n",
      "\"\u0141\u00f3d\u017a\"[0..1]\n",
      "``` "
     ]
    },
    {
     "cell_type": "code",
     "collapsed": false,
     "input": [
      "\"\u0141\u00f3d\u017a\"[0..1]"
     ],
     "language": "python",
     "metadata": {},
     "outputs": [
      {
       "metadata": {},
       "output_type": "pyout",
       "prompt_number": 12,
       "text": [
        "\"\u0141\u00f3\""
       ]
      }
     ],
     "prompt_number": 12
    },
    {
     "cell_type": "markdown",
     "metadata": {},
     "source": [
      "Napisy indeksowane s\u0105 od 0. Ale mo\u017cliwe jest wykorzystywanie r\u00f3wnie\u017c indeks\u00f3w ujemnych. Wtedy napis indeksowany jest od ko\u0144ca, przy za\u0142o\u017ceniu, \u017ce ostatni znak ma indeks -1.\n",
      "\n",
      "```ruby\n",
      "\"\u0141\u00f3d\u017a\"[-2..-1]\n",
      "```"
     ]
    },
    {
     "cell_type": "code",
     "collapsed": false,
     "input": [],
     "language": "python",
     "metadata": {},
     "outputs": []
    },
    {
     "cell_type": "heading",
     "level": 3,
     "metadata": {},
     "source": [
      "Zadanie 2"
     ]
    },
    {
     "cell_type": "markdown",
     "metadata": {},
     "source": [
      "Za\u0142\u00f3\u017cmy,\u00a0\u017ce zmienna `url` zawiera adres zasobu sieciowego. Jak najpro\u015bcie wydosta\u0107 ostatni element \u015bcie\u017cki takiego zasobu? W poni\u017cszym przyk\u0142adzie napisz kod, kt\u00f3ry wydostanie napis `Polska` z ca\u0142ego odno\u015bnika."
     ]
    },
    {
     "cell_type": "code",
     "collapsed": false,
     "input": [
      "url = \"http://pl.wikipedia.org/wiki/Polska\"\n",
      "url[url.rindex(\"/\")+1..url.size-1]"
     ],
     "language": "python",
     "metadata": {},
     "outputs": [
      {
       "metadata": {},
       "output_type": "pyout",
       "prompt_number": 42,
       "text": [
        "\"Polska\""
       ]
      }
     ],
     "prompt_number": 42
    },
    {
     "cell_type": "heading",
     "level": 3,
     "metadata": {},
     "source": [
      "Zmiana zawarto\u015bci \u0142a\u0144cucha"
     ]
    },
    {
     "cell_type": "markdown",
     "metadata": {},
     "source": [
      "Ruby pozwala w prosty spos\u00f3b zamienia\u0107 ma\u0142y litery na wielkie i vice-versa. S\u0142u\u017c\u0105 do tego metody `upcase` i `downcase`.\n",
      "\n",
      "```ruby\n",
      "\"Warszawa\".upcase\n",
      "```"
     ]
    },
    {
     "cell_type": "code",
     "collapsed": false,
     "input": [],
     "language": "python",
     "metadata": {},
     "outputs": []
    },
    {
     "cell_type": "markdown",
     "metadata": {},
     "source": [
      "Niestety wsparcie dla UTF-8 nie jest kompletne, dlatego metoda ta nie dzia\u0142a dla polskich znak\u00f3w.\n",
      "\n",
      "```ruby\n",
      "\"\u0141\u00f3d\u017a\".upcase\n",
      "```"
     ]
    },
    {
     "cell_type": "code",
     "collapsed": false,
     "input": [],
     "language": "python",
     "metadata": {},
     "outputs": [],
     "prompt_number": 6
    },
    {
     "cell_type": "markdown",
     "metadata": {},
     "source": [
      "Problem ten mo\u017cna rozwi\u0105za\u0107 za pomoc\u0105 biblioteki `string_case_pl`. Aby mo\u017cna by\u0142o z niej korzysta\u0107, trzeba j\u0105 wpierw zainstalowa\u0107. S\u0142u\u017cy do tego polecenie `gem` - jest to menad\u017cer bibliotek Rubiego.\n",
      "\n",
      "Instalacja jest bardzo prosta - w linii polece\u0144 wystarczy napisa\u0107 (konieczne jest zatrzymanie IRuby):\n",
      "```\n",
      "gem install string_case_pl\n",
      "```\n",
      "\n",
      "Od momentu instalacji mo\u017cemy korzysta\u0107 z biblioteki. Wymaga to jej za\u0142adowania za pomoc\u0105 polecenia `require`\n",
      "\n",
      "```ruby\n",
      "require 'string_case_pl'\n",
      "\"\u0141\u00f3d\u017a\".upcase\n",
      "```"
     ]
    },
    {
     "cell_type": "code",
     "collapsed": false,
     "input": [
      "require 'string_case_pl'\n",
      "\"\u0141\u00f3d\u017a\".upcase"
     ],
     "language": "python",
     "metadata": {},
     "outputs": [
      {
       "metadata": {},
       "output_type": "pyout",
       "prompt_number": 1,
       "text": [
        "\"\u0141\u00d3D\u0179\""
       ]
      }
     ],
     "prompt_number": 1
    },
    {
     "cell_type": "markdown",
     "metadata": {},
     "source": [
      "W Rubim mo\u017cna r\u00f3wnie\u017c \u0142atwo \"poprawi\u0107\" \u0142a\u0144cuchy, kt\u00f3re posiadaj\u0105 zb\u0119dne znaki, np. spacje. Metoda `squeeze` usuwa powtarzaj\u0105ce si\u0119 znaki, kt\u00f3re le\u017c\u0105 obok siebie. Je\u015bli przeka\u017cemy do niej argument, to zostan\u0105 usuni\u0119te powt\u00f3rzenia tylko tych znak\u00f3w.\n",
      "\n",
      "```ruby\n",
      "\"zbyt     wiele     spacji     \".squeeze(\" \")\n",
      "```"
     ]
    },
    {
     "cell_type": "code",
     "collapsed": false,
     "input": [
      "\"zbyt     wiele     spacji     \".squeeze(\" \")"
     ],
     "language": "python",
     "metadata": {},
     "outputs": [
      {
       "metadata": {},
       "output_type": "pyout",
       "prompt_number": 2,
       "text": [
        "\"zbyt wiele spacji \""
       ]
      }
     ],
     "prompt_number": 2
    },
    {
     "cell_type": "markdown",
     "metadata": {},
     "source": [
      "Metod `strip` natomiast usuwa spacje na pocz\u0105tku i na ko\u0144cu \u0142a\u0144cucha\n",
      "```ruby\n",
      "\"      niepotrzebne spacje          \".strip\n",
      "```"
     ]
    },
    {
     "cell_type": "code",
     "collapsed": false,
     "input": [
      "\"      niepotrzebne spacje          \".strip"
     ],
     "language": "python",
     "metadata": {},
     "outputs": [
      {
       "metadata": {},
       "output_type": "pyout",
       "prompt_number": 3,
       "text": [
        "\"niepotrzebne spacje\""
       ]
      }
     ],
     "prompt_number": 3
    },
    {
     "cell_type": "markdown",
     "metadata": {},
     "source": [
      "Natomiast metoda `chomp` usuwa ostatni znak, je\u015bli jest znakiem przej\u015bcia do nowej linii\n",
      "```ruby\n",
      "\"hello \\n\".chomp\n",
      "```"
     ]
    },
    {
     "cell_type": "code",
     "collapsed": false,
     "input": [
      "\"hello \\n\".chomp"
     ],
     "language": "python",
     "metadata": {},
     "outputs": [
      {
       "metadata": {},
       "output_type": "pyout",
       "prompt_number": 6,
       "text": [
        "\"hello \""
       ]
      }
     ],
     "prompt_number": 6
    },
    {
     "cell_type": "markdown",
     "metadata": {},
     "source": [
      "Najwa\u017cniejszymi metodami nale\u017c\u0105cymi do tej grupy s\u0105 jednak `sub` oraz `gsub`. Pozwalaj\u0105 one zmienia\u0107 zawarto\u015b\u0107 \u0142a\u0144cucha na podstawie dopasowania wyra\u017cenia regularnego.\n",
      "\n",
      "`sub` zmienia tylko pierwsze dopasowanie wyra\u017cenia\n",
      "```ruby\n",
      "\"Ala ma kota\".sub(/a/,\"o\")\n",
      "```"
     ]
    },
    {
     "cell_type": "code",
     "collapsed": false,
     "input": [
      "\"Ala ma kota\".sub(/a/,\"o\")"
     ],
     "language": "python",
     "metadata": {},
     "outputs": [
      {
       "metadata": {},
       "output_type": "pyout",
       "prompt_number": 7,
       "text": [
        "\"Alo ma kota\""
       ]
      }
     ],
     "prompt_number": 7
    },
    {
     "cell_type": "markdown",
     "metadata": {},
     "source": [
      "`gsub` zmienia wszystkie dopasowania wyra\u017cenia\n",
      "```ruby\n",
      "\"Ala ma kota\".gsub(/a/,\"o\")\n",
      "```"
     ]
    },
    {
     "cell_type": "code",
     "collapsed": false,
     "input": [
      "\"Ala ma kota\".gsub(/a/,\"o\")"
     ],
     "language": "python",
     "metadata": {},
     "outputs": [
      {
       "metadata": {},
       "output_type": "pyout",
       "prompt_number": 8,
       "text": [
        "\"Alo mo koto\""
       ]
      }
     ],
     "prompt_number": 8
    },
    {
     "cell_type": "heading",
     "level": 3,
     "metadata": {},
     "source": [
      "Zadanie 3"
     ]
    },
    {
     "cell_type": "markdown",
     "metadata": {},
     "source": [
      "Napisz wyra\u017cenie, kt\u00f3re zast\u0119puje w napisie wszystkie cyfry znakiem `x`. "
     ]
    },
    {
     "cell_type": "code",
     "collapsed": false,
     "input": [
      "napis = \"W domu by\u0142o 10 kot\u00f3w i 5 ps\u00f3w\"\n",
      "napis.gsub(/\\d+/,\"x\")\n",
      "# Rezultatem jego wywo\u0142ania powinien by\u0107 napis \"W domu by\u0142o xx kot\u00f3w oraz x ps\u00f3w\"\n",
      "# Mo\u017cesz r\u00f3wnie\u017c napisa\u0107 wyra\u017cenie, kt\u00f3rego rezultatem jest napis \"W domu by\u0142o x kot\u00f3w oraz x ps\u00f3w\""
     ],
     "language": "python",
     "metadata": {},
     "outputs": [
      {
       "metadata": {},
       "output_type": "pyout",
       "prompt_number": 60,
       "text": [
        "\"W domu by\u0142o x kot\u00f3w i x ps\u00f3w\""
       ]
      }
     ],
     "prompt_number": 60
    },
    {
     "cell_type": "heading",
     "level": 3,
     "metadata": {},
     "source": [
      "Konwersja \u0142a\u0144cuch\u00f3w"
     ]
    },
    {
     "cell_type": "markdown",
     "metadata": {},
     "source": [
      "Pomimo tego, \u017ce Ruby jest j\u0119zykiem _silnie typizowanym_ (tzn. nie ma w nim niejawnych konwersji pomi\u0119dzy typami), to istnieje wiele metod pozwalaj\u0105cych na jawne zamienianie jednych warto\u015bci na inne. W przypadku \u0142a\u0144cuch\u00f3w znak\u00f3w cz\u0119sto b\u0119dziemy zamienia\u0107 warto\u015bci liczbowe na \u0142a\u0144cuchy i _vice-versa_. \n",
      "\n",
      "Aby zamieni\u0107 liczb\u0119 na \u0142a\u0144cuch korzystamy z metody `to_s` (robili\u015bmy to ju\u017c wcze\u015bniej).\n",
      "\n",
      "```ruby\n",
      "10.to_s\n",
      "```\n",
      "\n",
      "Dzi\u0119ki temu mo\u017cemy np. sklei\u0107 napis z liczb\u0105:\n",
      "\n",
      "```ruby\n",
      "\"Warto\u015b\u0107 liczby to \" + 10.to_s\n",
      "```"
     ]
    },
    {
     "cell_type": "code",
     "collapsed": false,
     "input": [
      "\"Warto\u015b\u0107 liczby to \" + 10.to_s"
     ],
     "language": "python",
     "metadata": {},
     "outputs": [
      {
       "metadata": {},
       "output_type": "pyout",
       "prompt_number": 14,
       "text": [
        "\"Warto\u015b\u0107 liczby to 10\""
       ]
      }
     ],
     "prompt_number": 14
    },
    {
     "cell_type": "markdown",
     "metadata": {},
     "source": [
      "Metoda ta akceptuje jednak warto\u015b\u0107 liczbow\u0105, kt\u00f3ra wyznacza podstaw\u0119 wykorzystywan\u0105\u00a0do reprezentacji liczby. Domy\u015blnie liczby reprezentowane s\u0105 w systemie dziesi\u0119tnym, ale bardzo \u0142atwo mo\u017cna wykorzysta\u0107 inny system pozycyjny.\n",
      "\n",
      "```ruby\n",
      "10.to_s\n",
      "10.to_s(2)\n",
      "10.to_s(16)\n",
      "```"
     ]
    },
    {
     "cell_type": "code",
     "collapsed": false,
     "input": [
      "10.to_s(16)"
     ],
     "language": "python",
     "metadata": {},
     "outputs": [
      {
       "metadata": {},
       "output_type": "pyout",
       "prompt_number": 17,
       "text": [
        "\"a\""
       ]
      }
     ],
     "prompt_number": 17
    },
    {
     "cell_type": "markdown",
     "metadata": {},
     "source": [
      "Istniej\u0105 r\u00f3wnie\u017c metody pozwalaj\u0105ce na konwersj\u0119 w drug\u0105 stron\u0119. Metoda `to_i` zamienia \u0142a\u0144cuch na liczb\u0119\n",
      "```ruby\n",
      "\"10\".to_i\n",
      "\"10\" + \"20\"\n",
      "\"10\".to_i + \"20\".to_i\n",
      "```"
     ]
    },
    {
     "cell_type": "code",
     "collapsed": false,
     "input": [
      "\"10\".to_i + \"20\".to_i"
     ],
     "language": "python",
     "metadata": {},
     "outputs": [
      {
       "metadata": {},
       "output_type": "pyout",
       "prompt_number": 20,
       "text": [
        "30"
       ]
      }
     ],
     "prompt_number": 20
    },
    {
     "cell_type": "markdown",
     "metadata": {},
     "source": [
      "R\u00f3wnie\u017c ta metoda akceptuje parametr, kt\u00f3ry pozwala okre\u015bli\u0107 podstaw\u0119 systemu:\n",
      "```ruby\n",
      "\"100\".to_i(2)\n",
      "```"
     ]
    },
    {
     "cell_type": "code",
     "collapsed": false,
     "input": [
      "\"100\".to_i(2)"
     ],
     "language": "python",
     "metadata": {},
     "outputs": [
      {
       "metadata": {},
       "output_type": "pyout",
       "prompt_number": 21,
       "text": [
        "4"
       ]
      }
     ],
     "prompt_number": 21
    },
    {
     "cell_type": "markdown",
     "metadata": {},
     "source": [
      "Obok niej istnieje r\u00f3wnie\u017c metoda `to_f`, kt\u00f3ra zamienia napis na liczb\u0119 zmiennopozycyjn\u0105\n",
      "```ruby\n",
      "\"1.5\".to_i\n",
      "\"1.5\".to_f\n",
      "```"
     ]
    },
    {
     "cell_type": "code",
     "collapsed": false,
     "input": [
      "\"1.5\".to_f"
     ],
     "language": "python",
     "metadata": {},
     "outputs": [
      {
       "metadata": {},
       "output_type": "pyout",
       "prompt_number": 23,
       "text": [
        "1.5"
       ]
      }
     ],
     "prompt_number": 23
    },
    {
     "cell_type": "heading",
     "level": 3,
     "metadata": {},
     "source": [
      "Zadanie 4"
     ]
    },
    {
     "cell_type": "markdown",
     "metadata": {},
     "source": [
      "Jak\u0105 reprezentacj\u0119 w systemie \u00f3semkowym ma zapisana w systemie szesnastkowym liczba \"AFC\"?"
     ]
    },
    {
     "cell_type": "code",
     "collapsed": false,
     "input": [
      "liczba=\"AFC\"\n",
      "liczba.to_i(16).to_s(8)\n"
     ],
     "language": "python",
     "metadata": {},
     "outputs": [
      {
       "metadata": {},
       "output_type": "pyout",
       "prompt_number": 54,
       "text": [
        "\"5374\""
       ]
      }
     ],
     "prompt_number": 54
    },
    {
     "cell_type": "markdown",
     "metadata": {},
     "source": [
      "Ostatnim, cz\u0119sto wykorzystywanym typem konwersji \u0142a\u0144uch\u00f3w znak\u00f3w jest podzia\u0142 \u0142a\u0144cucha na cz\u0119\u015bci. W wyniku wywo\u0142ania `split` \n",
      "otrzymujemy tablic\u0119 \u0142a\u0144cuch\u00f3w, podzielonych w miejscu, w kt\u00f3rym wyst\u0105pi\u0142 znak przekazany do tej metody. Domy\u015blnie\n",
      "znakiem tym jest spacja.\n",
      "\n",
      "```ruby\n",
      "\"Ala ma kota, a kot jest persem.\".split\n",
      "```"
     ]
    },
    {
     "cell_type": "code",
     "collapsed": false,
     "input": [
      "\"Ala ma kota, a kot jest persem.\".split\n"
     ],
     "language": "python",
     "metadata": {},
     "outputs": [
      {
       "metadata": {},
       "output_type": "pyout",
       "prompt_number": 28,
       "text": [
        "[\"Ala\", \"ma\", \"kota,\", \"a\", \"kot\", \"jest\", \"persem.\"]"
       ]
      }
     ],
     "prompt_number": 28
    },
    {
     "cell_type": "markdown",
     "metadata": {},
     "source": [
      "Metoda ta akceptuje r\u00f3wnie\u017c wyra\u017cenia regularne.\n",
      "```ruby\n",
      "\"Ala ma kota, a kot jest persem.\".split(/\\s[,.?!]?|[,.?!]$/)\n",
      "```"
     ]
    },
    {
     "cell_type": "code",
     "collapsed": false,
     "input": [
      "\"Ala ma kota, a kot jest persem.\".split(/\\s[,.?!]?|[,.?!]$/)"
     ],
     "language": "python",
     "metadata": {},
     "outputs": [
      {
       "metadata": {},
       "output_type": "pyout",
       "prompt_number": 63,
       "text": [
        "[\"Ala\", \"ma\", \"kota,\", \"a\", \"kot\", \"jest\", \"persem\"]"
       ]
      }
     ],
     "prompt_number": 63
    },
    {
     "cell_type": "heading",
     "level": 3,
     "metadata": {},
     "source": [
      "Zadanie 5"
     ]
    },
    {
     "cell_type": "markdown",
     "metadata": {},
     "source": [
      "Przetestuj wyra\u017cenie z poprzedniego zadania z r\u00f3\u017cnymi napisami zawieraj\u0105cymi wiele zda\u0144."
     ]
    },
    {
     "cell_type": "code",
     "collapsed": false,
     "input": [
      "\"Ala ma kota, a kot jest persem. Jest to bardzo grzeczny kot.\".split(/\\s[,.?!]?|[,.?!]$/)"
     ],
     "language": "python",
     "metadata": {},
     "outputs": [
      {
       "metadata": {},
       "output_type": "pyout",
       "prompt_number": 61,
       "text": [
        "[\"Ala\", \"ma\", \"kota,\", \"a\", \"kot\", \"jest\", \"persem.\", \"Jest\", \"to\", \"bardzo\", \"grzeczny\", \"kot\"]"
       ]
      }
     ],
     "prompt_number": 61
    },
    {
     "cell_type": "heading",
     "level": 3,
     "metadata": {},
     "source": [
      "Metody modyfikuj\u0105ce oryginalny \u0142a\u0144cuch"
     ]
    },
    {
     "cell_type": "markdown",
     "metadata": {},
     "source": [
      "Wi\u0119kszo\u015b\u0107 metod dzia\u0142aj\u0105cych na \u0142a\u0144cuchach nie modyfikuje orginalnej warto\u015bci, lecz zwraca zmodyfikowan\u0105 kopi\u0119 \u0142a\u0144cucha. Wyj\u0105tkiem jest np. metoda `<<`, s\u0142u\u017c\u0105ca do konkatenacji. Isnieje jednak szereg metod pozwalaj\u0105cych na modyfikowanie oryginalnego \u0142a\u0144cucha znak\u00f3w. Charakteryzuj\u0105 si\u0119 one tym, \u017ce na ko\u0144cu nazwy pojawia si\u0119 wykrzyknik.\n",
      "\n",
      "Przyk\u0142adowo metoda `downcase` zwraca kopi\u0119 \u0142a\u0144ucha, a metoda `downcase!` modyfikuje oryginalny \u0142a\u0144cuch\n",
      "```ruby\n",
      "napis = \"Janek\"\n",
      "nowy_napis = napis.downcase\n",
      "puts nowy_napis\n",
      "puts napis\n",
      "\n",
      "napis = \"Janek\"\n",
      "nowy_napis = napis.downcase!\n",
      "puts nowy_napis\n",
      "puts napis\n",
      "```\n"
     ]
    },
    {
     "cell_type": "code",
     "collapsed": false,
     "input": [
      "napis = \"Janek\"\n",
      "nowy_napis = napis.downcase\n",
      "puts nowy_napis\n",
      "puts napis"
     ],
     "language": "python",
     "metadata": {},
     "outputs": [
      {
       "output_type": "stream",
       "stream": "stdout",
       "text": [
        "janek\n"
       ]
      },
      {
       "output_type": "stream",
       "stream": "stdout",
       "text": [
        "Janek\n"
       ]
      }
     ],
     "prompt_number": 66
    },
    {
     "cell_type": "markdown",
     "metadata": {},
     "source": [
      "Istnieje istotna r\u00f3\u017cnica pomi\u0119dzy obiema metodami. Poza tym, \u017ce metoda z wykrzyknikiem modyfikuje oryginalny \u0142a\u0144uch, to dodatkowo - je\u015bli w \u0142a\u0144cuchu nie nast\u0105pi \u017cadna zmiana, zwraca ona warto\u015b\u0107 `nil`.\n",
      "\n",
      "Dlatego je\u015bli chcemy po\u0142\u0105czy\u0107 kilka metod modyfikuj\u0105cych jeden \u0142a\u0144cuch powinni\u015bmy wykorzystywa\u0107 metody bez wykrzyknika\n",
      "```ruby\n",
      "puts \"  POWITANIE    ZE   SPACJJAMI  \".squeeze.strip.downcase\n",
      "puts \"powitanie ze spacjami\".squeeze.strip.downcase\n",
      "puts \"  POWITANIE    ZE   SPACJJAMI  \".squeeze!.strip!.downcase!\n",
      "puts \"powitanie ze spacjami\".squeeze!.strip!.downcase!\n",
      "```"
     ]
    },
    {
     "cell_type": "heading",
     "level": 3,
     "metadata": {},
     "source": [
      "Zadanie 6"
     ]
    },
    {
     "cell_type": "markdown",
     "metadata": {},
     "source": [
      "Napisz wyra\u017cenie, kt\u00f3re modyfikuje napis, tak, \u017ce ma\u0142e litery zamienane s\u0105 na wielkie, potwarzaj\u0105ce litery \"I\" s\u0105 usuwane, a wszystkie wyst\u0105pienia litery \"A\" zamieniane s\u0105 na wyst\u0105pienia litery \"O\". Polskie litery r\u00f3wnie\u017c powinny by\u0107 zamienione."
     ]
    },
    {
     "cell_type": "code",
     "collapsed": false,
     "input": [
      "napis = \"II Klasa szko\u0142y podstawowej. Ala ma kota. To kot, a to Ala.\"\n",
      "napis.upcase.squeeze(\"I\").gsub(\"A\",\"O\")"
     ],
     "language": "python",
     "metadata": {},
     "outputs": [
      {
       "metadata": {},
       "output_type": "pyout",
       "prompt_number": 70,
       "text": [
        "\"I KLOSO SZKO\u0141Y PODSTOWOWEJ. OLO MO KOTO. TO KOT, O TO OLO.\""
       ]
      }
     ],
     "prompt_number": 70
    }
   ],
   "metadata": {}
  }
 ]
}