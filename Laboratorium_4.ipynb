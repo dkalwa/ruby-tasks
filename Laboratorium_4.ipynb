{
 "cells": [
  {
   "cell_type": "markdown",
   "metadata": {},
   "source": [
    "# Wyrażenia regularne"
   ]
  },
  {
   "cell_type": "markdown",
   "metadata": {},
   "source": [
    "Wyrażenia regularne są bardzo powszechnie wykorzystywane w programowaniu aplikacji internetowych. Są to wzorce, które dopasowywane są do napisów. Mogą być wykorzystywane np. do weryfikacji poprawności napisów (np. kodu pocztowego, numeru telefonu, nazwiska) ale również do wydostawania pewnych informacji ze złożonych napisów.\n",
    "\n",
    "Wyrażenia regularne zapisywane są z wykorzystaniem ukośników np. następujące wyrażenie pasuje do napisu zawierającego co najmniej \n",
    "jedną literę 'a'\n",
    "```ruby\n",
    "/a/\n",
    "```"
   ]
  },
  {
   "cell_type": "code",
   "execution_count": 2,
   "metadata": {
    "collapsed": false
   },
   "outputs": [
    {
     "data": {
      "text/plain": [
       "/a/"
      ]
     },
     "execution_count": 2,
     "metadata": {},
     "output_type": "execute_result"
    }
   ],
   "source": [
    "/a/"
   ]
  },
  {
   "cell_type": "markdown",
   "metadata": {},
   "source": [
    "Dopasowania napisu do wyrażenia może być weryfikowane na dwa sposoby. Po pierwsze można skorzystać z operatora dopasowania `=~`\n",
    "```ruby\n",
    "\"Ala ma kota\" =~ /a/\n",
    "```"
   ]
  },
  {
   "cell_type": "code",
   "execution_count": 3,
   "metadata": {
    "collapsed": false
   },
   "outputs": [
    {
     "data": {
      "text/plain": [
       "2"
      ]
     },
     "execution_count": 3,
     "metadata": {},
     "output_type": "execute_result"
    }
   ],
   "source": [
    "\"Ala ma kota\" =~ /a/"
   ]
  },
  {
   "cell_type": "markdown",
   "metadata": {},
   "source": [
    "```ruby\n",
    "\"Ala ma kota\" =~ /x/\n",
    "```"
   ]
  },
  {
   "cell_type": "code",
   "execution_count": 4,
   "metadata": {
    "collapsed": false
   },
   "outputs": [],
   "source": [
    "\"Ala ma kota\" =~ /x/"
   ]
  },
  {
   "cell_type": "markdown",
   "metadata": {},
   "source": [
    "Wartość zwracana przy dopasowaniu to indeks pierwszego dopasowanego znaku. Jeśli dopasowanie się nie powiodło zwracana jest wartość `nil`. Dzięki temu dopasowanie wyrażeń w tej formie często wykorzystywane jest w instrukcji warunkwej.\n",
    "\n",
    "Drugi sposób dopasowania to użycie metody `match` zdefiniowanej dla wyrażeń regularnych\n",
    "```ruby\n",
    "/a/.match(\"Ala ma kota\")\n",
    "```"
   ]
  },
  {
   "cell_type": "code",
   "execution_count": 5,
   "metadata": {
    "collapsed": false
   },
   "outputs": [
    {
     "data": {
      "text/plain": [
       "#<MatchData \"a\">"
      ]
     },
     "execution_count": 5,
     "metadata": {},
     "output_type": "execute_result"
    }
   ],
   "source": [
    "/a/.match(\"Ala ma kota\")"
   ]
  },
  {
   "cell_type": "markdown",
   "metadata": {},
   "source": [
    "Dla tej metody zwracany jest jednak nie indeks, ale obiekt klasy `MatchData`, który pozwala \"odpytać\" jak dokładnie wygląda dopasowanie\n",
    "```ruby\n",
    "matched = /a/.match(\"Ala ma kota\")\n",
    "matched.begin(0)\n",
    "matched.end(0)\n",
    "```"
   ]
  },
  {
   "cell_type": "code",
   "execution_count": 12,
   "metadata": {
    "collapsed": false
   },
   "outputs": [
    {
     "data": {
      "text/plain": [
       "3"
      ]
     },
     "execution_count": 12,
     "metadata": {},
     "output_type": "execute_result"
    }
   ],
   "source": [
    "matched = /a/.match(\"Ala ma kota\")\n",
    "matched.begin(0)\n",
    "matched.end(0)"
   ]
  },
  {
   "cell_type": "markdown",
   "metadata": {},
   "source": [
    "Argument przekazywany do metod `begin` oraz `end` oznaczna indeks dopasowanej \"podgrupy\" wyrażenia. Indeks 0 oznaczna \n",
    "całe dopasowanie."
   ]
  },
  {
   "cell_type": "markdown",
   "metadata": {},
   "source": [
    "### Zadanie 1"
   ]
  },
  {
   "cell_type": "markdown",
   "metadata": {},
   "source": [
    "Jak myślisz, dlaczego w przypadku dopasowania łańcucha do wyrażenia zwracany jest indeks pierwszego dopasowanego znaku, a w przypadku niedopasowania, wartość `nil`?"
   ]
  },
  {
   "cell_type": "markdown",
   "metadata": {},
   "source": [
    "## Znaki specjalne"
   ]
  },
  {
   "cell_type": "markdown",
   "metadata": {},
   "source": [
    "W wyrażeniach regularnych poza zwykłymi znakami występują znaki specjalne\n",
    "\n",
    "| Znak specjalny | Znaczenie |\n",
    "|----------------|-----------|\n",
    "| .              | dowolny znak |\n",
    "| &#124;         | alternatywa |\n",
    "| (              | początek podgrupy |\n",
    "| )              | koniec podgrupy   |\n",
    "| [              | zakres wartości   |\n",
    "| {              | krotność          |\n",
    "| *              | zero lub więcej wystąpień |\n",
    "| +              | jedno lub więcej wystąpień |\n",
    "| ?              | zero lub jedno wystąpienie |\n",
    "| \\              | znak wymazujący znaczenie znaku specjalnego |\n",
    "| ^              | początek linii |\n",
    "| $              | koniec linii |\n",
    "\n",
    "\n",
    "Jeśli chcemy aby te znaki zostały dopasowane bezpośrednio, musimy poprzedzić je odwrotnym ukośnikiem. Poniższe dopasowanie dopasuje się do dowolnego znaku:\n",
    "```ruby\n",
    "\"a\" =~ /./\n",
    "```"
   ]
  },
  {
   "cell_type": "code",
   "execution_count": 13,
   "metadata": {
    "collapsed": false
   },
   "outputs": [
    {
     "data": {
      "text/plain": [
       "0"
      ]
     },
     "execution_count": 13,
     "metadata": {},
     "output_type": "execute_result"
    }
   ],
   "source": [
    "\"a\" =~ /./"
   ]
  },
  {
   "cell_type": "markdown",
   "metadata": {},
   "source": [
    "Jeśli chcemy dopasować kropkę, musimy użyć odwrotnego ukośnika\n",
    "\n",
    "```ruby\n",
    "\"a\" =~ /\\./\n",
    "```"
   ]
  },
  {
   "cell_type": "code",
   "execution_count": 17,
   "metadata": {
    "collapsed": false
   },
   "outputs": [],
   "source": [
    "\"a\" =~ /\\./"
   ]
  },
  {
   "cell_type": "markdown",
   "metadata": {},
   "source": [
    "```ruby\n",
    "\".\" =~ /\\./\n",
    "```"
   ]
  },
  {
   "cell_type": "code",
   "execution_count": 16,
   "metadata": {
    "collapsed": false
   },
   "outputs": [
    {
     "data": {
      "text/plain": [
       "0"
      ]
     },
     "execution_count": 16,
     "metadata": {},
     "output_type": "execute_result"
    }
   ],
   "source": [
    "\".\" =~ /\\./"
   ]
  },
  {
   "cell_type": "markdown",
   "metadata": {},
   "source": [
    "Alternatywa dopasowuje się do wyrażenia po prawej lub wyrażenia po lewej stronie\n",
    "```ruby\n",
    "\"mały\" =~ /mały|duży/\n",
    "```"
   ]
  },
  {
   "cell_type": "code",
   "execution_count": 18,
   "metadata": {
    "collapsed": false
   },
   "outputs": [
    {
     "data": {
      "text/plain": [
       "0"
      ]
     },
     "execution_count": 18,
     "metadata": {},
     "output_type": "execute_result"
    }
   ],
   "source": [
    "\"mały\" =~ /mały|duży/"
   ]
  },
  {
   "cell_type": "markdown",
   "metadata": {},
   "source": [
    "```ruby\n",
    "\"duży\" =~ /mały|duży/\n",
    "```"
   ]
  },
  {
   "cell_type": "code",
   "execution_count": 19,
   "metadata": {
    "collapsed": false
   },
   "outputs": [
    {
     "data": {
      "text/plain": [
       "0"
      ]
     },
     "execution_count": 19,
     "metadata": {},
     "output_type": "execute_result"
    }
   ],
   "source": [
    "\"duży\" =~ /mały|duży/"
   ]
  },
  {
   "cell_type": "markdown",
   "metadata": {},
   "source": [
    "```ruby\n",
    "\"wielki\" =~ /mały|duży/\n",
    "```"
   ]
  },
  {
   "cell_type": "code",
   "execution_count": 20,
   "metadata": {
    "collapsed": false
   },
   "outputs": [],
   "source": [
    "\"wielki\" =~ /mały|duży/"
   ]
  },
  {
   "cell_type": "markdown",
   "metadata": {},
   "source": [
    "Podgrupy pozwalają na wyodrębnianie pewnych informacji z dopasowanego łańcucha. Przykładowo, jeśli z adresu chcemy \n",
    "wyodrębnić kod i miejscowość możemy użyć następującego wyrażenia:\n",
    "```ruby\n",
    "matched = /(\\d\\d-\\d\\d\\d) (\\w+)/.match(\"00-700 Warszawa, ul. Krótka 5\")\n",
    "matched[1]\n",
    "matched[2]\n",
    "```"
   ]
  },
  {
   "cell_type": "code",
   "execution_count": 52,
   "metadata": {
    "collapsed": false
   },
   "outputs": [
    {
     "name": "stdout",
     "output_type": "stream",
     "text": [
      "00-700\n",
      "Warszawa\n"
     ]
    }
   ],
   "source": [
    "matched = /(\\d\\d-\\d\\d\\d) (\\w+)/.match(\"00-700 Warszawa, ul. Krótka 5\")\n",
    "puts \"%s\" % matched[1]\n",
    "puts \"%s\" % matched[2]"
   ]
  },
  {
   "cell_type": "markdown",
   "metadata": {},
   "source": [
    "Pierwsza dopasowana podgrupa obejmuje kod pocztowy, a druga - nazwę miejscowości. "
   ]
  },
  {
   "cell_type": "markdown",
   "metadata": {},
   "source": [
    "### Zadanie 2"
   ]
  },
  {
   "cell_type": "markdown",
   "metadata": {},
   "source": [
    "Napisz wyrażenie, które dopasowuje się do numeru telefonicznego z kodem kierunkowym województwa. Użyj podgrup, aby wydostać kod kierunkowy z pełnego numeru telefonu. Przykładowe numer: \"12 2 123 123\", \"22 23 32 654\""
   ]
  },
  {
   "cell_type": "code",
   "execution_count": 53,
   "metadata": {
    "collapsed": false
   },
   "outputs": [
    {
     "name": "stdout",
     "output_type": "stream",
     "text": [
      "12\n",
      "444 0 233\n"
     ]
    }
   ],
   "source": [
    "matched = /(\\d{2}) (( ?\\d){7})/.match(\"12 444 0 233\")\n",
    "puts \"%s\" % matched[1]\n",
    "puts \"%s\" % matched[2]"
   ]
  },
  {
   "cell_type": "markdown",
   "metadata": {},
   "source": [
    "## Klasy znaków"
   ]
  },
  {
   "cell_type": "markdown",
   "metadata": {},
   "source": [
    "W powyższym przykładzie wykorzystaliśmy tzw. klasy znaków `\\d` oraz `\\w`. Klasy te reprezentują grupy znaków, które często pojawiają się w wyrażeniach regularnych. `\\d` oznacza cyfry dziesiętne, a `\\w` litery oraz cyfry."
   ]
  },
  {
   "cell_type": "markdown",
   "metadata": {},
   "source": [
    "Jeśli chcemy określić, że na danej pozycji może wystąpić jeden spośród kilku znaków możemy skorzystać z własnych klasy znaków. Możemy podać bezpośrednio wszystkie znaki, które mogą być dopasowane na danej pozycji:\n",
    "```ruby\n",
    "\"Ala\" =~ /[AO]la/\n",
    "```"
   ]
  },
  {
   "cell_type": "code",
   "execution_count": 29,
   "metadata": {
    "collapsed": false
   },
   "outputs": [
    {
     "data": {
      "text/plain": [
       "0"
      ]
     },
     "execution_count": 29,
     "metadata": {},
     "output_type": "execute_result"
    }
   ],
   "source": [
    "\"Ala\" =~ /[AO]la/"
   ]
  },
  {
   "cell_type": "markdown",
   "metadata": {},
   "source": [
    "```ruby\n",
    "\"Ola\" =~ /[AO]la/\n",
    "```"
   ]
  },
  {
   "cell_type": "code",
   "execution_count": 30,
   "metadata": {
    "collapsed": false
   },
   "outputs": [
    {
     "data": {
      "text/plain": [
       "0"
      ]
     },
     "execution_count": 30,
     "metadata": {},
     "output_type": "execute_result"
    }
   ],
   "source": [
    "\"Ola\" =~ /[AO]la/"
   ]
  },
  {
   "cell_type": "markdown",
   "metadata": {},
   "source": [
    "```ruby\n",
    "\"Jola\" =~ /[AO]la/\n",
    "```"
   ]
  },
  {
   "cell_type": "code",
   "execution_count": 32,
   "metadata": {
    "collapsed": false
   },
   "outputs": [],
   "source": [
    "\"Jola\" =~ /[AO]la/"
   ]
  },
  {
   "cell_type": "markdown",
   "metadata": {},
   "source": [
    "Możemy również podać zakres liter bądź cyfr. Należy jednak pamiętać, że zakresy te nie obejmują liter z polskimi znakami diakrytycznymi:\n",
    "```ruby\n",
    "\"Ala\" =~ /[A-Z]la/\n",
    "```"
   ]
  },
  {
   "cell_type": "code",
   "execution_count": 33,
   "metadata": {
    "collapsed": false
   },
   "outputs": [
    {
     "data": {
      "text/plain": [
       "0"
      ]
     },
     "execution_count": 33,
     "metadata": {},
     "output_type": "execute_result"
    }
   ],
   "source": [
    "\"Ala\" =~ /[A-Z]la/"
   ]
  },
  {
   "cell_type": "markdown",
   "metadata": {},
   "source": [
    "```ruby\n",
    "\"Óla\" =~ /[A-Z]la/\n",
    "```"
   ]
  },
  {
   "cell_type": "code",
   "execution_count": 38,
   "metadata": {
    "collapsed": false
   },
   "outputs": [
    {
     "data": {
      "text/plain": [
       "0"
      ]
     },
     "execution_count": 38,
     "metadata": {},
     "output_type": "execute_result"
    }
   ],
   "source": [
    "\"Óla\" =~ /\\p{L}la/"
   ]
  },
  {
   "cell_type": "markdown",
   "metadata": {},
   "source": [
    "Najczęściej wykorzystywane klasy znaków\n",
    "\n",
    "| Symbol | Znaczenie |\n",
    "|--------|-----------|\n",
    "| .      | dowolny znak |\n",
    "| \\d     | cyfra dziesiętna |\n",
    "| \\D     | coś innego niż cyfra dziesiętna |\n",
    "| \\s     | białe spacje |\n",
    "| \\S     | coś innego niż białe spacje |\n",
    "| \\w     | litery i cyfry alfabetu łacińskiego |\n",
    "| \\W     | coś innego niż litery i cyfry alfabetu łacińskiego |\n",
    "| \\p{L}  | litery różnych alfabetów |\n",
    "| \\p{Lu} | duże litery różnych alfabetów |\n",
    "| \\p{Ll} | małe litery różnych alfabetów |"
   ]
  },
  {
   "cell_type": "code",
   "execution_count": 36,
   "metadata": {
    "collapsed": false
   },
   "outputs": [
    {
     "data": {
      "text/plain": [
       "\"ala\""
      ]
     },
     "execution_count": 36,
     "metadata": {},
     "output_type": "execute_result"
    }
   ],
   "source": []
  },
  {
   "cell_type": "markdown",
   "metadata": {},
   "source": [
    "### Zadanie 3"
   ]
  },
  {
   "cell_type": "markdown",
   "metadata": {},
   "source": [
    "Napisz wyrażenie, które dopasowuje się do napisów rozpoczynających się wielką literą. Uwzględnij napisy takie jak: _Łódź_ oraz _Żaneta_."
   ]
  },
  {
   "cell_type": "code",
   "execution_count": 105,
   "metadata": {
    "collapsed": false
   },
   "outputs": [
    {
     "data": {
      "text/plain": [
       "0"
      ]
     },
     "execution_count": 105,
     "metadata": {},
     "output_type": "execute_result"
    }
   ],
   "source": [
    "napis = \"Łódź\"\n",
    "napis =~ /^\\p{Lu}\\p{Ll}*$/\n"
   ]
  },
  {
   "cell_type": "markdown",
   "metadata": {},
   "source": [
    "## Krotność"
   ]
  },
  {
   "cell_type": "markdown",
   "metadata": {},
   "source": [
    "W wyrażeniach regularnych często oczekujemy, że określony znak lub grupa znaków pojawi się określoną ilość razy. \n",
    "Można wtedy powtórzyć wystąpienia tych znaków lub grup znaków, jak w przypadku dopasowania kodu pocztowego\n",
    "```ruby\n",
    "\"00-700\" =~ /\\d\\d-\\d\\d\\d/\n",
    "```\n",
    "Można jednak zkorzystać z możliwości określenia krotności\n",
    "```ruby\n",
    "\"00-700\" =~ /\\d{2}-\\d{3}/\n",
    "```"
   ]
  },
  {
   "cell_type": "code",
   "execution_count": 106,
   "metadata": {
    "collapsed": false
   },
   "outputs": [
    {
     "data": {
      "text/plain": [
       "0"
      ]
     },
     "execution_count": 106,
     "metadata": {},
     "output_type": "execute_result"
    }
   ],
   "source": [
    "\"00-700\" =~ /^\\d{2}-\\d{3}$/"
   ]
  },
  {
   "cell_type": "markdown",
   "metadata": {},
   "source": [
    "Krotność może być określona \"sztywno\", bądź może obejmować zakres:\n",
    "```ruby\n",
    "\"aaa\" =~ /a{2,4}/\n",
    "```"
   ]
  },
  {
   "cell_type": "code",
   "execution_count": null,
   "metadata": {
    "collapsed": false
   },
   "outputs": [],
   "source": []
  },
  {
   "cell_type": "markdown",
   "metadata": {},
   "source": [
    "```ruby\n",
    "\"aaaaa\" =~ /a{2,4}/\n",
    "```"
   ]
  },
  {
   "cell_type": "code",
   "execution_count": null,
   "metadata": {
    "collapsed": false
   },
   "outputs": [],
   "source": []
  },
  {
   "cell_type": "markdown",
   "metadata": {},
   "source": [
    "Często oczekujemy, że określone elementy wystąpią zero albo więcej razy. Wykorzystujemy wtedy gwiazdkę\n",
    "```ruby\n",
    "\"aabbbcc\" =~ /ab*c/\n",
    "```"
   ]
  },
  {
   "cell_type": "code",
   "execution_count": null,
   "metadata": {
    "collapsed": false
   },
   "outputs": [],
   "source": []
  },
  {
   "cell_type": "markdown",
   "metadata": {},
   "source": [
    "```ruby\n",
    "\"aacc\" =~ /ab*c/\n",
    "```"
   ]
  },
  {
   "cell_type": "code",
   "execution_count": null,
   "metadata": {
    "collapsed": false
   },
   "outputs": [],
   "source": []
  },
  {
   "cell_type": "markdown",
   "metadata": {},
   "source": [
    "Podobnie działają operatory `+` oraz `?`. Pierwszy wymaga jednak, aby dany znak wystąpił co najmniej jeden raz:\n",
    "```ruby\n",
    "\"aabbbcc\" =~ /ab+c/\n",
    "```"
   ]
  },
  {
   "cell_type": "code",
   "execution_count": null,
   "metadata": {
    "collapsed": false
   },
   "outputs": [],
   "source": []
  },
  {
   "cell_type": "markdown",
   "metadata": {},
   "source": [
    "```ruby\n",
    "\"aacc\" =~ /ab+c/\n",
    "```"
   ]
  },
  {
   "cell_type": "code",
   "execution_count": null,
   "metadata": {
    "collapsed": false
   },
   "outputs": [],
   "source": []
  },
  {
   "cell_type": "markdown",
   "metadata": {},
   "source": [
    "Natomiast `?` oznacza, że element jest opcjonalny, tzn. może wystąpić 0 lub 1 raz\n",
    "```ruby\n",
    "\"-5\" =~ /-?\\d+/\n",
    "```"
   ]
  },
  {
   "cell_type": "code",
   "execution_count": null,
   "metadata": {
    "collapsed": false
   },
   "outputs": [],
   "source": []
  },
  {
   "cell_type": "markdown",
   "metadata": {},
   "source": [
    "```ruby\n",
    "\"123\" =~ /-?\\d+/\n",
    "```"
   ]
  },
  {
   "cell_type": "markdown",
   "metadata": {},
   "source": [
    "### Zadanie 4"
   ]
  },
  {
   "cell_type": "markdown",
   "metadata": {},
   "source": [
    "Napisz wyrażenie, które dopasuje się do kodu pocztowego i nazw miast występujących w Polsce. Uwzględnij fakt, że nazwa miasta powinna zaczynać się wielką literą. Przetestuj działanie wyrażenia na następujących danych testowych:\n",
    "* 00-700 Warszawa\n",
    "* 44-196 Knurów\n",
    "* 30-383 kraków (nie powinno zostać dopasowane)\n",
    "* 43-300 Bielsko-Biała\n",
    "* 91-474 ŁóDź (nie powinno zostać dopasowane)\n",
    "* 11-11 Polska-Japonia (nie powinno zostać dopasowane)"
   ]
  },
  {
   "cell_type": "code",
   "execution_count": 4,
   "metadata": {
    "collapsed": false
   },
   "outputs": [
    {
     "data": {
      "text/plain": [
       "0"
      ]
     },
     "execution_count": 4,
     "metadata": {},
     "output_type": "execute_result"
    }
   ],
   "source": [
    "\"34-500 Bielsko Biała\" =~ /^\\d{2}-\\d{3} \\p{Lu}\\p{Ll}*([ -]\\p{Lu}\\p{Ll}*)*$/"
   ]
  },
  {
   "cell_type": "markdown",
   "metadata": {},
   "source": [
    "## Kotwice"
   ]
  },
  {
   "cell_type": "markdown",
   "metadata": {},
   "source": [
    "Ostatnim ważnym elementem pojawiającym się w wyrażeniach regularnych są kotiwce - czyli takie miejsca w napisie, które nie odpowiadają konkretnemu znakowi, lecz pewnej granicy - np. granicy pomiędzy słowem a białą spacją. \n",
    "Do najczęściej stosowanych kotwic należą\n",
    "\n",
    "| Symbol  | Znaczenie |\n",
    "|---------|-----------|\n",
    "| ^       | Początek wiersza |\n",
    "| $       | Koniec wiersza |\n",
    "| \\A      | Początek napisu |\n",
    "| \\z      | Koniec napisu |\n",
    "| \\b      | granica słowa |\n",
    "\n",
    "Przykładowo jeśli chcemy dopasować \"Ala\", ale tylko wtedy gdy pojawia się na początku wiersza, musimy użyć kotwicy:\n",
    "```ruby\n",
    "\"Ala ma kota\" =~ /^Ala/\n",
    "```"
   ]
  },
  {
   "cell_type": "code",
   "execution_count": null,
   "metadata": {
    "collapsed": false
   },
   "outputs": [],
   "source": []
  },
  {
   "cell_type": "markdown",
   "metadata": {},
   "source": [
    "```ruby\n",
    "\"To kot, a to Ala\" =~ /^Ala/\n",
    "```"
   ]
  },
  {
   "cell_type": "code",
   "execution_count": null,
   "metadata": {
    "collapsed": false
   },
   "outputs": [],
   "source": []
  },
  {
   "cell_type": "markdown",
   "metadata": {},
   "source": [
    "Kotwica `\\b` przydaje się jeśli chcemy np. podzielić napis względem granic słów:\n",
    "```ruby\n",
    "\"Ala ma kota\".split(/\\b/)\n",
    "```"
   ]
  },
  {
   "cell_type": "code",
   "execution_count": 30,
   "metadata": {
    "collapsed": false
   },
   "outputs": [],
   "source": []
  },
  {
   "cell_type": "markdown",
   "metadata": {},
   "source": [
    "Dzięki niej możemy również upewnić się, że dopasowujemy konkretne słowo, a nie literę wewnątrz słowa. Porównaj\n",
    "```ruby\n",
    "\"Ania i Kasia\" =~ /i/\n",
    "```"
   ]
  },
  {
   "cell_type": "code",
   "execution_count": null,
   "metadata": {
    "collapsed": false
   },
   "outputs": [],
   "source": []
  },
  {
   "cell_type": "markdown",
   "metadata": {},
   "source": [
    "```ruby\n",
    "\"Ania i Kasia\" =~ /\\bi\\b/\n",
    "```"
   ]
  },
  {
   "cell_type": "code",
   "execution_count": null,
   "metadata": {
    "collapsed": false
   },
   "outputs": [],
   "source": []
  },
  {
   "cell_type": "markdown",
   "metadata": {},
   "source": [
    "### Zadanie 5"
   ]
  },
  {
   "cell_type": "markdown",
   "metadata": {},
   "source": [
    "Napisz algorytm, które z adresu URL wyodrębnia:\n",
    "* protokół\n",
    "* adres hosta\n",
    "* numer portu (opcjonalny)\n",
    "* ścieżkę\n",
    "* zapytanie\n",
    "* fragment dokumentu\n",
    "\n",
    "Przykładowy adres do testowania:\n",
    "http://www.wp.pl:8080/aktualnosci/krakow/1112.html?id=5#tresc\n",
    "\n",
    "Powinniśmy otrzymać następujący wynik końcowy:\n",
    "```\n",
    "protokół: http\n",
    "host: www.wp.pl\n",
    "port: 8080\n",
    "ścieżka: /aktualnosci/krakow/1112.html\n",
    "zapytanie: id=5\n",
    "fragment: tresc\n",
    "```"
   ]
  },
  {
   "cell_type": "code",
   "execution_count": 35,
   "metadata": {
    "collapsed": false
   },
   "outputs": [
    {
     "name": "stdout",
     "output_type": "stream",
     "text": [
      "protokol: http\n",
      "host: www.wp.pl\n",
      "port: 8080\n",
      "sciezka: /aktualnosci/krakow/1112.html\n",
      "zapytanie: id=5\n",
      "fragment: tresc\n"
     ]
    }
   ],
   "source": [
    "matched = /([^:]+):\\/\\/([^:]+):(\\d{4})([^?]+)\\?([^#]+)#([^$]+)$/.match(\"http://www.wp.pl:8080/aktualnosci/krakow/1112.html?id=5#tresc\")\n",
    "puts 'protokol: %s' % matched[1]\n",
    "puts 'host: %s' % matched[2]\n",
    "puts 'port: %s' % matched[3]\n",
    "puts 'sciezka: %s' % matched[4]\n",
    "puts 'zapytanie: %s' % matched[5]\n",
    "puts 'fragment: %s' % matched[6]\n",
    "\n"
   ]
  }
 ],
 "metadata": {
  "kernelspec": {
   "display_name": "Ruby 2.2.3",
   "language": "ruby",
   "name": "ruby"
  },
  "language_info": {
   "file_extension": "rb",
   "mimetype": "application/x-ruby",
   "name": "ruby",
   "version": "2.2.3"
  }
 },
 "nbformat": 4,
 "nbformat_minor": 0
}
